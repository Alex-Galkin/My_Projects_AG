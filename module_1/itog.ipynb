{
 "cells": [
  {
   "cell_type": "code",
   "execution_count": 1,
   "metadata": {},
   "outputs": [
    {
     "name": "stdout",
     "output_type": "stream",
     "text": [
      "<class 'pandas.core.frame.DataFrame'>\n",
      "RangeIndex: 1889 entries, 0 to 1888\n",
      "Data columns (total 14 columns):\n",
      " #   Column                Non-Null Count  Dtype  \n",
      "---  ------                --------------  -----  \n",
      " 0   imdb_id               1889 non-null   object \n",
      " 1   budget                1889 non-null   int64  \n",
      " 2   revenue               1889 non-null   int64  \n",
      " 3   original_title        1889 non-null   object \n",
      " 4   cast                  1889 non-null   object \n",
      " 5   director              1889 non-null   object \n",
      " 6   tagline               1889 non-null   object \n",
      " 7   overview              1889 non-null   object \n",
      " 8   runtime               1889 non-null   int64  \n",
      " 9   genres                1889 non-null   object \n",
      " 10  production_companies  1889 non-null   object \n",
      " 11  release_date          1889 non-null   object \n",
      " 12  vote_average          1889 non-null   float64\n",
      " 13  release_year          1889 non-null   int64  \n",
      "dtypes: float64(1), int64(4), object(9)\n",
      "memory usage: 206.7+ KB\n"
     ]
    },
    {
     "data": {
      "text/html": [
       "<div>\n",
       "<style scoped>\n",
       "    .dataframe tbody tr th:only-of-type {\n",
       "        vertical-align: middle;\n",
       "    }\n",
       "\n",
       "    .dataframe tbody tr th {\n",
       "        vertical-align: top;\n",
       "    }\n",
       "\n",
       "    .dataframe thead th {\n",
       "        text-align: right;\n",
       "    }\n",
       "</style>\n",
       "<table border=\"1\" class=\"dataframe\">\n",
       "  <thead>\n",
       "    <tr style=\"text-align: right;\">\n",
       "      <th></th>\n",
       "      <th>imdb_id</th>\n",
       "      <th>budget</th>\n",
       "      <th>revenue</th>\n",
       "      <th>original_title</th>\n",
       "      <th>cast</th>\n",
       "      <th>director</th>\n",
       "      <th>tagline</th>\n",
       "      <th>overview</th>\n",
       "      <th>runtime</th>\n",
       "      <th>genres</th>\n",
       "      <th>production_companies</th>\n",
       "      <th>release_date</th>\n",
       "      <th>vote_average</th>\n",
       "      <th>release_year</th>\n",
       "    </tr>\n",
       "  </thead>\n",
       "  <tbody>\n",
       "    <tr>\n",
       "      <th>1245</th>\n",
       "      <td>tt1210819</td>\n",
       "      <td>255000000</td>\n",
       "      <td>89289910</td>\n",
       "      <td>The Lone Ranger</td>\n",
       "      <td>Johnny Depp|Armie Hammer|William Fichtner|Hele...</td>\n",
       "      <td>Gore Verbinski</td>\n",
       "      <td>Never Take Off the Mask</td>\n",
       "      <td>The Texas Rangers chase down a gang of outlaws...</td>\n",
       "      <td>149</td>\n",
       "      <td>Action|Adventure|Western</td>\n",
       "      <td>Walt Disney Pictures|Jerry Bruckheimer Films|I...</td>\n",
       "      <td>7/3/2013</td>\n",
       "      <td>6.00</td>\n",
       "      <td>2013</td>\n",
       "    </tr>\n",
       "  </tbody>\n",
       "</table>\n",
       "</div>"
      ],
      "text/plain": [
       "        imdb_id     budget   revenue   original_title  \\\n",
       "1245  tt1210819  255000000  89289910  The Lone Ranger   \n",
       "\n",
       "                                                   cast        director  \\\n",
       "1245  Johnny Depp|Armie Hammer|William Fichtner|Hele...  Gore Verbinski   \n",
       "\n",
       "                      tagline  \\\n",
       "1245  Never Take Off the Mask   \n",
       "\n",
       "                                               overview  runtime  \\\n",
       "1245  The Texas Rangers chase down a gang of outlaws...      149   \n",
       "\n",
       "                        genres  \\\n",
       "1245  Action|Adventure|Western   \n",
       "\n",
       "                                   production_companies release_date  \\\n",
       "1245  Walt Disney Pictures|Jerry Bruckheimer Films|I...     7/3/2013   \n",
       "\n",
       "      vote_average  release_year  \n",
       "1245          6.00          2013  "
      ]
     },
     "execution_count": 1,
     "metadata": {},
     "output_type": "execute_result"
    }
   ],
   "source": [
    "import pandas as pd\n",
    "pd.options.display.float_format = '{:,.2f}'.format\n",
    "\n",
    "data = pd.read_csv('/Users/admin/Desktop/Dst-31/movie_bd_v5.csv')\n",
    "#data.describe()\n",
    "data.info()\n",
    "data.original_title.value_counts()\n",
    "\n",
    "#data.drop_duplicates(subset = 'imdb_id', keep = 'first', inplace = True)\n",
    "#data[(data.imdb_id == 'tt1966566') & (data.imdb_id == 'tt4178092')]\n",
    "data[data.imdb_id == 'tt1210819']"
   ]
  },
  {
   "cell_type": "code",
   "execution_count": 5,
   "metadata": {},
   "outputs": [
    {
     "data": {
      "text/html": [
       "<div>\n",
       "<style scoped>\n",
       "    .dataframe tbody tr th:only-of-type {\n",
       "        vertical-align: middle;\n",
       "    }\n",
       "\n",
       "    .dataframe tbody tr th {\n",
       "        vertical-align: top;\n",
       "    }\n",
       "\n",
       "    .dataframe thead th {\n",
       "        text-align: right;\n",
       "    }\n",
       "</style>\n",
       "<table border=\"1\" class=\"dataframe\">\n",
       "  <thead>\n",
       "    <tr style=\"text-align: right;\">\n",
       "      <th></th>\n",
       "      <th>budget</th>\n",
       "      <th>revenue</th>\n",
       "      <th>runtime</th>\n",
       "      <th>vote_average</th>\n",
       "      <th>release_year</th>\n",
       "    </tr>\n",
       "  </thead>\n",
       "  <tbody>\n",
       "    <tr>\n",
       "      <th>count</th>\n",
       "      <td>1,889.00</td>\n",
       "      <td>1,889.00</td>\n",
       "      <td>1,889.00</td>\n",
       "      <td>1,889.00</td>\n",
       "      <td>1,889.00</td>\n",
       "    </tr>\n",
       "    <tr>\n",
       "      <th>mean</th>\n",
       "      <td>54,310,829.64</td>\n",
       "      <td>155,365,321.08</td>\n",
       "      <td>109.66</td>\n",
       "      <td>6.14</td>\n",
       "      <td>2,007.86</td>\n",
       "    </tr>\n",
       "    <tr>\n",
       "      <th>std</th>\n",
       "      <td>48,587,207.45</td>\n",
       "      <td>214,669,813.15</td>\n",
       "      <td>18.02</td>\n",
       "      <td>0.76</td>\n",
       "      <td>4.47</td>\n",
       "    </tr>\n",
       "    <tr>\n",
       "      <th>min</th>\n",
       "      <td>5,000,000.00</td>\n",
       "      <td>2,033,165.00</td>\n",
       "      <td>63.00</td>\n",
       "      <td>3.30</td>\n",
       "      <td>2,000.00</td>\n",
       "    </tr>\n",
       "    <tr>\n",
       "      <th>25%</th>\n",
       "      <td>20,000,000.00</td>\n",
       "      <td>34,560,577.00</td>\n",
       "      <td>97.00</td>\n",
       "      <td>5.60</td>\n",
       "      <td>2,004.00</td>\n",
       "    </tr>\n",
       "    <tr>\n",
       "      <th>50%</th>\n",
       "      <td>38,000,000.00</td>\n",
       "      <td>83,615,414.00</td>\n",
       "      <td>107.00</td>\n",
       "      <td>6.10</td>\n",
       "      <td>2,008.00</td>\n",
       "    </tr>\n",
       "    <tr>\n",
       "      <th>75%</th>\n",
       "      <td>72,000,000.00</td>\n",
       "      <td>178,262,620.00</td>\n",
       "      <td>120.00</td>\n",
       "      <td>6.60</td>\n",
       "      <td>2,012.00</td>\n",
       "    </tr>\n",
       "    <tr>\n",
       "      <th>max</th>\n",
       "      <td>380,000,000.00</td>\n",
       "      <td>2,781,505,847.00</td>\n",
       "      <td>214.00</td>\n",
       "      <td>8.10</td>\n",
       "      <td>2,015.00</td>\n",
       "    </tr>\n",
       "  </tbody>\n",
       "</table>\n",
       "</div>"
      ],
      "text/plain": [
       "              budget          revenue  runtime  vote_average  release_year\n",
       "count       1,889.00         1,889.00 1,889.00      1,889.00      1,889.00\n",
       "mean   54,310,829.64   155,365,321.08   109.66          6.14      2,007.86\n",
       "std    48,587,207.45   214,669,813.15    18.02          0.76          4.47\n",
       "min     5,000,000.00     2,033,165.00    63.00          3.30      2,000.00\n",
       "25%    20,000,000.00    34,560,577.00    97.00          5.60      2,004.00\n",
       "50%    38,000,000.00    83,615,414.00   107.00          6.10      2,008.00\n",
       "75%    72,000,000.00   178,262,620.00   120.00          6.60      2,012.00\n",
       "max   380,000,000.00 2,781,505,847.00   214.00          8.10      2,015.00"
      ]
     },
     "execution_count": 5,
     "metadata": {},
     "output_type": "execute_result"
    }
   ],
   "source": [
    "import pandas as pd\n",
    "pd.options.display.float_format = '{:,.2f}'.format\n",
    "\n",
    "data = pd.read_csv('C:/Users/Alex_65/My_First_Experience/module_1/movie_bd_v5.csv')\n",
    "data.describe()"
   ]
  },
  {
   "cell_type": "code",
   "execution_count": 7,
   "metadata": {},
   "outputs": [
    {
     "data": {
      "text/html": [
       "<div>\n",
       "<style scoped>\n",
       "    .dataframe tbody tr th:only-of-type {\n",
       "        vertical-align: middle;\n",
       "    }\n",
       "\n",
       "    .dataframe tbody tr th {\n",
       "        vertical-align: top;\n",
       "    }\n",
       "\n",
       "    .dataframe thead th {\n",
       "        text-align: right;\n",
       "    }\n",
       "</style>\n",
       "<table border=\"1\" class=\"dataframe\">\n",
       "  <thead>\n",
       "    <tr style=\"text-align: right;\">\n",
       "      <th></th>\n",
       "      <th>imdb_id</th>\n",
       "      <th>budget</th>\n",
       "      <th>revenue</th>\n",
       "      <th>original_title</th>\n",
       "      <th>cast</th>\n",
       "      <th>director</th>\n",
       "      <th>tagline</th>\n",
       "      <th>overview</th>\n",
       "      <th>runtime</th>\n",
       "      <th>genres</th>\n",
       "      <th>production_companies</th>\n",
       "      <th>release_date</th>\n",
       "      <th>vote_average</th>\n",
       "      <th>release_year</th>\n",
       "    </tr>\n",
       "  </thead>\n",
       "  <tbody>\n",
       "    <tr>\n",
       "      <th>0</th>\n",
       "      <td>tt0369610</td>\n",
       "      <td>150000000</td>\n",
       "      <td>1513528810</td>\n",
       "      <td>Jurassic World</td>\n",
       "      <td>Chris Pratt|Bryce Dallas Howard|Irrfan Khan|Vi...</td>\n",
       "      <td>Colin Trevorrow</td>\n",
       "      <td>The park is open.</td>\n",
       "      <td>Twenty-two years after the events of Jurassic ...</td>\n",
       "      <td>124</td>\n",
       "      <td>Action|Adventure|Science Fiction|Thriller</td>\n",
       "      <td>Universal Studios|Amblin Entertainment|Legenda...</td>\n",
       "      <td>6/9/2015</td>\n",
       "      <td>6.50</td>\n",
       "      <td>2015</td>\n",
       "    </tr>\n",
       "    <tr>\n",
       "      <th>1</th>\n",
       "      <td>tt1392190</td>\n",
       "      <td>150000000</td>\n",
       "      <td>378436354</td>\n",
       "      <td>Mad Max: Fury Road</td>\n",
       "      <td>Tom Hardy|Charlize Theron|Hugh Keays-Byrne|Nic...</td>\n",
       "      <td>George Miller</td>\n",
       "      <td>What a Lovely Day.</td>\n",
       "      <td>An apocalyptic story set in the furthest reach...</td>\n",
       "      <td>120</td>\n",
       "      <td>Action|Adventure|Science Fiction|Thriller</td>\n",
       "      <td>Village Roadshow Pictures|Kennedy Miller Produ...</td>\n",
       "      <td>5/13/2015</td>\n",
       "      <td>7.10</td>\n",
       "      <td>2015</td>\n",
       "    </tr>\n",
       "    <tr>\n",
       "      <th>2</th>\n",
       "      <td>tt2908446</td>\n",
       "      <td>110000000</td>\n",
       "      <td>295238201</td>\n",
       "      <td>Insurgent</td>\n",
       "      <td>Shailene Woodley|Theo James|Kate Winslet|Ansel...</td>\n",
       "      <td>Robert Schwentke</td>\n",
       "      <td>One Choice Can Destroy You</td>\n",
       "      <td>Beatrice Prior must confront her inner demons ...</td>\n",
       "      <td>119</td>\n",
       "      <td>Adventure|Science Fiction|Thriller</td>\n",
       "      <td>Summit Entertainment|Mandeville Films|Red Wago...</td>\n",
       "      <td>3/18/2015</td>\n",
       "      <td>6.30</td>\n",
       "      <td>2015</td>\n",
       "    </tr>\n",
       "    <tr>\n",
       "      <th>3</th>\n",
       "      <td>tt2488496</td>\n",
       "      <td>200000000</td>\n",
       "      <td>2068178225</td>\n",
       "      <td>Star Wars: The Force Awakens</td>\n",
       "      <td>Harrison Ford|Mark Hamill|Carrie Fisher|Adam D...</td>\n",
       "      <td>J.J. Abrams</td>\n",
       "      <td>Every generation has a story.</td>\n",
       "      <td>Thirty years after defeating the Galactic Empi...</td>\n",
       "      <td>136</td>\n",
       "      <td>Action|Adventure|Science Fiction|Fantasy</td>\n",
       "      <td>Lucasfilm|Truenorth Productions|Bad Robot</td>\n",
       "      <td>12/15/2015</td>\n",
       "      <td>7.50</td>\n",
       "      <td>2015</td>\n",
       "    </tr>\n",
       "    <tr>\n",
       "      <th>4</th>\n",
       "      <td>tt2820852</td>\n",
       "      <td>190000000</td>\n",
       "      <td>1506249360</td>\n",
       "      <td>Furious 7</td>\n",
       "      <td>Vin Diesel|Paul Walker|Jason Statham|Michelle ...</td>\n",
       "      <td>James Wan</td>\n",
       "      <td>Vengeance Hits Home</td>\n",
       "      <td>Deckard Shaw seeks revenge against Dominic Tor...</td>\n",
       "      <td>137</td>\n",
       "      <td>Action|Crime|Thriller</td>\n",
       "      <td>Universal Pictures|Original Film|Media Rights ...</td>\n",
       "      <td>4/1/2015</td>\n",
       "      <td>7.30</td>\n",
       "      <td>2015</td>\n",
       "    </tr>\n",
       "  </tbody>\n",
       "</table>\n",
       "</div>"
      ],
      "text/plain": [
       "     imdb_id     budget     revenue                original_title  \\\n",
       "0  tt0369610  150000000  1513528810                Jurassic World   \n",
       "1  tt1392190  150000000   378436354            Mad Max: Fury Road   \n",
       "2  tt2908446  110000000   295238201                     Insurgent   \n",
       "3  tt2488496  200000000  2068178225  Star Wars: The Force Awakens   \n",
       "4  tt2820852  190000000  1506249360                     Furious 7   \n",
       "\n",
       "                                                cast          director  \\\n",
       "0  Chris Pratt|Bryce Dallas Howard|Irrfan Khan|Vi...   Colin Trevorrow   \n",
       "1  Tom Hardy|Charlize Theron|Hugh Keays-Byrne|Nic...     George Miller   \n",
       "2  Shailene Woodley|Theo James|Kate Winslet|Ansel...  Robert Schwentke   \n",
       "3  Harrison Ford|Mark Hamill|Carrie Fisher|Adam D...       J.J. Abrams   \n",
       "4  Vin Diesel|Paul Walker|Jason Statham|Michelle ...         James Wan   \n",
       "\n",
       "                         tagline  \\\n",
       "0              The park is open.   \n",
       "1             What a Lovely Day.   \n",
       "2     One Choice Can Destroy You   \n",
       "3  Every generation has a story.   \n",
       "4            Vengeance Hits Home   \n",
       "\n",
       "                                            overview  runtime  \\\n",
       "0  Twenty-two years after the events of Jurassic ...      124   \n",
       "1  An apocalyptic story set in the furthest reach...      120   \n",
       "2  Beatrice Prior must confront her inner demons ...      119   \n",
       "3  Thirty years after defeating the Galactic Empi...      136   \n",
       "4  Deckard Shaw seeks revenge against Dominic Tor...      137   \n",
       "\n",
       "                                      genres  \\\n",
       "0  Action|Adventure|Science Fiction|Thriller   \n",
       "1  Action|Adventure|Science Fiction|Thriller   \n",
       "2         Adventure|Science Fiction|Thriller   \n",
       "3   Action|Adventure|Science Fiction|Fantasy   \n",
       "4                      Action|Crime|Thriller   \n",
       "\n",
       "                                production_companies release_date  \\\n",
       "0  Universal Studios|Amblin Entertainment|Legenda...     6/9/2015   \n",
       "1  Village Roadshow Pictures|Kennedy Miller Produ...    5/13/2015   \n",
       "2  Summit Entertainment|Mandeville Films|Red Wago...    3/18/2015   \n",
       "3          Lucasfilm|Truenorth Productions|Bad Robot   12/15/2015   \n",
       "4  Universal Pictures|Original Film|Media Rights ...     4/1/2015   \n",
       "\n",
       "   vote_average  release_year  \n",
       "0          6.50          2015  \n",
       "1          7.10          2015  \n",
       "2          6.30          2015  \n",
       "3          7.50          2015  \n",
       "4          7.30          2015  "
      ]
     },
     "execution_count": 7,
     "metadata": {},
     "output_type": "execute_result"
    }
   ],
   "source": [
    "import pandas as pd\n",
    "pd.options.display.float_format = '{:,.2f}'.format\n",
    "\n",
    "data = pd.read_csv('C:/Users/Alex_65/My_First_Experience/module_1/movie_bd_v5.csv')\n",
    "data.runtime()"
   ]
  },
  {
   "cell_type": "code",
   "execution_count": 78,
   "metadata": {},
   "outputs": [
    {
     "name": "stdout",
     "output_type": "stream",
     "text": [
      "<class 'pandas.core.frame.DataFrame'>\n",
      "RangeIndex: 1889 entries, 0 to 1888\n",
      "Data columns (total 15 columns):\n",
      " #   Column                Non-Null Count  Dtype         \n",
      "---  ------                --------------  -----         \n",
      " 0   imdb_id               1889 non-null   object        \n",
      " 1   budget                1889 non-null   int64         \n",
      " 2   revenue               1889 non-null   int64         \n",
      " 3   original_title        1889 non-null   object        \n",
      " 4   cast                  1889 non-null   object        \n",
      " 5   director              1889 non-null   object        \n",
      " 6   tagline               1889 non-null   object        \n",
      " 7   overview              1889 non-null   object        \n",
      " 8   runtime               1889 non-null   int64         \n",
      " 9   genres                1889 non-null   object        \n",
      " 10  production_companies  1889 non-null   object        \n",
      " 11  release_date          1889 non-null   datetime64[ns]\n",
      " 12  vote_average          1889 non-null   float64       \n",
      " 13  release_year          1889 non-null   int64         \n",
      " 14  profit                1889 non-null   int64         \n",
      "dtypes: datetime64[ns](1), float64(1), int64(5), object(8)\n",
      "memory usage: 221.5+ KB\n"
     ]
    },
    {
     "data": {
      "text/html": [
       "<div>\n",
       "<style scoped>\n",
       "    .dataframe tbody tr th:only-of-type {\n",
       "        vertical-align: middle;\n",
       "    }\n",
       "\n",
       "    .dataframe tbody tr th {\n",
       "        vertical-align: top;\n",
       "    }\n",
       "\n",
       "    .dataframe thead th {\n",
       "        text-align: right;\n",
       "    }\n",
       "</style>\n",
       "<table border=\"1\" class=\"dataframe\">\n",
       "  <thead>\n",
       "    <tr style=\"text-align: right;\">\n",
       "      <th></th>\n",
       "      <th>imdb_id</th>\n",
       "      <th>budget</th>\n",
       "      <th>revenue</th>\n",
       "      <th>original_title</th>\n",
       "      <th>cast</th>\n",
       "      <th>director</th>\n",
       "      <th>tagline</th>\n",
       "      <th>overview</th>\n",
       "      <th>runtime</th>\n",
       "      <th>genres</th>\n",
       "      <th>production_companies</th>\n",
       "      <th>release_date</th>\n",
       "      <th>vote_average</th>\n",
       "      <th>release_year</th>\n",
       "      <th>profit</th>\n",
       "    </tr>\n",
       "  </thead>\n",
       "  <tbody>\n",
       "    <tr>\n",
       "      <th>55</th>\n",
       "      <td>tt1502712</td>\n",
       "      <td>120000001</td>\n",
       "      <td>167977596</td>\n",
       "      <td>Fantastic Four</td>\n",
       "      <td>Miles Teller|Kate Mara|Michael B. Jordan|Jamie...</td>\n",
       "      <td>Josh Trank</td>\n",
       "      <td>Change is coming.</td>\n",
       "      <td>Four young outsiders teleport to a dangerous u...</td>\n",
       "      <td>100</td>\n",
       "      <td>Action|Adventure|Science Fiction</td>\n",
       "      <td>Twentieth Century Fox Film Corporation|Marv Fi...</td>\n",
       "      <td>2015-08-05</td>\n",
       "      <td>4.40</td>\n",
       "      <td>2015</td>\n",
       "      <td>47977595</td>\n",
       "    </tr>\n",
       "    <tr>\n",
       "      <th>75</th>\n",
       "      <td>tt4178092</td>\n",
       "      <td>5000000</td>\n",
       "      <td>58978653</td>\n",
       "      <td>The Gift</td>\n",
       "      <td>Jason Bateman|Rebecca Hall|Joel Edgerton|David...</td>\n",
       "      <td>Joel Edgerton</td>\n",
       "      <td>Not every gift is welcome.</td>\n",
       "      <td>A husband and wife try to reinvigorate their r...</td>\n",
       "      <td>108</td>\n",
       "      <td>Thriller|Mystery</td>\n",
       "      <td>Blumhouse Productions|Blue-Tongue Films|STX En...</td>\n",
       "      <td>2015-07-30</td>\n",
       "      <td>6.60</td>\n",
       "      <td>2015</td>\n",
       "      <td>53978653</td>\n",
       "    </tr>\n",
       "    <tr>\n",
       "      <th>1322</th>\n",
       "      <td>tt0120667</td>\n",
       "      <td>100000000</td>\n",
       "      <td>330579719</td>\n",
       "      <td>Fantastic Four</td>\n",
       "      <td>Ioan Gruffudd|Jessica Alba|Chris Evans|Michael...</td>\n",
       "      <td>Tim Story</td>\n",
       "      <td>4 times the action. 4 times the adventure. 4 t...</td>\n",
       "      <td>During a space voyage, four scientists are alt...</td>\n",
       "      <td>106</td>\n",
       "      <td>Action|Adventure|Fantasy|Science Fiction</td>\n",
       "      <td>Twentieth Century Fox Film Corporation|1492 Pi...</td>\n",
       "      <td>2005-07-07</td>\n",
       "      <td>5.60</td>\n",
       "      <td>2005</td>\n",
       "      <td>230579719</td>\n",
       "    </tr>\n",
       "    <tr>\n",
       "      <th>1834</th>\n",
       "      <td>tt0219699</td>\n",
       "      <td>10000000</td>\n",
       "      <td>12008642</td>\n",
       "      <td>The Gift</td>\n",
       "      <td>Cate Blanchett|Giovanni Ribisi|Keanu Reeves|Ka...</td>\n",
       "      <td>Sam Raimi</td>\n",
       "      <td>The only witness to the crime was not even there.</td>\n",
       "      <td>When a local woman disappears and the police c...</td>\n",
       "      <td>111</td>\n",
       "      <td>Horror|Drama|Thriller|Mystery</td>\n",
       "      <td>Lakeshore Entertainment|Alphaville Films</td>\n",
       "      <td>2000-12-22</td>\n",
       "      <td>6.20</td>\n",
       "      <td>2000</td>\n",
       "      <td>2008642</td>\n",
       "    </tr>\n",
       "  </tbody>\n",
       "</table>\n",
       "</div>"
      ],
      "text/plain": [
       "        imdb_id     budget    revenue  original_title  \\\n",
       "55    tt1502712  120000001  167977596  Fantastic Four   \n",
       "75    tt4178092    5000000   58978653        The Gift   \n",
       "1322  tt0120667  100000000  330579719  Fantastic Four   \n",
       "1834  tt0219699   10000000   12008642        The Gift   \n",
       "\n",
       "                                                   cast       director  \\\n",
       "55    Miles Teller|Kate Mara|Michael B. Jordan|Jamie...     Josh Trank   \n",
       "75    Jason Bateman|Rebecca Hall|Joel Edgerton|David...  Joel Edgerton   \n",
       "1322  Ioan Gruffudd|Jessica Alba|Chris Evans|Michael...      Tim Story   \n",
       "1834  Cate Blanchett|Giovanni Ribisi|Keanu Reeves|Ka...      Sam Raimi   \n",
       "\n",
       "                                                tagline  \\\n",
       "55                                    Change is coming.   \n",
       "75                           Not every gift is welcome.   \n",
       "1322  4 times the action. 4 times the adventure. 4 t...   \n",
       "1834  The only witness to the crime was not even there.   \n",
       "\n",
       "                                               overview  runtime  \\\n",
       "55    Four young outsiders teleport to a dangerous u...      100   \n",
       "75    A husband and wife try to reinvigorate their r...      108   \n",
       "1322  During a space voyage, four scientists are alt...      106   \n",
       "1834  When a local woman disappears and the police c...      111   \n",
       "\n",
       "                                        genres  \\\n",
       "55            Action|Adventure|Science Fiction   \n",
       "75                            Thriller|Mystery   \n",
       "1322  Action|Adventure|Fantasy|Science Fiction   \n",
       "1834             Horror|Drama|Thriller|Mystery   \n",
       "\n",
       "                                   production_companies release_date  \\\n",
       "55    Twentieth Century Fox Film Corporation|Marv Fi...   2015-08-05   \n",
       "75    Blumhouse Productions|Blue-Tongue Films|STX En...   2015-07-30   \n",
       "1322  Twentieth Century Fox Film Corporation|1492 Pi...   2005-07-07   \n",
       "1834           Lakeshore Entertainment|Alphaville Films   2000-12-22   \n",
       "\n",
       "      vote_average  release_year     profit  \n",
       "55            4.40          2015   47977595  \n",
       "75            6.60          2015   53978653  \n",
       "1322          5.60          2005  230579719  \n",
       "1834          6.20          2000    2008642  "
      ]
     },
     "metadata": {},
     "output_type": "display_data"
    }
   ],
   "source": [
    "'''Предобработка'''\n",
    "import pandas as pd\n",
    "from itertools import combinations\n",
    "\n",
    "def f_ser(list): # Функция разделения списка и превращения его в серию (Задачи 11-17, 24, 25)\n",
    "    return pd.Series(list.split('|'))\n",
    "\n",
    "def wint(dt): # Функция выделения месяца из даты типа datetime (Задача 23)\n",
    "    a = dt.timetuple()\n",
    "    month = a[1]\n",
    "    if month< 3 or month>11: # Проверка на зимний период\n",
    "        return 1 # Если зимний месяц\n",
    "    else:\n",
    "        return 0\n",
    "    \n",
    "def words_count(strng): # Функция подсчета слов в предложении по количеству пробелов (Задача 25)\n",
    "    while strng.find('  ') > 0:\n",
    "        strng = strng.replace('  ', ' ')\n",
    "    return len(strng.split(' '))\n",
    "\n",
    "def cmb(list): # Функция разделения списка и формирования комбинаций (Задача 27)\n",
    "    a = sorted(list.split('|')) # Разделение списка и его сортировка (обязательно!!!)\n",
    "    s = pd.Series([''])\n",
    "    i = 0\n",
    "    for item in combinations(a, 2): # Формирование пар имен\n",
    "        s[i] = ' & '.join(item) \n",
    "        i += 1\n",
    "    return s\n",
    "\n",
    "\n",
    "pd.options.display.float_format = '{:,.2f}'.format # Отображение данных: 2 знака после запятой\n",
    "\n",
    "data = pd.read_csv('/Users/admin/Desktop/Dst-31/movie_bd_v5.csv') # Считывание рабочего датасета\n",
    "\n",
    "data['profit'] = data.revenue-data.budget # Добавляем в таблицу столбец прибыли\n",
    "\n",
    "data['release_date'] = pd.to_datetime(data.release_date, format='%m/%d/%Y') # Перевод даты string в тип datetime\n",
    "\n",
    "data.info()\n",
    "data.describe()\n",
    "\n",
    "data.imdb_id.value_counts() # Проверка на неповторяемость Id фильмов\n",
    "\n",
    "data.original_title.value_counts() # Проверка на неповторяемость названий фильмов: выявлено 2 фильма с одинаковыми названиями\n",
    "\n",
    "'''Убеждаемся, что фильмы с одинаковыми названиями все-таки разные'''\n",
    "display(data[(data.original_title == 'Fantastic Four') | (data.original_title == 'The Gift')])"
   ]
  },
  {
   "cell_type": "code",
   "execution_count": 63,
   "metadata": {},
   "outputs": [
    {
     "data": {
      "text/plain": [
       "'Задача 1: У какого фильма из списка самый большой бюджет?'"
      ]
     },
     "metadata": {},
     "output_type": "display_data"
    },
    {
     "data": {
      "text/html": [
       "<div>\n",
       "<style scoped>\n",
       "    .dataframe tbody tr th:only-of-type {\n",
       "        vertical-align: middle;\n",
       "    }\n",
       "\n",
       "    .dataframe tbody tr th {\n",
       "        vertical-align: top;\n",
       "    }\n",
       "\n",
       "    .dataframe thead th {\n",
       "        text-align: right;\n",
       "    }\n",
       "</style>\n",
       "<table border=\"1\" class=\"dataframe\">\n",
       "  <thead>\n",
       "    <tr style=\"text-align: right;\">\n",
       "      <th></th>\n",
       "      <th>imdb_id</th>\n",
       "      <th>original_title</th>\n",
       "      <th>budget</th>\n",
       "    </tr>\n",
       "  </thead>\n",
       "  <tbody>\n",
       "    <tr>\n",
       "      <th>723</th>\n",
       "      <td>tt1298650</td>\n",
       "      <td>Pirates of the Caribbean: On Stranger Tides</td>\n",
       "      <td>380000000</td>\n",
       "    </tr>\n",
       "  </tbody>\n",
       "</table>\n",
       "</div>"
      ],
      "text/plain": [
       "       imdb_id                               original_title     budget\n",
       "723  tt1298650  Pirates of the Caribbean: On Stranger Tides  380000000"
      ]
     },
     "metadata": {},
     "output_type": "display_data"
    }
   ],
   "source": [
    "'''Задача 1: У какого фильма из списка самый большой бюджет? (Вариант 1)'''\n",
    "result_1 = data[data.budget == data.budget.max()][['imdb_id', 'original_title', 'budget']]\n",
    "\n",
    "display('Задача 1: У какого фильма из списка самый большой бюджет?', result_1)"
   ]
  },
  {
   "cell_type": "code",
   "execution_count": 66,
   "metadata": {},
   "outputs": [
    {
     "data": {
      "text/plain": [
       "'Задача 1: У какого фильма из списка самый большой бюджет?'"
      ]
     },
     "metadata": {},
     "output_type": "display_data"
    },
    {
     "data": {
      "text/html": [
       "<div>\n",
       "<style scoped>\n",
       "    .dataframe tbody tr th:only-of-type {\n",
       "        vertical-align: middle;\n",
       "    }\n",
       "\n",
       "    .dataframe tbody tr th {\n",
       "        vertical-align: top;\n",
       "    }\n",
       "\n",
       "    .dataframe thead th {\n",
       "        text-align: right;\n",
       "    }\n",
       "</style>\n",
       "<table border=\"1\" class=\"dataframe\">\n",
       "  <thead>\n",
       "    <tr style=\"text-align: right;\">\n",
       "      <th></th>\n",
       "      <th>imdb_id</th>\n",
       "      <th>original_title</th>\n",
       "      <th>budget</th>\n",
       "    </tr>\n",
       "  </thead>\n",
       "  <tbody>\n",
       "    <tr>\n",
       "      <th>723</th>\n",
       "      <td>tt1298650</td>\n",
       "      <td>Pirates of the Caribbean: On Stranger Tides</td>\n",
       "      <td>380000000</td>\n",
       "    </tr>\n",
       "  </tbody>\n",
       "</table>\n",
       "</div>"
      ],
      "text/plain": [
       "       imdb_id                               original_title     budget\n",
       "723  tt1298650  Pirates of the Caribbean: On Stranger Tides  380000000"
      ]
     },
     "metadata": {},
     "output_type": "display_data"
    }
   ],
   "source": [
    "'''Задача 1: У какого фильма из списка самый большой бюджет? (Вариант 2)'''\n",
    "result_1 = data.query('budget==budget.max()')[['imdb_id', 'original_title', 'budget']]\n",
    "\n",
    "display('Задача 1: У какого фильма из списка самый большой бюджет?', result_1)"
   ]
  },
  {
   "cell_type": "code",
   "execution_count": 6,
   "metadata": {},
   "outputs": [
    {
     "data": {
      "text/plain": [
       "'Задача 2: Какой из фильмов самый длительный (в минутах)?'"
      ]
     },
     "metadata": {},
     "output_type": "display_data"
    },
    {
     "data": {
      "text/html": [
       "<div>\n",
       "<style scoped>\n",
       "    .dataframe tbody tr th:only-of-type {\n",
       "        vertical-align: middle;\n",
       "    }\n",
       "\n",
       "    .dataframe tbody tr th {\n",
       "        vertical-align: top;\n",
       "    }\n",
       "\n",
       "    .dataframe thead th {\n",
       "        text-align: right;\n",
       "    }\n",
       "</style>\n",
       "<table border=\"1\" class=\"dataframe\">\n",
       "  <thead>\n",
       "    <tr style=\"text-align: right;\">\n",
       "      <th></th>\n",
       "      <th>imdb_id</th>\n",
       "      <th>original_title</th>\n",
       "      <th>runtime</th>\n",
       "    </tr>\n",
       "  </thead>\n",
       "  <tbody>\n",
       "    <tr>\n",
       "      <th>1157</th>\n",
       "      <td>tt0279111</td>\n",
       "      <td>Gods and Generals</td>\n",
       "      <td>214</td>\n",
       "    </tr>\n",
       "  </tbody>\n",
       "</table>\n",
       "</div>"
      ],
      "text/plain": [
       "        imdb_id     original_title  runtime\n",
       "1157  tt0279111  Gods and Generals      214"
      ]
     },
     "metadata": {},
     "output_type": "display_data"
    }
   ],
   "source": [
    "'''Задача 2: Какой из фильмов самый длительный (в минутах)?'''\n",
    "result_2 = data[data.runtime == data.runtime.max()][['imdb_id', 'original_title', 'runtime']]\n",
    "\n",
    "display('Задача 2: Какой из фильмов самый длительный (в минутах)?', result_2)"
   ]
  },
  {
   "cell_type": "code",
   "execution_count": 7,
   "metadata": {},
   "outputs": [
    {
     "data": {
      "text/plain": [
       "'Задача 3: Какой из фильмов самый короткий (в минутах)?'"
      ]
     },
     "metadata": {},
     "output_type": "display_data"
    },
    {
     "data": {
      "text/html": [
       "<div>\n",
       "<style scoped>\n",
       "    .dataframe tbody tr th:only-of-type {\n",
       "        vertical-align: middle;\n",
       "    }\n",
       "\n",
       "    .dataframe tbody tr th {\n",
       "        vertical-align: top;\n",
       "    }\n",
       "\n",
       "    .dataframe thead th {\n",
       "        text-align: right;\n",
       "    }\n",
       "</style>\n",
       "<table border=\"1\" class=\"dataframe\">\n",
       "  <thead>\n",
       "    <tr style=\"text-align: right;\">\n",
       "      <th></th>\n",
       "      <th>imdb_id</th>\n",
       "      <th>original_title</th>\n",
       "      <th>runtime</th>\n",
       "    </tr>\n",
       "  </thead>\n",
       "  <tbody>\n",
       "    <tr>\n",
       "      <th>768</th>\n",
       "      <td>tt1449283</td>\n",
       "      <td>Winnie the Pooh</td>\n",
       "      <td>63</td>\n",
       "    </tr>\n",
       "  </tbody>\n",
       "</table>\n",
       "</div>"
      ],
      "text/plain": [
       "       imdb_id   original_title  runtime\n",
       "768  tt1449283  Winnie the Pooh       63"
      ]
     },
     "metadata": {},
     "output_type": "display_data"
    }
   ],
   "source": [
    "'''Задача 3: Какой из фильмов самый короткий (в минутах)?'''\n",
    "result_3 = data[data.runtime == data.runtime.min()][['imdb_id', 'original_title', 'runtime']]\n",
    "\n",
    "display('Задача 3: Какой из фильмов самый короткий (в минутах)?', result_3)"
   ]
  },
  {
   "cell_type": "code",
   "execution_count": 6,
   "metadata": {},
   "outputs": [
    {
     "data": {
      "text/plain": [
       "'Задача 4: Какова средняя длительность фильмов?'"
      ]
     },
     "metadata": {},
     "output_type": "display_data"
    },
    {
     "data": {
      "text/plain": [
       "109.6585494970884"
      ]
     },
     "metadata": {},
     "output_type": "display_data"
    }
   ],
   "source": [
    "'''Задача 4: Какова средняя длительность фильмов?'''\n",
    "result_4 = data.runtime.mean()\n",
    "\n",
    "display('Задача 4: Какова средняя длительность фильмов?', result_4)"
   ]
  },
  {
   "cell_type": "code",
   "execution_count": 7,
   "metadata": {},
   "outputs": [
    {
     "data": {
      "text/plain": [
       "'Задача 5: Каково медианное значение длительности фильмов?'"
      ]
     },
     "metadata": {},
     "output_type": "display_data"
    },
    {
     "data": {
      "text/plain": [
       "107.0"
      ]
     },
     "metadata": {},
     "output_type": "display_data"
    }
   ],
   "source": [
    "'''Задача 5: Каково медианное значение длительности фильмов?'''\n",
    "result_5 = data.runtime.median()\n",
    "\n",
    "display('Задача 5: Каково медианное значение длительности фильмов?', result_5)"
   ]
  },
  {
   "cell_type": "code",
   "execution_count": 8,
   "metadata": {},
   "outputs": [
    {
     "data": {
      "text/plain": [
       "'Задача 6: Какой самый прибыльный фильм?'"
      ]
     },
     "metadata": {},
     "output_type": "display_data"
    },
    {
     "data": {
      "text/html": [
       "<div>\n",
       "<style scoped>\n",
       "    .dataframe tbody tr th:only-of-type {\n",
       "        vertical-align: middle;\n",
       "    }\n",
       "\n",
       "    .dataframe tbody tr th {\n",
       "        vertical-align: top;\n",
       "    }\n",
       "\n",
       "    .dataframe thead th {\n",
       "        text-align: right;\n",
       "    }\n",
       "</style>\n",
       "<table border=\"1\" class=\"dataframe\">\n",
       "  <thead>\n",
       "    <tr style=\"text-align: right;\">\n",
       "      <th></th>\n",
       "      <th>imdb_id</th>\n",
       "      <th>original_title</th>\n",
       "      <th>profit</th>\n",
       "    </tr>\n",
       "  </thead>\n",
       "  <tbody>\n",
       "    <tr>\n",
       "      <th>239</th>\n",
       "      <td>tt0499549</td>\n",
       "      <td>Avatar</td>\n",
       "      <td>2544505847</td>\n",
       "    </tr>\n",
       "  </tbody>\n",
       "</table>\n",
       "</div>"
      ],
      "text/plain": [
       "       imdb_id original_title      profit\n",
       "239  tt0499549         Avatar  2544505847"
      ]
     },
     "metadata": {},
     "output_type": "display_data"
    }
   ],
   "source": [
    "'''Задача 6: Какой самый прибыльный фильм?'''\n",
    "result_6 = data[data.profit == data.profit.max()][['imdb_id', 'original_title', 'profit']]\n",
    "\n",
    "display('Задача 6: Какой самый прибыльный фильм?', result_6)"
   ]
  },
  {
   "cell_type": "code",
   "execution_count": 9,
   "metadata": {},
   "outputs": [
    {
     "data": {
      "text/plain": [
       "'Задача 7: Какой фильм самый убыточный?'"
      ]
     },
     "metadata": {},
     "output_type": "display_data"
    },
    {
     "data": {
      "text/html": [
       "<div>\n",
       "<style scoped>\n",
       "    .dataframe tbody tr th:only-of-type {\n",
       "        vertical-align: middle;\n",
       "    }\n",
       "\n",
       "    .dataframe tbody tr th {\n",
       "        vertical-align: top;\n",
       "    }\n",
       "\n",
       "    .dataframe thead th {\n",
       "        text-align: right;\n",
       "    }\n",
       "</style>\n",
       "<table border=\"1\" class=\"dataframe\">\n",
       "  <thead>\n",
       "    <tr style=\"text-align: right;\">\n",
       "      <th></th>\n",
       "      <th>imdb_id</th>\n",
       "      <th>original_title</th>\n",
       "      <th>profit</th>\n",
       "    </tr>\n",
       "  </thead>\n",
       "  <tbody>\n",
       "    <tr>\n",
       "      <th>1245</th>\n",
       "      <td>tt1210819</td>\n",
       "      <td>The Lone Ranger</td>\n",
       "      <td>-165710090</td>\n",
       "    </tr>\n",
       "  </tbody>\n",
       "</table>\n",
       "</div>"
      ],
      "text/plain": [
       "        imdb_id   original_title     profit\n",
       "1245  tt1210819  The Lone Ranger -165710090"
      ]
     },
     "metadata": {},
     "output_type": "display_data"
    }
   ],
   "source": [
    "'''Задача 7: Какой фильм самый убыточный?'''\n",
    "result_7 = data[data.profit == data.profit.min()][['imdb_id', 'original_title', 'profit']]\n",
    "\n",
    "display('Задача 7: Какой фильм самый убыточный?', result_7)"
   ]
  },
  {
   "cell_type": "code",
   "execution_count": 11,
   "metadata": {},
   "outputs": [
    {
     "data": {
      "text/plain": [
       "'Задача 8: У скольких фильмов из датасета объем сборов оказался выше бюджета?'"
      ]
     },
     "metadata": {},
     "output_type": "display_data"
    },
    {
     "data": {
      "text/plain": [
       "1478"
      ]
     },
     "metadata": {},
     "output_type": "display_data"
    }
   ],
   "source": [
    "'''Задача 8: У скольких фильмов из датасета объем сборов оказался выше бюджета?'''\n",
    "result_8 = data[data.profit > 0].imdb_id.count()\n",
    "\n",
    "display('Задача 8: У скольких фильмов из датасета объем сборов оказался выше бюджета?', result_8)"
   ]
  },
  {
   "cell_type": "code",
   "execution_count": 68,
   "metadata": {},
   "outputs": [
    {
     "data": {
      "text/plain": [
       "'Задача 9: Какой фильм оказался самым кассовым в 2008 году?'"
      ]
     },
     "metadata": {},
     "output_type": "display_data"
    },
    {
     "data": {
      "text/html": [
       "<div>\n",
       "<style scoped>\n",
       "    .dataframe tbody tr th:only-of-type {\n",
       "        vertical-align: middle;\n",
       "    }\n",
       "\n",
       "    .dataframe tbody tr th {\n",
       "        vertical-align: top;\n",
       "    }\n",
       "\n",
       "    .dataframe thead th {\n",
       "        text-align: right;\n",
       "    }\n",
       "</style>\n",
       "<table border=\"1\" class=\"dataframe\">\n",
       "  <thead>\n",
       "    <tr style=\"text-align: right;\">\n",
       "      <th></th>\n",
       "      <th>imdb_id</th>\n",
       "      <th>original_title</th>\n",
       "      <th>revenue</th>\n",
       "    </tr>\n",
       "  </thead>\n",
       "  <tbody>\n",
       "    <tr>\n",
       "      <th>599</th>\n",
       "      <td>tt0468569</td>\n",
       "      <td>The Dark Knight</td>\n",
       "      <td>1001921825</td>\n",
       "    </tr>\n",
       "  </tbody>\n",
       "</table>\n",
       "</div>"
      ],
      "text/plain": [
       "       imdb_id   original_title     revenue\n",
       "599  tt0468569  The Dark Knight  1001921825"
      ]
     },
     "metadata": {},
     "output_type": "display_data"
    }
   ],
   "source": [
    "'''Задача 9: Какой фильм оказался самым кассовым в 2008 году?'''\n",
    "tmp9 = data[data.release_year == 2008] # Оставляем только фильмы за 2008 год\n",
    "result_9 = group_data9[tmp9.revenue == tmp9.revenue.max()][['imdb_id', 'original_title', 'revenue']]\n",
    "\n",
    "display('Задача 9: Какой фильм оказался самым кассовым в 2008 году?', result_9)"
   ]
  },
  {
   "cell_type": "code",
   "execution_count": 239,
   "metadata": {},
   "outputs": [
    {
     "data": {
      "text/plain": [
       "'Задача 10: Самый убыточный фильм за период с 2012 по 2014 г. (включительно)?'"
      ]
     },
     "metadata": {},
     "output_type": "display_data"
    },
    {
     "data": {
      "text/html": [
       "<div>\n",
       "<style scoped>\n",
       "    .dataframe tbody tr th:only-of-type {\n",
       "        vertical-align: middle;\n",
       "    }\n",
       "\n",
       "    .dataframe tbody tr th {\n",
       "        vertical-align: top;\n",
       "    }\n",
       "\n",
       "    .dataframe thead th {\n",
       "        text-align: right;\n",
       "    }\n",
       "</style>\n",
       "<table border=\"1\" class=\"dataframe\">\n",
       "  <thead>\n",
       "    <tr style=\"text-align: right;\">\n",
       "      <th></th>\n",
       "      <th>imdb_id</th>\n",
       "      <th>original_title</th>\n",
       "      <th>profit</th>\n",
       "    </tr>\n",
       "  </thead>\n",
       "  <tbody>\n",
       "    <tr>\n",
       "      <th>1245</th>\n",
       "      <td>tt1210819</td>\n",
       "      <td>The Lone Ranger</td>\n",
       "      <td>-165710090</td>\n",
       "    </tr>\n",
       "  </tbody>\n",
       "</table>\n",
       "</div>"
      ],
      "text/plain": [
       "        imdb_id   original_title     profit\n",
       "1245  tt1210819  The Lone Ranger -165710090"
      ]
     },
     "metadata": {},
     "output_type": "display_data"
    }
   ],
   "source": [
    "'''Задача 10: Самый убыточный фильм за период с 2012 по 2014 г. (включительно)?'''\n",
    "tmp10 = data.query('2011<release_year<2015') # Оставляем только фильмы за 2012-2014 годы\n",
    "result_10 = tmp10[tmp10.profit == tmp10.profit.min()][['imdb_id', 'original_title', 'profit']]\n",
    "\n",
    "display('Задача 10: Самый убыточный фильм за период с 2012 по 2014 г. (включительно)?', result_10)"
   ]
  },
  {
   "cell_type": "code",
   "execution_count": 227,
   "metadata": {},
   "outputs": [
    {
     "data": {
      "text/plain": [
       "'Задача 11: Какого жанра фильмов больше всего?'"
      ]
     },
     "metadata": {},
     "output_type": "display_data"
    },
    {
     "data": {
      "text/plain": [
       "Drama       782\n",
       "Comedy      683\n",
       "Thriller    596\n",
       "dtype: int64"
      ]
     },
     "metadata": {},
     "output_type": "display_data"
    }
   ],
   "source": [
    "'''Задача 11: Какого жанра фильмов больше всего? (Вариант 1)'''\n",
    "srs11 = pd.Series('')\n",
    "gnr11 = data.genres.apply(f_ser) # Формируем таблицу из жанров по каждому фильму...\n",
    "\n",
    "for i in range(len(gnr11.columns)): # ... и определяем количество её столбцов\n",
    "    srs11 = pd.concat([srs11, gnr11[i]]) # Объединяем столбцы таблицы в один стобец\n",
    "\n",
    "result_11 = srs11.value_counts() # Ранжируем результат\n",
    "\n",
    "display('Задача 11: Какого жанра фильмов больше всего?', result_11.head(3))"
   ]
  },
  {
   "cell_type": "code",
   "execution_count": 226,
   "metadata": {},
   "outputs": [
    {
     "data": {
      "text/plain": [
       "'Задача 11: Какого жанра фильмов больше всего?'"
      ]
     },
     "metadata": {},
     "output_type": "display_data"
    },
    {
     "data": {
      "text/plain": [
       "Drama       782\n",
       "Comedy      683\n",
       "Thriller    596\n",
       "dtype: int64"
      ]
     },
     "metadata": {},
     "output_type": "display_data"
    }
   ],
   "source": [
    "'''Задача 11: Какого жанра фильмов больше всего? (Вариант 2)'''\n",
    "srs11 = pd.Series('')\n",
    "\n",
    "for a in data.genres: # ...формируем список жанров фильмов (Series)...\n",
    "    srs11 = srs11.append(f_ser(a))\n",
    "\n",
    "result_11 = srs11.value_counts() # ...и получаем результат\n",
    "display('Задача 11: Какого жанра фильмов больше всего?', result_11.head(3))"
   ]
  },
  {
   "cell_type": "code",
   "execution_count": 225,
   "metadata": {},
   "outputs": [
    {
     "data": {
      "text/plain": [
       "'Задача 12: Фильмы какого жанра чаще всего становятся прибыльными?'"
      ]
     },
     "metadata": {},
     "output_type": "display_data"
    },
    {
     "data": {
      "text/plain": [
       "Drama       560\n",
       "Comedy      551\n",
       "Thriller    446\n",
       "dtype: int64"
      ]
     },
     "metadata": {},
     "output_type": "display_data"
    }
   ],
   "source": [
    "'''Задача 12: Фильмы какого жанра чаще всего становятся прибыльными? (Вариант 1)'''\n",
    "srs12 = pd.Series('')\n",
    "gnr12 = data[data.profit > 0].genres.apply(f_ser) # Формируем таблицу из жанров по каждому фильму, имеющему прибыль\n",
    "\n",
    "for i in range(len(gnr12.columns)):\n",
    "    srs12 = pd.concat([srs12, gnr12[i]]) # Объединяем столбцы таблицы в один стобец\n",
    "\n",
    "result_12 = srs12.value_counts() # Ранжируем результат\n",
    "display('Задача 12: Фильмы какого жанра чаще всего становятся прибыльными?', result_12.head(3))"
   ]
  },
  {
   "cell_type": "code",
   "execution_count": 224,
   "metadata": {},
   "outputs": [
    {
     "data": {
      "text/plain": [
       "'Задача 12: Фильмы какого жанра чаще всего становятся прибыльными?'"
      ]
     },
     "metadata": {},
     "output_type": "display_data"
    },
    {
     "data": {
      "text/plain": [
       "Drama       560\n",
       "Comedy      551\n",
       "Thriller    446\n",
       "dtype: int64"
      ]
     },
     "metadata": {},
     "output_type": "display_data"
    }
   ],
   "source": [
    "'''Задача 12: Фильмы какого жанра чаще всего становятся прибыльными? (Вариант 2)'''\n",
    "srs12 = pd.Series('')\n",
    "tmp_12 = data[data.profit > 0] # Оставляем только фильмы, имеющие прибыль...\n",
    "\n",
    "for a in tmp_12.genres: # ...формируем список жанров таких фильмов (Series)...\n",
    "    srs12 = srs12.append(f_ser(a))\n",
    "\n",
    "tmp_12 = srs12.value_counts() # ...и получаем результат\n",
    "\n",
    "display('Задача 12: Фильмы какого жанра чаще всего становятся прибыльными?', result_12.head(3))"
   ]
  },
  {
   "cell_type": "code",
   "execution_count": 228,
   "metadata": {},
   "outputs": [
    {
     "data": {
      "text/plain": [
       "'Задача 13: У какого режиссера самые большие суммарные кассовые сборы?'"
      ]
     },
     "metadata": {},
     "output_type": "display_data"
    },
    {
     "data": {
      "text/plain": [
       "Peter Jackson       6,490,593,685.00\n",
       "Christopher Nolan   4,167,548,502.00\n",
       "David Yates         4,154,295,625.00\n",
       "Name: 0, dtype: float64"
      ]
     },
     "metadata": {},
     "output_type": "display_data"
    }
   ],
   "source": [
    "'''Задача 13: У какого режиссера самые большие суммарные кассовые сборы?'''\n",
    "result_13 = pd.DataFrame()\n",
    "\n",
    "tmp_13 = data.director.apply(f_ser) # Формируем таблицу из режиссеров по каждому фильму\n",
    "l_colmn = len(tmp_13.columns)\n",
    "tmp_13[l_colmn] = data.revenue # Добавляем в таблицу столбец с кассовыми сборами\n",
    "\n",
    "for i in range(l_colmn): # Формируем таблицу из двух столбцов: Режиссер + Кассовые сборы\n",
    "    result_13 = pd.concat([result_13, tmp_13.groupby([i])[l_colmn].sum()])\n",
    "\n",
    "result_13 = result_13.groupby([result_13.index])[0].sum().sort_values(ascending=False) # Сортировка по кассовым сборам\n",
    "\n",
    "display('Задача 13: У какого режиссера самые большие суммарные кассовые сборы?',result_13.head(3))"
   ]
  },
  {
   "cell_type": "code",
   "execution_count": 233,
   "metadata": {},
   "outputs": [
    {
     "data": {
      "text/plain": [
       "'Задача 14: Какой режисер снял больше всего фильмов в стиле Action?'"
      ]
     },
     "metadata": {},
     "output_type": "display_data"
    },
    {
     "data": {
      "text/plain": [
       "Robert Rodriguez      9\n",
       "Michael Bay           7\n",
       "Paul W.S. Anderson    7\n",
       "dtype: int64"
      ]
     },
     "metadata": {},
     "output_type": "display_data"
    }
   ],
   "source": [
    "'''Задача 14: Какой режисер снял больше всего фильмов в стиле Action? (Вариант 1)'''\n",
    "srs2 = pd.Series('')\n",
    "tmp_14 = data[data.genres.str.contains('Action')].director.apply(f_ser) # Таблица из режиссеров фильмов в стиле Action\n",
    "\n",
    "for i in range(len(tmp_14.columns)): # Объединяем столбцы таблицы в один стобец \n",
    "    srs2 = pd.concat([srs2, tmp_14[i]])\n",
    "\n",
    "result_14 = srs2.value_counts() # Считаем количество фильмов для каждого режиссера\n",
    "\n",
    "display('Задача 14: Какой режисер снял больше всего фильмов в стиле Action?', result_14.head(3))"
   ]
  },
  {
   "cell_type": "code",
   "execution_count": 232,
   "metadata": {},
   "outputs": [
    {
     "data": {
      "text/plain": [
       "'Задача 14: Какой режисер снял больше всего фильмов в стиле Action?'"
      ]
     },
     "metadata": {},
     "output_type": "display_data"
    },
    {
     "data": {
      "text/plain": [
       "Robert Rodriguez      9\n",
       "Michael Bay           7\n",
       "Paul W.S. Anderson    7\n",
       "dtype: int64"
      ]
     },
     "metadata": {},
     "output_type": "display_data"
    }
   ],
   "source": [
    "'''Задача 14: Какой режисер снял больше всего фильмов в стиле Action? (Вариант 2)'''\n",
    "srs2 = pd.Series('')\n",
    "tmp_14 = data[data.genres.str.contains('Action')] # Оставляем только фильмы в стиле Action...\n",
    "\n",
    "for a in tmp_14.director: # ...формируем список режиссеров, снимавших такие фильмы (Series)...\n",
    "    srs2 = srs2.append(f_ser(a))\n",
    "\n",
    "result_14 = srs2.value_counts() # ...и получаем результат\n",
    "\n",
    "display('Задача 14: Какой режисер снял больше всего фильмов в стиле Action?', result_14.head(3))"
   ]
  },
  {
   "cell_type": "code",
   "execution_count": 230,
   "metadata": {},
   "outputs": [
    {
     "data": {
      "text/plain": [
       "'Задача 15: Фильмы с каким актером принесли самые высокие кассовые сборы в 2012 году?'"
      ]
     },
     "metadata": {},
     "output_type": "display_data"
    },
    {
     "data": {
      "text/plain": [
       "Chris Hemsworth   2,027,450,773.00\n",
       "Denis Leary       1,629,460,639.00\n",
       "Anne Hathaway     1,522,851,057.00\n",
       "Name: 0, dtype: float64"
      ]
     },
     "metadata": {},
     "output_type": "display_data"
    }
   ],
   "source": [
    "'''Задача 15: Фильмы с каким актером принесли самые высокие кассовые сборы в 2012 году?'''\n",
    "result_15 = pd.DataFrame()\n",
    "\n",
    "filtr = data[data.release_year == 2012] # Ограничиваем круг поиска фильмов\n",
    "tmp_15 = filtr.cast.apply(f_ser) # Формируем таблицу из актеров по каждому фильму\n",
    "l_colmn = len(tmp_15.columns) # Считаем количество столбцов полученной таблицы\n",
    "tmp_15[l_colmn] = filtr.revenue # Добавляем в таблицу столбец с кассовыми сборами\n",
    "\n",
    "for i in range(l_colmn): # Формируем таблицу из двух столбцов: Актер + Кассовые сборы\n",
    "    result_15 = pd.concat([result_15, tmp_15.groupby([i])[l_colmn].sum()])\n",
    "\n",
    "result_15 = result_15.groupby([result_15.index])[0].sum().sort_values(ascending=False) # Сортировка по кассовым сборам\n",
    "\n",
    "display('Задача 15: Фильмы с каким актером принесли самые высокие кассовые сборы в 2012 году?',result_15.head(3))"
   ]
  },
  {
   "cell_type": "code",
   "execution_count": 231,
   "metadata": {},
   "outputs": [
    {
     "data": {
      "text/plain": [
       "'Задача 16: Какой актер снялся в большем количестве высокобюджетных фильмов?'"
      ]
     },
     "metadata": {},
     "output_type": "display_data"
    },
    {
     "data": {
      "text/plain": [
       "Matt Damon        18\n",
       "Adam Sandler      17\n",
       "Angelina Jolie    16\n",
       "dtype: int64"
      ]
     },
     "metadata": {},
     "output_type": "display_data"
    }
   ],
   "source": [
    "'''Задача 16: Какой актер снялся в большем количестве высокобюджетных фильмов? (Вариант 1)'''\n",
    "result_16 = pd.Series('')\n",
    "tmp_16 = data[data.budget > data.budget.mean()].cast.apply(f_ser) # Таблица из актеров по фильмам с бюджетом выше среднего\n",
    "\n",
    "for i in range(len(tmp_16.columns)): # Объединяем столбцы таблицы в один стобец с актерами\n",
    "    result_16 = pd.concat([result_16, tmp_16[i]])\n",
    "\n",
    "display('Задача 16: Какой актер снялся в большем количестве высокобюджетных фильмов?', result_16.value_counts().head(3))"
   ]
  },
  {
   "cell_type": "code",
   "execution_count": 220,
   "metadata": {},
   "outputs": [
    {
     "data": {
      "text/plain": [
       "'Задача 16: Какой актер снялся в большем количестве высокобюджетных фильмов?'"
      ]
     },
     "metadata": {},
     "output_type": "display_data"
    },
    {
     "data": {
      "text/plain": [
       "Matt Damon        18\n",
       "Adam Sandler      17\n",
       "Angelina Jolie    16\n",
       "dtype: int64"
      ]
     },
     "metadata": {},
     "output_type": "display_data"
    }
   ],
   "source": [
    "'''Задача 16: Какой актер снялся в большем количестве высокобюджетных фильмов?  (Вариант 2)'''\n",
    "result_16 = pd.Series('')\n",
    "tmp_16 = data[data.budget > data.budget.mean()] # Оставляем фильмы с бюджетом выше среднего...\n",
    "\n",
    "for a in tmp_16.cast: # ...и формируем список актеров, снявшихся в таких фильмах (Series)\n",
    "    result_16 = result_16.append(f_ser(a))\n",
    "\n",
    "display('Задача 16: Какой актер снялся в большем количестве высокобюджетных фильмов?', result_16.value_counts().head(3))"
   ]
  },
  {
   "cell_type": "code",
   "execution_count": 218,
   "metadata": {},
   "outputs": [
    {
     "data": {
      "text/plain": [
       "'Задача 17: В фильмах какого жанра больше всего снимался Nicolas Cage?'"
      ]
     },
     "metadata": {},
     "output_type": "display_data"
    },
    {
     "data": {
      "text/plain": [
       "Action      17\n",
       "Thriller    15\n",
       "Drama       12\n",
       "dtype: int64"
      ]
     },
     "metadata": {},
     "output_type": "display_data"
    }
   ],
   "source": [
    "'''Задача 17. В фильмах какого жанра больше всего снимался Nicolas Cage? (Вариант 1)'''\n",
    "result_17 = pd.Series('')\n",
    "tmp_17 = data[data.cast.str.contains('Nicolas Cage')].genres.apply(f_ser) # Оставляем только фильмы с Nicolas Cage...\n",
    "\n",
    "for i in range(len(tmp_17.columns)): # ...сводим все жанры с его участием в один столбец\n",
    "    result_17 = pd.concat([result_17, tmp_17[i]])\n",
    "\n",
    "display('Задача 17: В фильмах какого жанра больше всего снимался Nicolas Cage?', result_17.value_counts().head(3))"
   ]
  },
  {
   "cell_type": "code",
   "execution_count": 219,
   "metadata": {},
   "outputs": [
    {
     "data": {
      "text/plain": [
       "'Задача 17: В фильмах какого жанра больше всего снимался Nicolas Cage?'"
      ]
     },
     "metadata": {},
     "output_type": "display_data"
    },
    {
     "data": {
      "text/plain": [
       "Action      17\n",
       "Thriller    15\n",
       "Drama       12\n",
       "dtype: int64"
      ]
     },
     "metadata": {},
     "output_type": "display_data"
    }
   ],
   "source": [
    "'''Задача 17. В фильмах какого жанра больше всего снимался Nicolas Cage? (Вариант 2)'''\n",
    "result_17 = pd.Series('')\n",
    "tmp_17 = data[data.cast.str.contains('Nicolas Cage')] # Оставляем только фильмы с Nicolas Cage...\n",
    "\n",
    "for a in tmp_17.genres: # ...сводим все жанры с его участием в один столбец\n",
    "    result_17 = result_17.append(f_ser(a))\n",
    "\n",
    "display('Задача 17: В фильмах какого жанра больше всего снимался Nicolas Cage?', result_17.value_counts().head(3))"
   ]
  },
  {
   "cell_type": "code",
   "execution_count": 150,
   "metadata": {},
   "outputs": [
    {
     "data": {
      "text/plain": [
       "'Задача 18: Самый убыточный фильм от Paramount Pictures'"
      ]
     },
     "metadata": {},
     "output_type": "display_data"
    },
    {
     "data": {
      "text/html": [
       "<div>\n",
       "<style scoped>\n",
       "    .dataframe tbody tr th:only-of-type {\n",
       "        vertical-align: middle;\n",
       "    }\n",
       "\n",
       "    .dataframe tbody tr th {\n",
       "        vertical-align: top;\n",
       "    }\n",
       "\n",
       "    .dataframe thead th {\n",
       "        text-align: right;\n",
       "    }\n",
       "</style>\n",
       "<table border=\"1\" class=\"dataframe\">\n",
       "  <thead>\n",
       "    <tr style=\"text-align: right;\">\n",
       "      <th></th>\n",
       "      <th>imdb_id</th>\n",
       "      <th>original_title</th>\n",
       "      <th>profit</th>\n",
       "    </tr>\n",
       "  </thead>\n",
       "  <tbody>\n",
       "    <tr>\n",
       "      <th>925</th>\n",
       "      <td>tt0267626</td>\n",
       "      <td>K-19: The Widowmaker</td>\n",
       "      <td>-64831034</td>\n",
       "    </tr>\n",
       "  </tbody>\n",
       "</table>\n",
       "</div>"
      ],
      "text/plain": [
       "       imdb_id        original_title    profit\n",
       "925  tt0267626  K-19: The Widowmaker -64831034"
      ]
     },
     "metadata": {},
     "output_type": "display_data"
    }
   ],
   "source": [
    "'''Задача 18. Самый убыточный фильм от Paramount Pictures'''\n",
    "tmp_18 = data[data.production_companies.str.contains('Paramount Pictures')] # Оставляем только фильмы Paramount Pictures\n",
    "result_18 = tmp_18[tmp_18.profit == tmp_18.profit.min()][['imdb_id', 'original_title', 'profit']]\n",
    "display('Задача 18: Самый убыточный фильм от Paramount Pictures', result_18)"
   ]
  },
  {
   "cell_type": "code",
   "execution_count": 22,
   "metadata": {},
   "outputs": [
    {
     "data": {
      "text/plain": [
       "'Задача 19: Какой год стал самым успешным по суммарным кассовым сборам?'"
      ]
     },
     "metadata": {},
     "output_type": "display_data"
    },
    {
     "data": {
      "text/html": [
       "<div>\n",
       "<style scoped>\n",
       "    .dataframe tbody tr th:only-of-type {\n",
       "        vertical-align: middle;\n",
       "    }\n",
       "\n",
       "    .dataframe tbody tr th {\n",
       "        vertical-align: top;\n",
       "    }\n",
       "\n",
       "    .dataframe thead th {\n",
       "        text-align: right;\n",
       "    }\n",
       "</style>\n",
       "<table border=\"1\" class=\"dataframe\">\n",
       "  <thead>\n",
       "    <tr style=\"text-align: right;\">\n",
       "      <th></th>\n",
       "      <th>Year</th>\n",
       "      <th>Revenue</th>\n",
       "    </tr>\n",
       "  </thead>\n",
       "  <tbody>\n",
       "    <tr>\n",
       "      <th>15</th>\n",
       "      <td>2015</td>\n",
       "      <td>25449202382</td>\n",
       "    </tr>\n",
       "  </tbody>\n",
       "</table>\n",
       "</div>"
      ],
      "text/plain": [
       "    Year      Revenue\n",
       "15  2015  25449202382"
      ]
     },
     "metadata": {},
     "output_type": "display_data"
    }
   ],
   "source": [
    "'''Задача 19. Какой год стал самым успешным по суммарным кассовым сборам? (Вариант 1 - не брать!!!)\n",
    "itog = pd.DataFrame(columns = ['Year', 'Revenue'])\n",
    "year_start = data.release_year.min()\n",
    "year_finish = data.release_year.max()\n",
    "j = 0\n",
    "for i in range(year_start, year_finish+1):\n",
    "    itog.loc[j] = [i, data[data.release_year == i]['revenue'].sum()]\n",
    "    j += 1\n",
    "result_19 = itog[itog.Revenue == itog.Revenue.max()][['Year','Revenue']]\n",
    "display('Задача 19: Какой год стал самым успешным по суммарным кассовым сборам?', result_19)\n",
    "'''"
   ]
  },
  {
   "cell_type": "code",
   "execution_count": 217,
   "metadata": {},
   "outputs": [
    {
     "data": {
      "text/plain": [
       "'Задача 19: Какой год стал самым успешным по суммарным кассовым сборам?'"
      ]
     },
     "metadata": {},
     "output_type": "display_data"
    },
    {
     "data": {
      "text/plain": [
       "2015    25449202382\n",
       "2014    23405862953\n",
       "2013    23213799791\n",
       "dtype: int64"
      ]
     },
     "metadata": {},
     "output_type": "display_data"
    }
   ],
   "source": [
    "'''Задача 19. Какой год стал самым успешным по суммарным кассовым сборам? (Вариант 2)'''\n",
    "itog = pd.Series(int())\n",
    "\n",
    "# Проходим по годам и суммируем кассовые сборы по каждому году (результат типа Series)\n",
    "for year_t in range(data.release_year.min(), data.release_year.max()+1):\n",
    "    itog = pd.concat([itog, pd.Series([data[data.release_year == year_t]['revenue'].sum()], index=[year_t])])\n",
    "\n",
    "result_19 = itog.sort_values(ascending=False) # Ранжируем полученный результат\n",
    "\n",
    "display('Задача 19: Какой год стал самым успешным по суммарным кассовым сборам?', result_19.head(3))"
   ]
  },
  {
   "cell_type": "code",
   "execution_count": 210,
   "metadata": {},
   "outputs": [
    {
     "data": {
      "text/plain": [
       "'Задача 19: Какой год стал самым успешным по суммарным кассовым сборам?'"
      ]
     },
     "metadata": {},
     "output_type": "display_data"
    },
    {
     "data": {
      "text/plain": [
       "release_year\n",
       "2015    25449202382\n",
       "2014    23405862953\n",
       "2013    23213799791\n",
       "Name: revenue, dtype: int64"
      ]
     },
     "metadata": {},
     "output_type": "display_data"
    }
   ],
   "source": [
    "'''Задача 19. Какой год стал самым успешным по суммарным кассовым сборам? (Вариант 3)'''\n",
    "# Группируем данные по годам, суммируем кассовые сборы по каждому году и ранжируем результат\n",
    "result_19 = data.groupby(['release_year']).revenue.sum().sort_values(ascending=False)\n",
    "\n",
    "display('Задача 19: Какой год стал самым успешным по суммарным кассовым сборам?', result_19.head(3))"
   ]
  },
  {
   "cell_type": "code",
   "execution_count": 215,
   "metadata": {},
   "outputs": [
    {
     "data": {
      "text/plain": [
       "'Задача 20. Какой самый прибыльный год для студии Warner Bros?'"
      ]
     },
     "metadata": {},
     "output_type": "display_data"
    },
    {
     "data": {
      "text/html": [
       "<div>\n",
       "<style scoped>\n",
       "    .dataframe tbody tr th:only-of-type {\n",
       "        vertical-align: middle;\n",
       "    }\n",
       "\n",
       "    .dataframe tbody tr th {\n",
       "        vertical-align: top;\n",
       "    }\n",
       "\n",
       "    .dataframe thead th {\n",
       "        text-align: right;\n",
       "    }\n",
       "</style>\n",
       "<table border=\"1\" class=\"dataframe\">\n",
       "  <thead>\n",
       "    <tr style=\"text-align: right;\">\n",
       "      <th></th>\n",
       "      <th>Year</th>\n",
       "      <th>Profit</th>\n",
       "    </tr>\n",
       "  </thead>\n",
       "  <tbody>\n",
       "    <tr>\n",
       "      <th>14</th>\n",
       "      <td>2014</td>\n",
       "      <td>2295464519</td>\n",
       "    </tr>\n",
       "  </tbody>\n",
       "</table>\n",
       "</div>"
      ],
      "text/plain": [
       "    Year      Profit\n",
       "14  2014  2295464519"
      ]
     },
     "metadata": {},
     "output_type": "display_data"
    }
   ],
   "source": [
    "'''Задача 20. Какой самый прибыльный год для студии Warner Bros? (Вариант 1 - не брать!!!)\n",
    "tmp_20 = data[data.production_companies.str.contains('Warner Bros')]\n",
    "itog = pd.DataFrame(columns = ['Year', 'Profit'])\n",
    "\n",
    "year_start = data.release_year.min()\n",
    "year_finish = data.release_year.max()\n",
    "j = 0\n",
    "\n",
    "for i in range(year_start, year_finish+1):\n",
    "    itog.loc[j] = [i, tmp_20[tmp_20.release_year == i]['profit'].sum()]\n",
    "    j += 1\n",
    "\n",
    "result_20 = itog[itog.Profit == itog.Profit.max()]\n",
    "display('Задача 20. Какой самый прибыльный год для студии Warner Bros?', result_20)\n",
    "'''"
   ]
  },
  {
   "cell_type": "code",
   "execution_count": 213,
   "metadata": {},
   "outputs": [
    {
     "data": {
      "text/plain": [
       "'Задача 20. Какой самый прибыльный год для студии Warner Bros?'"
      ]
     },
     "metadata": {},
     "output_type": "display_data"
    },
    {
     "data": {
      "text/plain": [
       "2014    2295464519\n",
       "2007    2201675217\n",
       "2008    2134595031\n",
       "dtype: int64"
      ]
     },
     "metadata": {},
     "output_type": "display_data"
    }
   ],
   "source": [
    "'''Задача 20. Какой самый прибыльный год для студии Warner Bros? (Вариант 2)'''\n",
    "tmp_20 = data[data.production_companies.str.contains('Warner Bros')] # Оставляем только фильмы студии Warner Bros\n",
    "\n",
    "itog = pd.Series(int())\n",
    "\n",
    "# Проходим по годам и суммируем прибыль по каждому году (результат типа Series)\n",
    "for year_t in range(tmp_20.release_year.min(), tmp_20.release_year.max()+1):\n",
    "    itog = pd.concat([itog, pd.Series([tmp_20[tmp_20.release_year == year_t].profit.sum()], index=[year_t])])\n",
    "\n",
    "result_20 = itog.sort_values(ascending=False) # Ранжируем полученный результат\n",
    "\n",
    "display('Задача 20. Какой самый прибыльный год для студии Warner Bros?', result_20.head(3))"
   ]
  },
  {
   "cell_type": "code",
   "execution_count": 211,
   "metadata": {},
   "outputs": [
    {
     "data": {
      "text/plain": [
       "'Задача 20. Какой самый прибыльный год для студии Warner Bros?'"
      ]
     },
     "metadata": {},
     "output_type": "display_data"
    },
    {
     "data": {
      "text/plain": [
       "release_year\n",
       "2014    2295464519\n",
       "2007    2201675217\n",
       "2008    2134595031\n",
       "Name: profit, dtype: int64"
      ]
     },
     "metadata": {},
     "output_type": "display_data"
    }
   ],
   "source": [
    "'''Задача 20. Какой самый прибыльный год для студии Warner Bros? (Вариант 3)'''\n",
    "tmp_20 = data[data.production_companies.str.contains('Warner Bros')] # Оставляем только фильмы студии Warner Bros\n",
    "\n",
    "# Группируем по годам, суммируем прибыль (по годам) и ранжируем полученный результат\n",
    "result_20 = tmp_20.groupby(['release_year']).profit.sum().sort_values(ascending=False)\n",
    "\n",
    "display('Задача 20. Какой самый прибыльный год для студии Warner Bros?', result_20.head(3))"
   ]
  },
  {
   "cell_type": "code",
   "execution_count": 234,
   "metadata": {},
   "outputs": [
    {
     "data": {
      "text/plain": [
       "'Задача 21. В каком месяце за все годы суммарно вышло больше всего фильмов?'"
      ]
     },
     "metadata": {},
     "output_type": "display_data"
    },
    {
     "data": {
      "text/plain": [
       "9     227\n",
       "12    190\n",
       "10    186\n",
       "Name: release_date, dtype: int64"
      ]
     },
     "metadata": {},
     "output_type": "display_data"
    }
   ],
   "source": [
    "'''Задача 21. В каком месяце за все годы суммарно вышло больше всего фильмов?'''\n",
    "result = data.release_date.apply(lambda x: x.timetuple()[1]) # Создаем список из месяцев выхода фильмов...\n",
    "result_21 = result.value_counts() #...и ранжируем его, получая результат\n",
    "\n",
    "display('Задача 21. В каком месяце за все годы суммарно вышло больше всего фильмов?', result_21.head(3))"
   ]
  },
  {
   "cell_type": "code",
   "execution_count": 200,
   "metadata": {},
   "outputs": [
    {
     "data": {
      "text/plain": [
       "'Задача 22. Сколько суммарно вышло фильмов летом? (за июнь, июль, август)'"
      ]
     },
     "metadata": {},
     "output_type": "display_data"
    },
    {
     "data": {
      "text/plain": [
       "450"
      ]
     },
     "metadata": {},
     "output_type": "display_data"
    }
   ],
   "source": [
    "'''Задача 22. Сколько суммарно вышло фильмов летом? (за июнь, июль, август)'''\n",
    "tmp_22 = data.release_date.apply(lambda x: x.timetuple()[1]) # Создаем список из месяцев выхода фильмов...\n",
    "result_22 = tmp_22[(tmp_22>5) & (tmp_22<9)].count() #...,фильтруем его, оставляя только летние месяцы, и считаем их количество\n",
    "\n",
    "display('Задача 22. Сколько суммарно вышло фильмов летом? (за июнь, июль, август)', result_22)"
   ]
  },
  {
   "cell_type": "code",
   "execution_count": 191,
   "metadata": {},
   "outputs": [
    {
     "data": {
      "text/plain": [
       "'Задача 23: У какого режиссера зима – самое продуктивное время года?'"
      ]
     },
     "metadata": {},
     "output_type": "display_data"
    },
    {
     "data": {
      "text/plain": [
       "Peter Jackson       7.00\n",
       "Clint Eastwood      6.00\n",
       "Steven Soderbergh   6.00\n",
       "Name: 0, dtype: float64"
      ]
     },
     "metadata": {},
     "output_type": "display_data"
    }
   ],
   "source": [
    "'''Задача 23: У какого режиссера зима – самое продуктивное время года? (режиссер фильма не один)'''\n",
    "result_23 = pd.DataFrame()\n",
    "\n",
    "# Для каждого фильма формируем строку: Режиссеры + Признак сезона выхода фильма (1-зима,0-др.сезоны), и сводим их в один DataFrame\n",
    "tmp_23 = data.director.apply(f_ser)\n",
    "l_colmn = len(tmp_23.columns)\n",
    "tmp_23[l_colmn] = data.release_date.apply(wint)\n",
    "\n",
    "# Из полученного DataFrame формируем DataFrame из двух столбцов: Режиссер + Признак сезона выхода фильма\n",
    "for i in range(l_colmn):\n",
    "    result_23 = pd.concat([result_23, tmp_23.groupby([i])[l_colmn].sum()])\n",
    "\n",
    "# Группируем, ранжируем и получаем результат\n",
    "result_23 = result_23.groupby(result_23.index)[0].sum().sort_values(ascending=False) \n",
    "\n",
    "display('Задача 23: У какого режиссера зима – самое продуктивное время года?',result_23.head(3))"
   ]
  },
  {
   "cell_type": "code",
   "execution_count": 174,
   "metadata": {},
   "outputs": [
    {
     "data": {
      "text/plain": [
       "'Задача 24. Какая студия дает самые длинные названия своим фильмам по количеству символов?'"
      ]
     },
     "metadata": {},
     "output_type": "display_data"
    },
    {
     "data": {
      "text/plain": [
       "'Four By Two Productions'"
      ]
     },
     "metadata": {},
     "output_type": "display_data"
    }
   ],
   "source": [
    "'''Задача 24. Какая студия дает самые длинные названия своим фильмам по количеству символов?'''\n",
    "result_24 = pd.DataFrame()\n",
    "\n",
    "# Для каждого фильма формируем строку из названий студий и количества символов названия данного фильма и сводим их в один DataFrame\n",
    "tmp_24 = data.production_companies.apply(f_ser)\n",
    "l_colmn = len(tmp_24.columns)\n",
    "tmp_24[l_colmn] = data.original_title.apply(lambda x:len(x))\n",
    "\n",
    "# Из полученного DataFrame формируем DataFrame из двух столбцов: Студия + Количество символов названия фильма\n",
    "for i in range(l_colmn):\n",
    "    res_temp = tmp_24[[0, l_colmn]]\n",
    "    result_24 = pd.concat([result_24, res_temp])\n",
    "    tmp_24[0] = tmp_24[i+1]\n",
    "\n",
    "result_24 = result_24.groupby([result_24[0]])[l_colmn].mean().sort_values(ascending=False) # Получаем результат\n",
    "\n",
    "display('Задача 24. Какая студия дает самые длинные названия своим фильмам по количеству символов?',result_24.index[0])"
   ]
  },
  {
   "cell_type": "code",
   "execution_count": 173,
   "metadata": {},
   "outputs": [
    {
     "data": {
      "text/plain": [
       "'Задача 25. Описание фильмов какой студии в среднем самые длинные по количеству слов?'"
      ]
     },
     "metadata": {},
     "output_type": "display_data"
    },
    {
     "data": {
      "text/plain": [
       "'Midnight Picture Show'"
      ]
     },
     "metadata": {},
     "output_type": "display_data"
    }
   ],
   "source": [
    "'''Задача 25. Описание фильмов какой студии в среднем самые длинные по количеству слов?'''\n",
    "result_25 = pd.DataFrame()\n",
    "\n",
    "# Для каждого фильма формируем строку из названий студий и количества слов описания данного фильма и сводим их в один DataFrame\n",
    "tmp_25 = data.production_companies.apply(f_ser)\n",
    "l_colmn = len(tmp_25.columns)\n",
    "tmp_25[l_colmn] = data.overview.apply(words_count)\n",
    "\n",
    "# Из полученного DataFrame формируем DataFrame из двух столбцов: Студия + Количество слов\n",
    "for i in range(l_colmn): \n",
    "    res_temp = tmp_25[[0, l_colmn]]\n",
    "    result_25 = pd.concat([result_25, res_temp])\n",
    "    tmp_25[0] = tmp_25[i+1]\n",
    "\n",
    "result_25 = result_25.groupby([0])[l_colmn].mean().sort_values(ascending=False) # Получаем результат\n",
    "\n",
    "display('Задача 25. Описание фильмов какой студии в среднем самые длинные по количеству слов?',result_25.index[0])"
   ]
  },
  {
   "cell_type": "code",
   "execution_count": 36,
   "metadata": {},
   "outputs": [
    {
     "data": {
      "text/plain": [
       "'Задача 26. Какие фильмы входят в 1 процент лучших по рейтингу?'"
      ]
     },
     "metadata": {},
     "output_type": "display_data"
    },
    {
     "data": {
      "text/html": [
       "<div>\n",
       "<style scoped>\n",
       "    .dataframe tbody tr th:only-of-type {\n",
       "        vertical-align: middle;\n",
       "    }\n",
       "\n",
       "    .dataframe tbody tr th {\n",
       "        vertical-align: top;\n",
       "    }\n",
       "\n",
       "    .dataframe thead th {\n",
       "        text-align: right;\n",
       "    }\n",
       "</style>\n",
       "<table border=\"1\" class=\"dataframe\">\n",
       "  <thead>\n",
       "    <tr style=\"text-align: right;\">\n",
       "      <th></th>\n",
       "      <th>imdb_id</th>\n",
       "      <th>original_title</th>\n",
       "      <th>vote_average</th>\n",
       "    </tr>\n",
       "  </thead>\n",
       "  <tbody>\n",
       "    <tr>\n",
       "      <th>599</th>\n",
       "      <td>tt0468569</td>\n",
       "      <td>The Dark Knight</td>\n",
       "      <td>8.10</td>\n",
       "    </tr>\n",
       "    <tr>\n",
       "      <th>118</th>\n",
       "      <td>tt0816692</td>\n",
       "      <td>Interstellar</td>\n",
       "      <td>8.00</td>\n",
       "    </tr>\n",
       "    <tr>\n",
       "      <th>125</th>\n",
       "      <td>tt2084970</td>\n",
       "      <td>The Imitation Game</td>\n",
       "      <td>8.00</td>\n",
       "    </tr>\n",
       "    <tr>\n",
       "      <th>9</th>\n",
       "      <td>tt2096673</td>\n",
       "      <td>Inside Out</td>\n",
       "      <td>8.00</td>\n",
       "    </tr>\n",
       "    <tr>\n",
       "      <th>34</th>\n",
       "      <td>tt3170832</td>\n",
       "      <td>Room</td>\n",
       "      <td>8.00</td>\n",
       "    </tr>\n",
       "    <tr>\n",
       "      <th>1183</th>\n",
       "      <td>tt0993846</td>\n",
       "      <td>The Wolf of Wall Street</td>\n",
       "      <td>7.90</td>\n",
       "    </tr>\n",
       "    <tr>\n",
       "      <th>128</th>\n",
       "      <td>tt2267998</td>\n",
       "      <td>Gone Girl</td>\n",
       "      <td>7.90</td>\n",
       "    </tr>\n",
       "    <tr>\n",
       "      <th>1191</th>\n",
       "      <td>tt2024544</td>\n",
       "      <td>12 Years a Slave</td>\n",
       "      <td>7.90</td>\n",
       "    </tr>\n",
       "    <tr>\n",
       "      <th>119</th>\n",
       "      <td>tt2015381</td>\n",
       "      <td>Guardians of the Galaxy</td>\n",
       "      <td>7.90</td>\n",
       "    </tr>\n",
       "    <tr>\n",
       "      <th>1081</th>\n",
       "      <td>tt0167260</td>\n",
       "      <td>The Lord of the Rings: The Return of the King</td>\n",
       "      <td>7.90</td>\n",
       "    </tr>\n",
       "    <tr>\n",
       "      <th>1800</th>\n",
       "      <td>tt0209144</td>\n",
       "      <td>Memento</td>\n",
       "      <td>7.90</td>\n",
       "    </tr>\n",
       "    <tr>\n",
       "      <th>370</th>\n",
       "      <td>tt1375666</td>\n",
       "      <td>Inception</td>\n",
       "      <td>7.90</td>\n",
       "    </tr>\n",
       "    <tr>\n",
       "      <th>872</th>\n",
       "      <td>tt0253474</td>\n",
       "      <td>The Pianist</td>\n",
       "      <td>7.90</td>\n",
       "    </tr>\n",
       "    <tr>\n",
       "      <th>138</th>\n",
       "      <td>tt2278388</td>\n",
       "      <td>The Grand Budapest Hotel</td>\n",
       "      <td>7.90</td>\n",
       "    </tr>\n",
       "    <tr>\n",
       "      <th>1188</th>\n",
       "      <td>tt1798709</td>\n",
       "      <td>Her</td>\n",
       "      <td>7.80</td>\n",
       "    </tr>\n",
       "    <tr>\n",
       "      <th>28</th>\n",
       "      <td>tt1895587</td>\n",
       "      <td>Spotlight</td>\n",
       "      <td>7.80</td>\n",
       "    </tr>\n",
       "    <tr>\n",
       "      <th>124</th>\n",
       "      <td>tt2245084</td>\n",
       "      <td>Big Hero 6</td>\n",
       "      <td>7.80</td>\n",
       "    </tr>\n",
       "    <tr>\n",
       "      <th>177</th>\n",
       "      <td>tt2582846</td>\n",
       "      <td>The Fault in Our Stars</td>\n",
       "      <td>7.80</td>\n",
       "    </tr>\n",
       "  </tbody>\n",
       "</table>\n",
       "</div>"
      ],
      "text/plain": [
       "        imdb_id                                 original_title  vote_average\n",
       "599   tt0468569                                The Dark Knight          8.10\n",
       "118   tt0816692                                   Interstellar          8.00\n",
       "125   tt2084970                             The Imitation Game          8.00\n",
       "9     tt2096673                                     Inside Out          8.00\n",
       "34    tt3170832                                           Room          8.00\n",
       "1183  tt0993846                        The Wolf of Wall Street          7.90\n",
       "128   tt2267998                                      Gone Girl          7.90\n",
       "1191  tt2024544                               12 Years a Slave          7.90\n",
       "119   tt2015381                        Guardians of the Galaxy          7.90\n",
       "1081  tt0167260  The Lord of the Rings: The Return of the King          7.90\n",
       "1800  tt0209144                                        Memento          7.90\n",
       "370   tt1375666                                      Inception          7.90\n",
       "872   tt0253474                                    The Pianist          7.90\n",
       "138   tt2278388                       The Grand Budapest Hotel          7.90\n",
       "1188  tt1798709                                            Her          7.80\n",
       "28    tt1895587                                      Spotlight          7.80\n",
       "124   tt2245084                                     Big Hero 6          7.80\n",
       "177   tt2582846                         The Fault in Our Stars          7.80"
      ]
     },
     "metadata": {},
     "output_type": "display_data"
    }
   ],
   "source": [
    "'''Задача 26. Какие фильмы входят в 1 процент лучших по рейтингу?'''\n",
    "# Сортируем по рейтингу и оставляем первые 1/100 фильмов\n",
    "result_26 = data.sort_values('vote_average', ascending=False).head(int(len(data)/100))\n",
    "\n",
    "display('Задача 26. Какие фильмы входят в 1 процент лучших по рейтингу?',\n",
    "result_26[['imdb_id', 'original_title', 'vote_average']])"
   ]
  },
  {
   "cell_type": "code",
   "execution_count": 237,
   "metadata": {},
   "outputs": [
    {
     "data": {
      "text/plain": [
       "'Задача 27. Какие актеры чаще всего снимаются в одном фильме вместе?'"
      ]
     },
     "metadata": {},
     "output_type": "display_data"
    },
    {
     "data": {
      "text/plain": [
       "Daniel Radcliffe & Rupert Grint       8\n",
       "Emma Watson & Rupert Grint            8\n",
       "Daniel Radcliffe & Emma Watson        8\n",
       "Ben Stiller & Owen Wilson             6\n",
       "Helena Bonham Carter & Johnny Depp    6\n",
       "dtype: int64"
      ]
     },
     "metadata": {},
     "output_type": "display_data"
    }
   ],
   "source": [
    "'''Задача 27. Какие актеры чаще всего снимаются в одном фильме вместе?'''\n",
    "cast_comb = pd.Series([''])\n",
    "\n",
    "for item in data.cast: # Формируем комбинации пар актеров по каждому фильму и формирование из них списка (типа Series)\n",
    "    cast_comb = cast_comb.append(cmb(item))\n",
    "\n",
    "result_27 = cast_comb.value_counts() # Подсчет и ранжирование полученного результата\n",
    "\n",
    "display('Задача 27. Какие актеры чаще всего снимаются в одном фильме вместе?',result_27.head(5))"
   ]
  },
  {
   "cell_type": "code",
   "execution_count": null,
   "metadata": {},
   "outputs": [],
   "source": []
  }
 ],
 "metadata": {
  "kernelspec": {
   "display_name": "Python 3",
   "language": "python",
   "name": "python3"
  },
  "language_info": {
   "codemirror_mode": {
    "name": "ipython",
    "version": 3
   },
   "file_extension": ".py",
   "mimetype": "text/x-python",
   "name": "python",
   "nbconvert_exporter": "python",
   "pygments_lexer": "ipython3",
   "version": "3.8.3"
  }
 },
 "nbformat": 4,
 "nbformat_minor": 4
}
