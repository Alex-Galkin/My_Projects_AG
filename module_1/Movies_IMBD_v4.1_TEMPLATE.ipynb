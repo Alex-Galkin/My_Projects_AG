{
 "cells": [
  {
   "cell_type": "code",
   "execution_count": 1,
   "metadata": {
    "_cell_guid": "b1076dfc-b9ad-4769-8c92-a6c4dae69d19",
    "_uuid": "8f2839f25d086af736a60e9eeb907d3b93b6e0e5",
    "colab": {},
    "colab_type": "code",
    "id": "U2D2gTdJVp90"
   },
   "outputs": [],
   "source": [
    "import numpy as np\n",
    "import pandas as pd\n",
    "import seaborn as sns\n",
    "import matplotlib.pyplot as plt\n",
    "from collections import Counter\n",
    "from itertools import combinations"
   ]
  },
  {
   "cell_type": "code",
   "execution_count": 2,
   "metadata": {
    "_cell_guid": "79c7e3d0-c299-4dcb-8224-4455121ee9b0",
    "_uuid": "d629ff2d2480ee46fbb7e2d37f6b5fab8052498a",
    "colab": {},
    "colab_type": "code",
    "id": "oyGfxL3eVp9-"
   },
   "outputs": [
    {
     "data": {
      "text/html": [
       "<div>\n",
       "<style scoped>\n",
       "    .dataframe tbody tr th:only-of-type {\n",
       "        vertical-align: middle;\n",
       "    }\n",
       "\n",
       "    .dataframe tbody tr th {\n",
       "        vertical-align: top;\n",
       "    }\n",
       "\n",
       "    .dataframe thead th {\n",
       "        text-align: right;\n",
       "    }\n",
       "</style>\n",
       "<table border=\"1\" class=\"dataframe\">\n",
       "  <thead>\n",
       "    <tr style=\"text-align: right;\">\n",
       "      <th></th>\n",
       "      <th>imdb_id</th>\n",
       "      <th>budget</th>\n",
       "      <th>revenue</th>\n",
       "      <th>original_title</th>\n",
       "      <th>cast</th>\n",
       "      <th>director</th>\n",
       "      <th>tagline</th>\n",
       "      <th>overview</th>\n",
       "      <th>runtime</th>\n",
       "      <th>genres</th>\n",
       "      <th>production_companies</th>\n",
       "      <th>release_date</th>\n",
       "      <th>vote_average</th>\n",
       "      <th>release_year</th>\n",
       "    </tr>\n",
       "  </thead>\n",
       "  <tbody>\n",
       "    <tr>\n",
       "      <th>1761</th>\n",
       "      <td>tt0419843</td>\n",
       "      <td>10000000</td>\n",
       "      <td>17500000</td>\n",
       "      <td>In the Land of Women</td>\n",
       "      <td>Meg Ryan|Kristen Stewart|Adam Brody|JoBeth Wil...</td>\n",
       "      <td>Jon Kasdan</td>\n",
       "      <td>Get ready to fall</td>\n",
       "      <td>After a bad breakup with his girlfriend leaves...</td>\n",
       "      <td>97</td>\n",
       "      <td>Romance|Comedy|Drama</td>\n",
       "      <td>Castle Rock Entertainment|Land Films Inc.|Anon...</td>\n",
       "      <td>4/16/2007</td>\n",
       "      <td>6.0</td>\n",
       "      <td>2007</td>\n",
       "    </tr>\n",
       "    <tr>\n",
       "      <th>757</th>\n",
       "      <td>tt0409847</td>\n",
       "      <td>163000000</td>\n",
       "      <td>174822325</td>\n",
       "      <td>Cowboys &amp; Aliens</td>\n",
       "      <td>Daniel Craig|Olivia Wilde|Harrison Ford|Sam Ro...</td>\n",
       "      <td>Jon Favreau</td>\n",
       "      <td>First Contact. Last Stand.</td>\n",
       "      <td>A stranger stumbles into the desert town of Ab...</td>\n",
       "      <td>119</td>\n",
       "      <td>Action|Science Fiction|Thriller|Western</td>\n",
       "      <td>Imagine Entertainment|DreamWorks SKG|Universal...</td>\n",
       "      <td>7/29/2011</td>\n",
       "      <td>5.4</td>\n",
       "      <td>2011</td>\n",
       "    </tr>\n",
       "    <tr>\n",
       "      <th>307</th>\n",
       "      <td>tt0465580</td>\n",
       "      <td>38000000</td>\n",
       "      <td>45465299</td>\n",
       "      <td>Push</td>\n",
       "      <td>Dakota Fanning|Camilla Belle|Chris Evans|Djimo...</td>\n",
       "      <td>Paul McGuigan</td>\n",
       "      <td>One push can change everything.</td>\n",
       "      <td>After his father, an assassin, is brutally mur...</td>\n",
       "      <td>111</td>\n",
       "      <td>Action</td>\n",
       "      <td>Icon Productions|Infinity Features Entertainme...</td>\n",
       "      <td>2/6/2009</td>\n",
       "      <td>5.8</td>\n",
       "      <td>2009</td>\n",
       "    </tr>\n",
       "    <tr>\n",
       "      <th>1192</th>\n",
       "      <td>tt1411250</td>\n",
       "      <td>38000000</td>\n",
       "      <td>98337295</td>\n",
       "      <td>Riddick</td>\n",
       "      <td>Vin Diesel|Karl Urban|Katee Sackhoff|Jordi Mol...</td>\n",
       "      <td>David Twohy</td>\n",
       "      <td>Survival Is His Revenge</td>\n",
       "      <td>Betrayed by his own kind and left for dead on ...</td>\n",
       "      <td>119</td>\n",
       "      <td>Science Fiction|Action|Thriller</td>\n",
       "      <td>One Race Productions|Radar Pictures|Riddick Ca...</td>\n",
       "      <td>9/2/2013</td>\n",
       "      <td>6.2</td>\n",
       "      <td>2013</td>\n",
       "    </tr>\n",
       "    <tr>\n",
       "      <th>281</th>\n",
       "      <td>tt1093908</td>\n",
       "      <td>40000000</td>\n",
       "      <td>108332743</td>\n",
       "      <td>Confessions of a Shopaholic</td>\n",
       "      <td>Isla Fisher|Hugh Dancy|Krysten Ritter|Joan Cus...</td>\n",
       "      <td>P.J. Hogan</td>\n",
       "      <td>A new job? Hopefully. A new man? Possibly. A n...</td>\n",
       "      <td>In the glamorous world of New York City, Rebec...</td>\n",
       "      <td>104</td>\n",
       "      <td>Comedy|Romance</td>\n",
       "      <td>Jerry Bruckheimer Films|Touchstone Pictures</td>\n",
       "      <td>2/5/2009</td>\n",
       "      <td>6.0</td>\n",
       "      <td>2009</td>\n",
       "    </tr>\n",
       "  </tbody>\n",
       "</table>\n",
       "</div>"
      ],
      "text/plain": [
       "        imdb_id     budget    revenue               original_title  \\\n",
       "1761  tt0419843   10000000   17500000         In the Land of Women   \n",
       "757   tt0409847  163000000  174822325             Cowboys & Aliens   \n",
       "307   tt0465580   38000000   45465299                         Push   \n",
       "1192  tt1411250   38000000   98337295                      Riddick   \n",
       "281   tt1093908   40000000  108332743  Confessions of a Shopaholic   \n",
       "\n",
       "                                                   cast       director  \\\n",
       "1761  Meg Ryan|Kristen Stewart|Adam Brody|JoBeth Wil...     Jon Kasdan   \n",
       "757   Daniel Craig|Olivia Wilde|Harrison Ford|Sam Ro...    Jon Favreau   \n",
       "307   Dakota Fanning|Camilla Belle|Chris Evans|Djimo...  Paul McGuigan   \n",
       "1192  Vin Diesel|Karl Urban|Katee Sackhoff|Jordi Mol...    David Twohy   \n",
       "281   Isla Fisher|Hugh Dancy|Krysten Ritter|Joan Cus...     P.J. Hogan   \n",
       "\n",
       "                                                tagline  \\\n",
       "1761                                  Get ready to fall   \n",
       "757                          First Contact. Last Stand.   \n",
       "307                     One push can change everything.   \n",
       "1192                            Survival Is His Revenge   \n",
       "281   A new job? Hopefully. A new man? Possibly. A n...   \n",
       "\n",
       "                                               overview  runtime  \\\n",
       "1761  After a bad breakup with his girlfriend leaves...       97   \n",
       "757   A stranger stumbles into the desert town of Ab...      119   \n",
       "307   After his father, an assassin, is brutally mur...      111   \n",
       "1192  Betrayed by his own kind and left for dead on ...      119   \n",
       "281   In the glamorous world of New York City, Rebec...      104   \n",
       "\n",
       "                                       genres  \\\n",
       "1761                     Romance|Comedy|Drama   \n",
       "757   Action|Science Fiction|Thriller|Western   \n",
       "307                                    Action   \n",
       "1192          Science Fiction|Action|Thriller   \n",
       "281                            Comedy|Romance   \n",
       "\n",
       "                                   production_companies release_date  \\\n",
       "1761  Castle Rock Entertainment|Land Films Inc.|Anon...    4/16/2007   \n",
       "757   Imagine Entertainment|DreamWorks SKG|Universal...    7/29/2011   \n",
       "307   Icon Productions|Infinity Features Entertainme...     2/6/2009   \n",
       "1192  One Race Productions|Radar Pictures|Riddick Ca...     9/2/2013   \n",
       "281         Jerry Bruckheimer Films|Touchstone Pictures     2/5/2009   \n",
       "\n",
       "      vote_average  release_year  \n",
       "1761           6.0          2007  \n",
       "757            5.4          2011  \n",
       "307            5.8          2009  \n",
       "1192           6.2          2013  \n",
       "281            6.0          2009  "
      ]
     },
     "execution_count": 2,
     "metadata": {},
     "output_type": "execute_result"
    }
   ],
   "source": [
    "data = pd.read_csv('movie_bd_v5.csv')\n",
    "data.sample(5)"
   ]
  },
  {
   "cell_type": "code",
   "execution_count": 3,
   "metadata": {
    "colab": {},
    "colab_type": "code",
    "id": "CoYUnagMVp-C"
   },
   "outputs": [
    {
     "data": {
      "text/html": [
       "<div>\n",
       "<style scoped>\n",
       "    .dataframe tbody tr th:only-of-type {\n",
       "        vertical-align: middle;\n",
       "    }\n",
       "\n",
       "    .dataframe tbody tr th {\n",
       "        vertical-align: top;\n",
       "    }\n",
       "\n",
       "    .dataframe thead th {\n",
       "        text-align: right;\n",
       "    }\n",
       "</style>\n",
       "<table border=\"1\" class=\"dataframe\">\n",
       "  <thead>\n",
       "    <tr style=\"text-align: right;\">\n",
       "      <th></th>\n",
       "      <th>budget</th>\n",
       "      <th>revenue</th>\n",
       "      <th>runtime</th>\n",
       "      <th>vote_average</th>\n",
       "      <th>release_year</th>\n",
       "    </tr>\n",
       "  </thead>\n",
       "  <tbody>\n",
       "    <tr>\n",
       "      <th>count</th>\n",
       "      <td>1.889000e+03</td>\n",
       "      <td>1.889000e+03</td>\n",
       "      <td>1889.000000</td>\n",
       "      <td>1889.000000</td>\n",
       "      <td>1889.000000</td>\n",
       "    </tr>\n",
       "    <tr>\n",
       "      <th>mean</th>\n",
       "      <td>5.431083e+07</td>\n",
       "      <td>1.553653e+08</td>\n",
       "      <td>109.658549</td>\n",
       "      <td>6.140762</td>\n",
       "      <td>2007.860773</td>\n",
       "    </tr>\n",
       "    <tr>\n",
       "      <th>std</th>\n",
       "      <td>4.858721e+07</td>\n",
       "      <td>2.146698e+08</td>\n",
       "      <td>18.017041</td>\n",
       "      <td>0.764763</td>\n",
       "      <td>4.468841</td>\n",
       "    </tr>\n",
       "    <tr>\n",
       "      <th>min</th>\n",
       "      <td>5.000000e+06</td>\n",
       "      <td>2.033165e+06</td>\n",
       "      <td>63.000000</td>\n",
       "      <td>3.300000</td>\n",
       "      <td>2000.000000</td>\n",
       "    </tr>\n",
       "    <tr>\n",
       "      <th>25%</th>\n",
       "      <td>2.000000e+07</td>\n",
       "      <td>3.456058e+07</td>\n",
       "      <td>97.000000</td>\n",
       "      <td>5.600000</td>\n",
       "      <td>2004.000000</td>\n",
       "    </tr>\n",
       "    <tr>\n",
       "      <th>50%</th>\n",
       "      <td>3.800000e+07</td>\n",
       "      <td>8.361541e+07</td>\n",
       "      <td>107.000000</td>\n",
       "      <td>6.100000</td>\n",
       "      <td>2008.000000</td>\n",
       "    </tr>\n",
       "    <tr>\n",
       "      <th>75%</th>\n",
       "      <td>7.200000e+07</td>\n",
       "      <td>1.782626e+08</td>\n",
       "      <td>120.000000</td>\n",
       "      <td>6.600000</td>\n",
       "      <td>2012.000000</td>\n",
       "    </tr>\n",
       "    <tr>\n",
       "      <th>max</th>\n",
       "      <td>3.800000e+08</td>\n",
       "      <td>2.781506e+09</td>\n",
       "      <td>214.000000</td>\n",
       "      <td>8.100000</td>\n",
       "      <td>2015.000000</td>\n",
       "    </tr>\n",
       "  </tbody>\n",
       "</table>\n",
       "</div>"
      ],
      "text/plain": [
       "             budget       revenue      runtime  vote_average  release_year\n",
       "count  1.889000e+03  1.889000e+03  1889.000000   1889.000000   1889.000000\n",
       "mean   5.431083e+07  1.553653e+08   109.658549      6.140762   2007.860773\n",
       "std    4.858721e+07  2.146698e+08    18.017041      0.764763      4.468841\n",
       "min    5.000000e+06  2.033165e+06    63.000000      3.300000   2000.000000\n",
       "25%    2.000000e+07  3.456058e+07    97.000000      5.600000   2004.000000\n",
       "50%    3.800000e+07  8.361541e+07   107.000000      6.100000   2008.000000\n",
       "75%    7.200000e+07  1.782626e+08   120.000000      6.600000   2012.000000\n",
       "max    3.800000e+08  2.781506e+09   214.000000      8.100000   2015.000000"
      ]
     },
     "execution_count": 3,
     "metadata": {},
     "output_type": "execute_result"
    }
   ],
   "source": [
    "data.describe()"
   ]
  },
  {
   "cell_type": "code",
   "execution_count": 4,
   "metadata": {},
   "outputs": [
    {
     "name": "stdout",
     "output_type": "stream",
     "text": [
      "<class 'pandas.core.frame.DataFrame'>\n",
      "RangeIndex: 1889 entries, 0 to 1888\n",
      "Data columns (total 14 columns):\n",
      " #   Column                Non-Null Count  Dtype  \n",
      "---  ------                --------------  -----  \n",
      " 0   imdb_id               1889 non-null   object \n",
      " 1   budget                1889 non-null   int64  \n",
      " 2   revenue               1889 non-null   int64  \n",
      " 3   original_title        1889 non-null   object \n",
      " 4   cast                  1889 non-null   object \n",
      " 5   director              1889 non-null   object \n",
      " 6   tagline               1889 non-null   object \n",
      " 7   overview              1889 non-null   object \n",
      " 8   runtime               1889 non-null   int64  \n",
      " 9   genres                1889 non-null   object \n",
      " 10  production_companies  1889 non-null   object \n",
      " 11  release_date          1889 non-null   object \n",
      " 12  vote_average          1889 non-null   float64\n",
      " 13  release_year          1889 non-null   int64  \n",
      "dtypes: float64(1), int64(4), object(9)\n",
      "memory usage: 206.7+ KB\n"
     ]
    }
   ],
   "source": [
    "data.info()"
   ]
  },
  {
   "cell_type": "code",
   "execution_count": 5,
   "metadata": {},
   "outputs": [
    {
     "data": {
      "text/plain": [
       "tt0297284    1\n",
       "tt0387575    1\n",
       "tt0478304    1\n",
       "tt3442006    1\n",
       "tt1586752    1\n",
       "            ..\n",
       "tt0472181    1\n",
       "tt0332280    1\n",
       "tt0892791    1\n",
       "tt0358273    1\n",
       "tt1515091    1\n",
       "Name: imdb_id, Length: 1889, dtype: int64"
      ]
     },
     "execution_count": 5,
     "metadata": {},
     "output_type": "execute_result"
    }
   ],
   "source": [
    "# Проверка на неповторяемость Id фильмов в датасете\n",
    "data.imdb_id.value_counts()"
   ]
  },
  {
   "cell_type": "code",
   "execution_count": 6,
   "metadata": {},
   "outputs": [
    {
     "data": {
      "text/plain": [
       "The Gift             2\n",
       "Fantastic Four       2\n",
       "Flyboys              1\n",
       "Self/less            1\n",
       "Her                  1\n",
       "                    ..\n",
       "The Back-Up Plan     1\n",
       "WALLÂ·E              1\n",
       "Boogeyman            1\n",
       "Final Destination    1\n",
       "Empire State         1\n",
       "Name: original_title, Length: 1887, dtype: int64"
      ]
     },
     "execution_count": 6,
     "metadata": {},
     "output_type": "execute_result"
    }
   ],
   "source": [
    "# Проверка на неповторяемость названий фильмов в датасете\n",
    "data.original_title.value_counts()\n",
    "\n",
    "# Выявлено 2 фильма с одинаковыми названиями"
   ]
  },
  {
   "cell_type": "code",
   "execution_count": 7,
   "metadata": {},
   "outputs": [
    {
     "data": {
      "text/html": [
       "<div>\n",
       "<style scoped>\n",
       "    .dataframe tbody tr th:only-of-type {\n",
       "        vertical-align: middle;\n",
       "    }\n",
       "\n",
       "    .dataframe tbody tr th {\n",
       "        vertical-align: top;\n",
       "    }\n",
       "\n",
       "    .dataframe thead th {\n",
       "        text-align: right;\n",
       "    }\n",
       "</style>\n",
       "<table border=\"1\" class=\"dataframe\">\n",
       "  <thead>\n",
       "    <tr style=\"text-align: right;\">\n",
       "      <th></th>\n",
       "      <th>imdb_id</th>\n",
       "      <th>budget</th>\n",
       "      <th>revenue</th>\n",
       "      <th>original_title</th>\n",
       "      <th>cast</th>\n",
       "      <th>director</th>\n",
       "      <th>tagline</th>\n",
       "      <th>overview</th>\n",
       "      <th>runtime</th>\n",
       "      <th>genres</th>\n",
       "      <th>production_companies</th>\n",
       "      <th>release_date</th>\n",
       "      <th>vote_average</th>\n",
       "      <th>release_year</th>\n",
       "    </tr>\n",
       "  </thead>\n",
       "  <tbody>\n",
       "    <tr>\n",
       "      <th>55</th>\n",
       "      <td>tt1502712</td>\n",
       "      <td>120000001</td>\n",
       "      <td>167977596</td>\n",
       "      <td>Fantastic Four</td>\n",
       "      <td>Miles Teller|Kate Mara|Michael B. Jordan|Jamie...</td>\n",
       "      <td>Josh Trank</td>\n",
       "      <td>Change is coming.</td>\n",
       "      <td>Four young outsiders teleport to a dangerous u...</td>\n",
       "      <td>100</td>\n",
       "      <td>Action|Adventure|Science Fiction</td>\n",
       "      <td>Twentieth Century Fox Film Corporation|Marv Fi...</td>\n",
       "      <td>8/5/2015</td>\n",
       "      <td>4.4</td>\n",
       "      <td>2015</td>\n",
       "    </tr>\n",
       "    <tr>\n",
       "      <th>75</th>\n",
       "      <td>tt4178092</td>\n",
       "      <td>5000000</td>\n",
       "      <td>58978653</td>\n",
       "      <td>The Gift</td>\n",
       "      <td>Jason Bateman|Rebecca Hall|Joel Edgerton|David...</td>\n",
       "      <td>Joel Edgerton</td>\n",
       "      <td>Not every gift is welcome.</td>\n",
       "      <td>A husband and wife try to reinvigorate their r...</td>\n",
       "      <td>108</td>\n",
       "      <td>Thriller|Mystery</td>\n",
       "      <td>Blumhouse Productions|Blue-Tongue Films|STX En...</td>\n",
       "      <td>7/30/2015</td>\n",
       "      <td>6.6</td>\n",
       "      <td>2015</td>\n",
       "    </tr>\n",
       "    <tr>\n",
       "      <th>1322</th>\n",
       "      <td>tt0120667</td>\n",
       "      <td>100000000</td>\n",
       "      <td>330579719</td>\n",
       "      <td>Fantastic Four</td>\n",
       "      <td>Ioan Gruffudd|Jessica Alba|Chris Evans|Michael...</td>\n",
       "      <td>Tim Story</td>\n",
       "      <td>4 times the action. 4 times the adventure. 4 t...</td>\n",
       "      <td>During a space voyage, four scientists are alt...</td>\n",
       "      <td>106</td>\n",
       "      <td>Action|Adventure|Fantasy|Science Fiction</td>\n",
       "      <td>Twentieth Century Fox Film Corporation|1492 Pi...</td>\n",
       "      <td>7/7/2005</td>\n",
       "      <td>5.6</td>\n",
       "      <td>2005</td>\n",
       "    </tr>\n",
       "    <tr>\n",
       "      <th>1834</th>\n",
       "      <td>tt0219699</td>\n",
       "      <td>10000000</td>\n",
       "      <td>12008642</td>\n",
       "      <td>The Gift</td>\n",
       "      <td>Cate Blanchett|Giovanni Ribisi|Keanu Reeves|Ka...</td>\n",
       "      <td>Sam Raimi</td>\n",
       "      <td>The only witness to the crime was not even there.</td>\n",
       "      <td>When a local woman disappears and the police c...</td>\n",
       "      <td>111</td>\n",
       "      <td>Horror|Drama|Thriller|Mystery</td>\n",
       "      <td>Lakeshore Entertainment|Alphaville Films</td>\n",
       "      <td>12/22/2000</td>\n",
       "      <td>6.2</td>\n",
       "      <td>2000</td>\n",
       "    </tr>\n",
       "  </tbody>\n",
       "</table>\n",
       "</div>"
      ],
      "text/plain": [
       "        imdb_id     budget    revenue  original_title  \\\n",
       "55    tt1502712  120000001  167977596  Fantastic Four   \n",
       "75    tt4178092    5000000   58978653        The Gift   \n",
       "1322  tt0120667  100000000  330579719  Fantastic Four   \n",
       "1834  tt0219699   10000000   12008642        The Gift   \n",
       "\n",
       "                                                   cast       director  \\\n",
       "55    Miles Teller|Kate Mara|Michael B. Jordan|Jamie...     Josh Trank   \n",
       "75    Jason Bateman|Rebecca Hall|Joel Edgerton|David...  Joel Edgerton   \n",
       "1322  Ioan Gruffudd|Jessica Alba|Chris Evans|Michael...      Tim Story   \n",
       "1834  Cate Blanchett|Giovanni Ribisi|Keanu Reeves|Ka...      Sam Raimi   \n",
       "\n",
       "                                                tagline  \\\n",
       "55                                    Change is coming.   \n",
       "75                           Not every gift is welcome.   \n",
       "1322  4 times the action. 4 times the adventure. 4 t...   \n",
       "1834  The only witness to the crime was not even there.   \n",
       "\n",
       "                                               overview  runtime  \\\n",
       "55    Four young outsiders teleport to a dangerous u...      100   \n",
       "75    A husband and wife try to reinvigorate their r...      108   \n",
       "1322  During a space voyage, four scientists are alt...      106   \n",
       "1834  When a local woman disappears and the police c...      111   \n",
       "\n",
       "                                        genres  \\\n",
       "55            Action|Adventure|Science Fiction   \n",
       "75                            Thriller|Mystery   \n",
       "1322  Action|Adventure|Fantasy|Science Fiction   \n",
       "1834             Horror|Drama|Thriller|Mystery   \n",
       "\n",
       "                                   production_companies release_date  \\\n",
       "55    Twentieth Century Fox Film Corporation|Marv Fi...     8/5/2015   \n",
       "75    Blumhouse Productions|Blue-Tongue Films|STX En...    7/30/2015   \n",
       "1322  Twentieth Century Fox Film Corporation|1492 Pi...     7/7/2005   \n",
       "1834           Lakeshore Entertainment|Alphaville Films   12/22/2000   \n",
       "\n",
       "      vote_average  release_year  \n",
       "55             4.4          2015  \n",
       "75             6.6          2015  \n",
       "1322           5.6          2005  \n",
       "1834           6.2          2000  "
      ]
     },
     "metadata": {},
     "output_type": "display_data"
    }
   ],
   "source": [
    "# Убеждаемся, что фильмы с одинаковыми названиями все-таки разные\n",
    "display(data[(data.original_title == 'Fantastic Four') | (data.original_title == 'The Gift')])"
   ]
  },
  {
   "cell_type": "markdown",
   "metadata": {
    "colab_type": "text",
    "id": "DTIt7ezGVp-G"
   },
   "source": [
    "# Предобработка"
   ]
  },
  {
   "cell_type": "code",
   "execution_count": 8,
   "metadata": {
    "colab": {},
    "colab_type": "code",
    "id": "jNb40DwKVp-H"
   },
   "outputs": [],
   "source": [
    "answers = {} # создадим словарь для ответов\n",
    "\n",
    "# Отображение данных в датасете: 2 знака после запятой\n",
    "pd.options.display.float_format = '{:,.2f}'.format \n",
    "\n",
    "# Перевод даты из формата string в тип в формат datetime\n",
    "data['release_date'] = pd.to_datetime(data.release_date, format='%m/%d/%Y')\n",
    "\n",
    "# Добавляем в датасет столбец прибыли\n",
    "data['profit'] = data.revenue-data.budget\n",
    "\n",
    "\n",
    "'''Функции, использемыев задачах'''\n",
    "\n",
    "# Функция разделения списка и превращения его в серию (Задачи 11-17, 24, 25)\n",
    "def f_ser(list):\n",
    "    return pd.Series(list.split('|'))\n",
    "\n",
    "\n",
    "# Функция выделения месяца из даты типа datetime (Задача 23)\n",
    "def wint(dt):\n",
    "    a = dt.timetuple()\n",
    "    month = a[1]\n",
    "    \n",
    "    if month< 3 or month>11: # Проверка на зимний период\n",
    "        return 1 # Если зимний месяц\n",
    "    else:\n",
    "        return 0\n",
    "\n",
    "    \n",
    "# Функция подсчета слов в предложении по количеству пробелов (Задача 25)\n",
    "def words_count(strng):\n",
    "    while strng.find('  ') > 0:\n",
    "        strng = strng.replace('  ', ' ')\n",
    "    \n",
    "    return len(strng.split(' '))\n",
    "\n",
    "\n",
    "# Функция разделения списка и формирования комбинаций (Задача 27)\n",
    "def cmb(list):\n",
    "    a = sorted(list.split('|')) # Разделение списка и его сортировка (обязательно!!!)\n",
    "    s = pd.Series([''])\n",
    "    i = 0\n",
    "    \n",
    "    for item in combinations(a, 2): # Цикл Формирования пар имен\n",
    "        s[i] = ' & '.join(item) \n",
    "        i += 1\n",
    "    \n",
    "    return s"
   ]
  },
  {
   "cell_type": "markdown",
   "metadata": {
    "colab_type": "text",
    "id": "YxZaH-nPVp-L"
   },
   "source": [
    "# 1. У какого фильма из списка самый большой бюджет?"
   ]
  },
  {
   "cell_type": "markdown",
   "metadata": {
    "colab_type": "text",
    "id": "Nd-G5gX6Vp-M"
   },
   "source": [
    "Использовать варианты ответов в коде решения запрещено.    \n",
    "Вы думаете и в жизни у вас будут варианты ответов?)"
   ]
  },
  {
   "cell_type": "code",
   "execution_count": 9,
   "metadata": {
    "colab": {},
    "colab_type": "code",
    "id": "uVnXAY5RVp-O"
   },
   "outputs": [],
   "source": [
    "answers['1'] = '5. Pirates of the Caribbean: On Stranger Tides (tt1298650) верно'\n",
    "# +"
   ]
  },
  {
   "cell_type": "code",
   "execution_count": 10,
   "metadata": {
    "colab": {},
    "colab_type": "code",
    "id": "dZwb3m28Vp-S"
   },
   "outputs": [
    {
     "data": {
      "text/plain": [
       "'Задача 1: У какого фильма из списка самый большой бюджет?'"
      ]
     },
     "metadata": {},
     "output_type": "display_data"
    },
    {
     "data": {
      "text/html": [
       "<div>\n",
       "<style scoped>\n",
       "    .dataframe tbody tr th:only-of-type {\n",
       "        vertical-align: middle;\n",
       "    }\n",
       "\n",
       "    .dataframe tbody tr th {\n",
       "        vertical-align: top;\n",
       "    }\n",
       "\n",
       "    .dataframe thead th {\n",
       "        text-align: right;\n",
       "    }\n",
       "</style>\n",
       "<table border=\"1\" class=\"dataframe\">\n",
       "  <thead>\n",
       "    <tr style=\"text-align: right;\">\n",
       "      <th></th>\n",
       "      <th>imdb_id</th>\n",
       "      <th>original_title</th>\n",
       "      <th>budget</th>\n",
       "    </tr>\n",
       "  </thead>\n",
       "  <tbody>\n",
       "    <tr>\n",
       "      <th>723</th>\n",
       "      <td>tt1298650</td>\n",
       "      <td>Pirates of the Caribbean: On Stranger Tides</td>\n",
       "      <td>380000000</td>\n",
       "    </tr>\n",
       "  </tbody>\n",
       "</table>\n",
       "</div>"
      ],
      "text/plain": [
       "       imdb_id                               original_title     budget\n",
       "723  tt1298650  Pirates of the Caribbean: On Stranger Tides  380000000"
      ]
     },
     "metadata": {},
     "output_type": "display_data"
    }
   ],
   "source": [
    "'''Задача 1: У какого фильма из списка самый большой бюджет? (Вариант 1)'''\n",
    "result_1 = data[data.budget == data.budget.max()][['imdb_id', 'original_title', 'budget']]\n",
    "\n",
    "display('Задача 1: У какого фильма из списка самый большой бюджет?', result_1)"
   ]
  },
  {
   "cell_type": "markdown",
   "metadata": {
    "colab_type": "text",
    "id": "K7L3nbRXVp-X"
   },
   "source": [
    "ВАРИАНТ 2"
   ]
  },
  {
   "cell_type": "code",
   "execution_count": 11,
   "metadata": {
    "colab": {},
    "colab_type": "code",
    "id": "OGaoQI7rVp-X"
   },
   "outputs": [
    {
     "data": {
      "text/plain": [
       "'Задача 1: У какого фильма из списка самый большой бюджет?'"
      ]
     },
     "metadata": {},
     "output_type": "display_data"
    },
    {
     "data": {
      "text/html": [
       "<div>\n",
       "<style scoped>\n",
       "    .dataframe tbody tr th:only-of-type {\n",
       "        vertical-align: middle;\n",
       "    }\n",
       "\n",
       "    .dataframe tbody tr th {\n",
       "        vertical-align: top;\n",
       "    }\n",
       "\n",
       "    .dataframe thead th {\n",
       "        text-align: right;\n",
       "    }\n",
       "</style>\n",
       "<table border=\"1\" class=\"dataframe\">\n",
       "  <thead>\n",
       "    <tr style=\"text-align: right;\">\n",
       "      <th></th>\n",
       "      <th>imdb_id</th>\n",
       "      <th>original_title</th>\n",
       "      <th>budget</th>\n",
       "    </tr>\n",
       "  </thead>\n",
       "  <tbody>\n",
       "    <tr>\n",
       "      <th>723</th>\n",
       "      <td>tt1298650</td>\n",
       "      <td>Pirates of the Caribbean: On Stranger Tides</td>\n",
       "      <td>380000000</td>\n",
       "    </tr>\n",
       "  </tbody>\n",
       "</table>\n",
       "</div>"
      ],
      "text/plain": [
       "       imdb_id                               original_title     budget\n",
       "723  tt1298650  Pirates of the Caribbean: On Stranger Tides  380000000"
      ]
     },
     "metadata": {},
     "output_type": "display_data"
    }
   ],
   "source": [
    "'''Задача 1: У какого фильма из списка самый большой бюджет? (Вариант 2)'''\n",
    "result_1 = data.query('budget==budget.max()')[['imdb_id', 'original_title', 'budget']]\n",
    "\n",
    "display('Задача 1: У какого фильма из списка самый большой бюджет?', result_1)"
   ]
  },
  {
   "cell_type": "markdown",
   "metadata": {
    "colab_type": "text",
    "id": "FNRbbI3vVp-c"
   },
   "source": [
    "# 2. Какой из фильмов самый длительный (в минутах)?"
   ]
  },
  {
   "cell_type": "code",
   "execution_count": 12,
   "metadata": {
    "colab": {},
    "colab_type": "code",
    "id": "vHAoEXNTVp-d"
   },
   "outputs": [],
   "source": [
    "answers['2'] = '2. Gods and Generals (tt0279111)'\n",
    "# +"
   ]
  },
  {
   "cell_type": "code",
   "execution_count": 13,
   "metadata": {
    "colab": {},
    "colab_type": "code",
    "id": "ot-VX2XrVp-g"
   },
   "outputs": [
    {
     "data": {
      "text/plain": [
       "'Задача 2: Какой из фильмов самый длительный (в минутах)?'"
      ]
     },
     "metadata": {},
     "output_type": "display_data"
    },
    {
     "data": {
      "text/html": [
       "<div>\n",
       "<style scoped>\n",
       "    .dataframe tbody tr th:only-of-type {\n",
       "        vertical-align: middle;\n",
       "    }\n",
       "\n",
       "    .dataframe tbody tr th {\n",
       "        vertical-align: top;\n",
       "    }\n",
       "\n",
       "    .dataframe thead th {\n",
       "        text-align: right;\n",
       "    }\n",
       "</style>\n",
       "<table border=\"1\" class=\"dataframe\">\n",
       "  <thead>\n",
       "    <tr style=\"text-align: right;\">\n",
       "      <th></th>\n",
       "      <th>imdb_id</th>\n",
       "      <th>original_title</th>\n",
       "      <th>runtime</th>\n",
       "    </tr>\n",
       "  </thead>\n",
       "  <tbody>\n",
       "    <tr>\n",
       "      <th>1157</th>\n",
       "      <td>tt0279111</td>\n",
       "      <td>Gods and Generals</td>\n",
       "      <td>214</td>\n",
       "    </tr>\n",
       "  </tbody>\n",
       "</table>\n",
       "</div>"
      ],
      "text/plain": [
       "        imdb_id     original_title  runtime\n",
       "1157  tt0279111  Gods and Generals      214"
      ]
     },
     "metadata": {},
     "output_type": "display_data"
    }
   ],
   "source": [
    "'''Задача 2: Какой из фильмов самый длительный (в минутах)?'''\n",
    "result_2 = data[data.runtime == data.runtime.max()][['imdb_id', 'original_title', 'runtime']]\n",
    "\n",
    "display('Задача 2: Какой из фильмов самый длительный (в минутах)?', result_2)"
   ]
  },
  {
   "cell_type": "markdown",
   "metadata": {
    "colab_type": "text",
    "id": "bapLlpW8Vp-k"
   },
   "source": [
    "# 3. Какой из фильмов самый короткий (в минутах)?\n",
    "\n",
    "\n",
    "\n"
   ]
  },
  {
   "cell_type": "code",
   "execution_count": 14,
   "metadata": {
    "colab": {},
    "colab_type": "code",
    "id": "YBxaSHuAVp-l"
   },
   "outputs": [],
   "source": [
    "answers['3'] = '3. Winnie the Pooh (tt1449283)'\n",
    "# +"
   ]
  },
  {
   "cell_type": "code",
   "execution_count": 15,
   "metadata": {},
   "outputs": [
    {
     "data": {
      "text/plain": [
       "'Задача 3: Какой из фильмов самый короткий (в минутах)?'"
      ]
     },
     "metadata": {},
     "output_type": "display_data"
    },
    {
     "data": {
      "text/html": [
       "<div>\n",
       "<style scoped>\n",
       "    .dataframe tbody tr th:only-of-type {\n",
       "        vertical-align: middle;\n",
       "    }\n",
       "\n",
       "    .dataframe tbody tr th {\n",
       "        vertical-align: top;\n",
       "    }\n",
       "\n",
       "    .dataframe thead th {\n",
       "        text-align: right;\n",
       "    }\n",
       "</style>\n",
       "<table border=\"1\" class=\"dataframe\">\n",
       "  <thead>\n",
       "    <tr style=\"text-align: right;\">\n",
       "      <th></th>\n",
       "      <th>imdb_id</th>\n",
       "      <th>original_title</th>\n",
       "      <th>runtime</th>\n",
       "    </tr>\n",
       "  </thead>\n",
       "  <tbody>\n",
       "    <tr>\n",
       "      <th>768</th>\n",
       "      <td>tt1449283</td>\n",
       "      <td>Winnie the Pooh</td>\n",
       "      <td>63</td>\n",
       "    </tr>\n",
       "  </tbody>\n",
       "</table>\n",
       "</div>"
      ],
      "text/plain": [
       "       imdb_id   original_title  runtime\n",
       "768  tt1449283  Winnie the Pooh       63"
      ]
     },
     "metadata": {},
     "output_type": "display_data"
    }
   ],
   "source": [
    "'''Задача 3: Какой из фильмов самый короткий (в минутах)?'''\n",
    "result_3 = data[data.runtime == data.runtime.min()][['imdb_id', 'original_title', 'runtime']]\n",
    "\n",
    "display('Задача 3: Какой из фильмов самый короткий (в минутах)?', result_3)"
   ]
  },
  {
   "cell_type": "markdown",
   "metadata": {
    "colab_type": "text",
    "id": "TfQbxbfNVp-p"
   },
   "source": [
    "# 4. Какова средняя длительность фильмов?\n"
   ]
  },
  {
   "cell_type": "code",
   "execution_count": 16,
   "metadata": {
    "colab": {},
    "colab_type": "code",
    "id": "5K6dKZYVVp-q"
   },
   "outputs": [],
   "source": [
    "answers['4'] = '2. 110'\n",
    "# +"
   ]
  },
  {
   "cell_type": "code",
   "execution_count": 17,
   "metadata": {},
   "outputs": [
    {
     "data": {
      "text/plain": [
       "'Задача 4: Какова средняя длительность фильмов?'"
      ]
     },
     "metadata": {},
     "output_type": "display_data"
    },
    {
     "data": {
      "text/plain": [
       "110"
      ]
     },
     "metadata": {},
     "output_type": "display_data"
    }
   ],
   "source": [
    "'''Задача 4: Какова средняя длительность фильмов?'''\n",
    "result_4 = data.runtime.mean()\n",
    "\n",
    "display('Задача 4: Какова средняя длительность фильмов?', round(result_4))"
   ]
  },
  {
   "cell_type": "markdown",
   "metadata": {
    "colab_type": "text",
    "id": "r5TvbnT_Vp-u"
   },
   "source": [
    "# 5. Каково медианное значение длительности фильмов? "
   ]
  },
  {
   "cell_type": "code",
   "execution_count": 18,
   "metadata": {
    "colab": {},
    "colab_type": "code",
    "id": "iBROplKnVp-v"
   },
   "outputs": [],
   "source": [
    "answers['5'] = '1. 107'\n",
    "# +"
   ]
  },
  {
   "cell_type": "code",
   "execution_count": 19,
   "metadata": {},
   "outputs": [
    {
     "data": {
      "text/plain": [
       "'Задача 5: Каково медианное значение длительности фильмов?'"
      ]
     },
     "metadata": {},
     "output_type": "display_data"
    },
    {
     "data": {
      "text/plain": [
       "107"
      ]
     },
     "metadata": {},
     "output_type": "display_data"
    }
   ],
   "source": [
    "'''Задача 5: Каково медианное значение длительности фильмов?'''\n",
    "result_5 = data.runtime.median()\n",
    "\n",
    "display('Задача 5: Каково медианное значение длительности фильмов?', round(result_5))"
   ]
  },
  {
   "cell_type": "markdown",
   "metadata": {
    "colab_type": "text",
    "id": "39P-deDSVp-y"
   },
   "source": [
    "# 6. Какой самый прибыльный фильм?\n",
    "#### Внимание! Здесь и далее под «прибылью» или «убытками» понимается разность между сборами и бюджетом фильма. (прибыль = сборы - бюджет) в нашем датасете это будет (profit = revenue - budget) "
   ]
  },
  {
   "cell_type": "code",
   "execution_count": 20,
   "metadata": {
    "colab": {},
    "colab_type": "code",
    "id": "UYZh4T9WVp-y"
   },
   "outputs": [],
   "source": [
    "answers['6'] = '5. Avatar (tt0499549)'\n",
    "# +"
   ]
  },
  {
   "cell_type": "code",
   "execution_count": 21,
   "metadata": {},
   "outputs": [
    {
     "data": {
      "text/plain": [
       "'Задача 6: Какой самый прибыльный фильм?'"
      ]
     },
     "metadata": {},
     "output_type": "display_data"
    },
    {
     "data": {
      "text/html": [
       "<div>\n",
       "<style scoped>\n",
       "    .dataframe tbody tr th:only-of-type {\n",
       "        vertical-align: middle;\n",
       "    }\n",
       "\n",
       "    .dataframe tbody tr th {\n",
       "        vertical-align: top;\n",
       "    }\n",
       "\n",
       "    .dataframe thead th {\n",
       "        text-align: right;\n",
       "    }\n",
       "</style>\n",
       "<table border=\"1\" class=\"dataframe\">\n",
       "  <thead>\n",
       "    <tr style=\"text-align: right;\">\n",
       "      <th></th>\n",
       "      <th>imdb_id</th>\n",
       "      <th>original_title</th>\n",
       "      <th>profit</th>\n",
       "    </tr>\n",
       "  </thead>\n",
       "  <tbody>\n",
       "    <tr>\n",
       "      <th>239</th>\n",
       "      <td>tt0499549</td>\n",
       "      <td>Avatar</td>\n",
       "      <td>2544505847</td>\n",
       "    </tr>\n",
       "  </tbody>\n",
       "</table>\n",
       "</div>"
      ],
      "text/plain": [
       "       imdb_id original_title      profit\n",
       "239  tt0499549         Avatar  2544505847"
      ]
     },
     "metadata": {},
     "output_type": "display_data"
    }
   ],
   "source": [
    "'''Задача 6: Какой самый прибыльный фильм?'''\n",
    "result_6 = data[data.profit == data.profit.max()][['imdb_id', 'original_title', 'profit']]\n",
    "\n",
    "display('Задача 6: Какой самый прибыльный фильм?', result_6)"
   ]
  },
  {
   "cell_type": "markdown",
   "metadata": {
    "colab_type": "text",
    "id": "M99JmIX4Vp-2"
   },
   "source": [
    "# 7. Какой фильм самый убыточный? "
   ]
  },
  {
   "cell_type": "code",
   "execution_count": 22,
   "metadata": {
    "colab": {},
    "colab_type": "code",
    "id": "w-D2m4XPVp-3"
   },
   "outputs": [],
   "source": [
    "answers['7'] = '5. The Lone Ranger (tt1210819)'\n",
    "# +"
   ]
  },
  {
   "cell_type": "code",
   "execution_count": 23,
   "metadata": {},
   "outputs": [
    {
     "data": {
      "text/plain": [
       "'Задача 7: Какой фильм самый убыточный?'"
      ]
     },
     "metadata": {},
     "output_type": "display_data"
    },
    {
     "data": {
      "text/html": [
       "<div>\n",
       "<style scoped>\n",
       "    .dataframe tbody tr th:only-of-type {\n",
       "        vertical-align: middle;\n",
       "    }\n",
       "\n",
       "    .dataframe tbody tr th {\n",
       "        vertical-align: top;\n",
       "    }\n",
       "\n",
       "    .dataframe thead th {\n",
       "        text-align: right;\n",
       "    }\n",
       "</style>\n",
       "<table border=\"1\" class=\"dataframe\">\n",
       "  <thead>\n",
       "    <tr style=\"text-align: right;\">\n",
       "      <th></th>\n",
       "      <th>imdb_id</th>\n",
       "      <th>original_title</th>\n",
       "      <th>profit</th>\n",
       "    </tr>\n",
       "  </thead>\n",
       "  <tbody>\n",
       "    <tr>\n",
       "      <th>1245</th>\n",
       "      <td>tt1210819</td>\n",
       "      <td>The Lone Ranger</td>\n",
       "      <td>-165710090</td>\n",
       "    </tr>\n",
       "  </tbody>\n",
       "</table>\n",
       "</div>"
      ],
      "text/plain": [
       "        imdb_id   original_title     profit\n",
       "1245  tt1210819  The Lone Ranger -165710090"
      ]
     },
     "metadata": {},
     "output_type": "display_data"
    }
   ],
   "source": [
    "'''Задача 7: Какой фильм самый убыточный?'''\n",
    "result_7 = data[data.profit == data.profit.min()][['imdb_id', 'original_title', 'profit']]\n",
    "\n",
    "display('Задача 7: Какой фильм самый убыточный?', result_7)"
   ]
  },
  {
   "cell_type": "markdown",
   "metadata": {
    "colab_type": "text",
    "id": "wEOM5ERVVp-6"
   },
   "source": [
    "# 8. У скольких фильмов из датасета объем сборов оказался выше бюджета?"
   ]
  },
  {
   "cell_type": "code",
   "execution_count": 24,
   "metadata": {
    "colab": {},
    "colab_type": "code",
    "id": "y00_7HD6Vp-7"
   },
   "outputs": [],
   "source": [
    "answers['8'] = '1. 1478'\n",
    "# +"
   ]
  },
  {
   "cell_type": "code",
   "execution_count": 25,
   "metadata": {},
   "outputs": [
    {
     "data": {
      "text/plain": [
       "'Задача 8: У скольких фильмов из датасета объем сборов оказался выше бюджета?'"
      ]
     },
     "metadata": {},
     "output_type": "display_data"
    },
    {
     "data": {
      "text/plain": [
       "1478"
      ]
     },
     "metadata": {},
     "output_type": "display_data"
    }
   ],
   "source": [
    "'''Задача 8: У скольких фильмов из датасета объем сборов оказался выше бюджета?'''\n",
    "result_8 = data[data.profit > 0].imdb_id.count()\n",
    "\n",
    "display('Задача 8: У скольких фильмов из датасета объем сборов оказался выше бюджета?', result_8)"
   ]
  },
  {
   "cell_type": "markdown",
   "metadata": {
    "colab_type": "text",
    "id": "xhpspA9KVp_A"
   },
   "source": [
    "# 9. Какой фильм оказался самым кассовым в 2008 году?"
   ]
  },
  {
   "cell_type": "code",
   "execution_count": 26,
   "metadata": {
    "colab": {},
    "colab_type": "code",
    "id": "MoUyQr9RVp_B"
   },
   "outputs": [],
   "source": [
    "answers['9'] = '4. The Dark Knight (tt0468569)'\n",
    "# +"
   ]
  },
  {
   "cell_type": "code",
   "execution_count": 27,
   "metadata": {},
   "outputs": [
    {
     "data": {
      "text/plain": [
       "'Задача 9: Какой фильм оказался самым кассовым в 2008 году?'"
      ]
     },
     "metadata": {},
     "output_type": "display_data"
    },
    {
     "data": {
      "text/html": [
       "<div>\n",
       "<style scoped>\n",
       "    .dataframe tbody tr th:only-of-type {\n",
       "        vertical-align: middle;\n",
       "    }\n",
       "\n",
       "    .dataframe tbody tr th {\n",
       "        vertical-align: top;\n",
       "    }\n",
       "\n",
       "    .dataframe thead th {\n",
       "        text-align: right;\n",
       "    }\n",
       "</style>\n",
       "<table border=\"1\" class=\"dataframe\">\n",
       "  <thead>\n",
       "    <tr style=\"text-align: right;\">\n",
       "      <th></th>\n",
       "      <th>imdb_id</th>\n",
       "      <th>original_title</th>\n",
       "      <th>revenue</th>\n",
       "    </tr>\n",
       "  </thead>\n",
       "  <tbody>\n",
       "    <tr>\n",
       "      <th>599</th>\n",
       "      <td>tt0468569</td>\n",
       "      <td>The Dark Knight</td>\n",
       "      <td>1001921825</td>\n",
       "    </tr>\n",
       "  </tbody>\n",
       "</table>\n",
       "</div>"
      ],
      "text/plain": [
       "       imdb_id   original_title     revenue\n",
       "599  tt0468569  The Dark Knight  1001921825"
      ]
     },
     "metadata": {},
     "output_type": "display_data"
    }
   ],
   "source": [
    "'''Задача 9: Какой фильм оказался самым кассовым в 2008 году?'''\n",
    "tmp_9 = data[data.release_year == 2008] # Оставляем фильмы только за 2008 год\n",
    "result_9 = tmp_9[tmp_9.revenue == tmp_9.revenue.max()][['imdb_id', 'original_title', 'revenue']]\n",
    "\n",
    "display('Задача 9: Какой фильм оказался самым кассовым в 2008 году?', result_9)"
   ]
  },
  {
   "cell_type": "markdown",
   "metadata": {
    "colab_type": "text",
    "id": "Zi4hDKidVp_F"
   },
   "source": [
    "# 10. Самый убыточный фильм за период с 2012 по 2014 г. (включительно)?\n"
   ]
  },
  {
   "cell_type": "code",
   "execution_count": 28,
   "metadata": {
    "colab": {},
    "colab_type": "code",
    "id": "XqyRmufJVp_F"
   },
   "outputs": [],
   "source": [
    "answers['10'] = '5. The Lone Ranger (tt1210819)'\n",
    "# +"
   ]
  },
  {
   "cell_type": "code",
   "execution_count": 29,
   "metadata": {},
   "outputs": [
    {
     "data": {
      "text/plain": [
       "'Задача 10: Самый убыточный фильм за период с 2012 по 2014 г. (включительно)?'"
      ]
     },
     "metadata": {},
     "output_type": "display_data"
    },
    {
     "data": {
      "text/html": [
       "<div>\n",
       "<style scoped>\n",
       "    .dataframe tbody tr th:only-of-type {\n",
       "        vertical-align: middle;\n",
       "    }\n",
       "\n",
       "    .dataframe tbody tr th {\n",
       "        vertical-align: top;\n",
       "    }\n",
       "\n",
       "    .dataframe thead th {\n",
       "        text-align: right;\n",
       "    }\n",
       "</style>\n",
       "<table border=\"1\" class=\"dataframe\">\n",
       "  <thead>\n",
       "    <tr style=\"text-align: right;\">\n",
       "      <th></th>\n",
       "      <th>imdb_id</th>\n",
       "      <th>original_title</th>\n",
       "      <th>revenue</th>\n",
       "    </tr>\n",
       "  </thead>\n",
       "  <tbody>\n",
       "    <tr>\n",
       "      <th>1245</th>\n",
       "      <td>tt1210819</td>\n",
       "      <td>The Lone Ranger</td>\n",
       "      <td>89289910</td>\n",
       "    </tr>\n",
       "  </tbody>\n",
       "</table>\n",
       "</div>"
      ],
      "text/plain": [
       "        imdb_id   original_title   revenue\n",
       "1245  tt1210819  The Lone Ranger  89289910"
      ]
     },
     "metadata": {},
     "output_type": "display_data"
    }
   ],
   "source": [
    "'''Задача 10: Самый убыточный фильм за период с 2012 по 2014 г. (включительно)?'''\n",
    "tmp_10 = data.query('2011<release_year<2015') # Оставляем только фильмы за 2012-2014 годы\n",
    "result_10 = tmp_10[tmp_10.profit == tmp_10.profit.min()][['imdb_id', 'original_title', 'revenue']]\n",
    "\n",
    "display('Задача 10: Самый убыточный фильм за период с 2012 по 2014 г. (включительно)?', result_10)"
   ]
  },
  {
   "cell_type": "markdown",
   "metadata": {
    "colab_type": "text",
    "id": "EA7Sa9dkVp_I"
   },
   "source": [
    "# 11. Какого жанра фильмов больше всего?"
   ]
  },
  {
   "cell_type": "code",
   "execution_count": 30,
   "metadata": {
    "colab": {},
    "colab_type": "code",
    "id": "zsJAwJ8QVp_J"
   },
   "outputs": [],
   "source": [
    "answers['11'] = '3. Drama'\n",
    "# +"
   ]
  },
  {
   "cell_type": "code",
   "execution_count": 31,
   "metadata": {},
   "outputs": [
    {
     "data": {
      "text/plain": [
       "'Задача 11: Какого жанра фильмов больше всего?'"
      ]
     },
     "metadata": {},
     "output_type": "display_data"
    },
    {
     "data": {
      "text/plain": [
       "Drama       782\n",
       "Comedy      683\n",
       "Thriller    596\n",
       "dtype: int64"
      ]
     },
     "metadata": {},
     "output_type": "display_data"
    }
   ],
   "source": [
    "'''Задача 11: Какого жанра фильмов больше всего? (Вариант 1)'''\n",
    "srs_11 = pd.Series('')\n",
    "tmp_11 = data.genres.apply(f_ser) # Формируем таблицу из жанров по каждому фильму...\n",
    "\n",
    "for i in range(len(tmp_11.columns)): # ... и определяем количество её столбцов\n",
    "    srs_11 = pd.concat([srs_11, tmp_11[i]]) # Объединяем столбцы таблицы в один стобец\n",
    "\n",
    "result_11 = srs_11.value_counts() # Ранжируем результат\n",
    "\n",
    "display('Задача 11: Какого жанра фильмов больше всего?', result_11.head(3))"
   ]
  },
  {
   "cell_type": "markdown",
   "metadata": {
    "colab_type": "text",
    "id": "Ax6g2C8SVp_M"
   },
   "source": [
    "ВАРИАНТ 2"
   ]
  },
  {
   "cell_type": "code",
   "execution_count": 32,
   "metadata": {
    "colab": {},
    "colab_type": "code",
    "id": "otO3SbrSVp_N"
   },
   "outputs": [
    {
     "data": {
      "text/plain": [
       "'Задача 11: Какого жанра фильмов больше всего?'"
      ]
     },
     "metadata": {},
     "output_type": "display_data"
    },
    {
     "data": {
      "text/plain": [
       "Drama       782\n",
       "Comedy      683\n",
       "Thriller    596\n",
       "dtype: int64"
      ]
     },
     "metadata": {},
     "output_type": "display_data"
    }
   ],
   "source": [
    "'''Задача 11: Какого жанра фильмов больше всего? (Вариант 2)'''\n",
    "srs_11 = pd.Series('')\n",
    "\n",
    "for a in data.genres: # ...формируем список жанров фильмов (Series)...\n",
    "    srs_11 = srs_11.append(f_ser(a))\n",
    "\n",
    "result_11 = srs_11.value_counts() # ...и получаем результат\n",
    "display('Задача 11: Какого жанра фильмов больше всего?', result_11.head(3))"
   ]
  },
  {
   "cell_type": "markdown",
   "metadata": {
    "colab_type": "text",
    "id": "T9_bPWpkVp_Q"
   },
   "source": [
    "# 12. Фильмы какого жанра чаще всего становятся прибыльными? "
   ]
  },
  {
   "cell_type": "code",
   "execution_count": 33,
   "metadata": {
    "colab": {},
    "colab_type": "code",
    "id": "Tmt8MaK1Vp_R"
   },
   "outputs": [],
   "source": [
    "answers['12'] = '1. Drama'\n",
    "# +"
   ]
  },
  {
   "cell_type": "code",
   "execution_count": 34,
   "metadata": {},
   "outputs": [
    {
     "data": {
      "text/plain": [
       "'Задача 12: Фильмы какого жанра чаще всего становятся прибыльными?'"
      ]
     },
     "metadata": {},
     "output_type": "display_data"
    },
    {
     "data": {
      "text/plain": [
       "Drama       560\n",
       "Comedy      551\n",
       "Thriller    446\n",
       "dtype: int64"
      ]
     },
     "metadata": {},
     "output_type": "display_data"
    }
   ],
   "source": [
    "'''Задача 12: Фильмы какого жанра чаще всего становятся прибыльными? (Вариант 1)'''\n",
    "srs_12 = pd.Series('')\n",
    "tmp_12 = data[data.profit > 0].genres.apply(f_ser) # Формируем таблицу из жанров по каждому фильму, имеющему прибыль\n",
    "\n",
    "for i in range(len(tmp_12.columns)):\n",
    "    srs_12 = pd.concat([srs_12, tmp_12[i]]) # Объединяем столбцы таблицы в один стобец\n",
    "\n",
    "result_12 = srs_12.value_counts() # Ранжируем результат\n",
    "display('Задача 12: Фильмы какого жанра чаще всего становятся прибыльными?', result_12.head(3))"
   ]
  },
  {
   "cell_type": "markdown",
   "metadata": {
    "colab_type": "text",
    "id": "Ax6g2C8SVp_M"
   },
   "source": [
    "ВАРИАНТ 2"
   ]
  },
  {
   "cell_type": "code",
   "execution_count": 35,
   "metadata": {},
   "outputs": [
    {
     "data": {
      "text/plain": [
       "'Задача 12: Фильмы какого жанра чаще всего становятся прибыльными?'"
      ]
     },
     "metadata": {},
     "output_type": "display_data"
    },
    {
     "data": {
      "text/plain": [
       "Drama       560\n",
       "Comedy      551\n",
       "Thriller    446\n",
       "dtype: int64"
      ]
     },
     "metadata": {},
     "output_type": "display_data"
    }
   ],
   "source": [
    "'''Задача 12: Фильмы какого жанра чаще всего становятся прибыльными? (Вариант 2)'''\n",
    "srs_12 = pd.Series('')\n",
    "tmp_12 = data[data.profit > 0] # Оставляем только фильмы, имеющие прибыль...\n",
    "\n",
    "for a in tmp_12.genres: # ...формируем список жанров таких фильмов (Series)...\n",
    "    srs_12 = srs_12.append(f_ser(a))\n",
    "\n",
    "tmp_12 = srs_12.value_counts() # ...и получаем результат\n",
    "\n",
    "display('Задача 12: Фильмы какого жанра чаще всего становятся прибыльными?', result_12.head(3))"
   ]
  },
  {
   "cell_type": "markdown",
   "metadata": {
    "colab_type": "text",
    "id": "0F23bgsDVp_U"
   },
   "source": [
    "# 13. У какого режиссера самые большие суммарные кассовые сбооры?"
   ]
  },
  {
   "cell_type": "code",
   "execution_count": 36,
   "metadata": {
    "colab": {},
    "colab_type": "code",
    "id": "K6Z3J8ygVp_X"
   },
   "outputs": [],
   "source": [
    "answers['13'] = '5. Peter Jackson'\n",
    "# +"
   ]
  },
  {
   "cell_type": "code",
   "execution_count": 37,
   "metadata": {},
   "outputs": [
    {
     "data": {
      "text/plain": [
       "'Задача 13: У какого режиссера самые большие суммарные кассовые сборы?'"
      ]
     },
     "metadata": {},
     "output_type": "display_data"
    },
    {
     "data": {
      "text/plain": [
       "Peter Jackson       6,490,593,685.00\n",
       "Christopher Nolan   4,167,548,502.00\n",
       "David Yates         4,154,295,625.00\n",
       "Name: 0, dtype: float64"
      ]
     },
     "metadata": {},
     "output_type": "display_data"
    }
   ],
   "source": [
    "'''Задача 13: У какого режиссера самые большие суммарные кассовые сборы? (Вариант 1)'''\n",
    "result_13 = pd.DataFrame()\n",
    "\n",
    "tmp_13 = data.director.apply(f_ser) # Формируем таблицу из режиссеров по каждому фильму\n",
    "l_colmn = len(tmp_13.columns)\n",
    "tmp_13[l_colmn] = data.revenue # Добавляем в таблицу столбец с кассовыми сборами\n",
    "\n",
    "for i in range(l_colmn): # Формируем таблицу из двух столбцов: Режиссер + Кассовые сборы\n",
    "    result_13 = pd.concat([result_13, tmp_13.groupby([i])[l_colmn].sum()])\n",
    "\n",
    "result_13 = result_13.groupby([result_13.index])[0].sum().sort_values(ascending=False) # Сортировка по кассовым сборам\n",
    "\n",
    "display('Задача 13: У какого режиссера самые большие суммарные кассовые сборы?',result_13.head(3))"
   ]
  },
  {
   "cell_type": "markdown",
   "metadata": {},
   "source": [
    "ВАРИАНТ 2"
   ]
  },
  {
   "cell_type": "code",
   "execution_count": 38,
   "metadata": {},
   "outputs": [
    {
     "data": {
      "text/plain": [
       "'Задача 13: У какого режиссера самые большие суммарные кассовые сборы?'"
      ]
     },
     "metadata": {},
     "output_type": "display_data"
    },
    {
     "data": {
      "text/plain": [
       "0\n",
       "Peter Jackson        6490593685\n",
       "Christopher Nolan    4167548502\n",
       "David Yates          4154295625\n",
       "Name: 1, dtype: int64"
      ]
     },
     "metadata": {},
     "output_type": "display_data"
    }
   ],
   "source": [
    "'''Задача 13: У какого режиссера самые большие суммарные кассовые сборы? (Вариант 2)'''\n",
    "result_13 = pd.DataFrame()\n",
    "tmp_13 = pd.DataFrame()\n",
    "\n",
    "i = 0\n",
    "for list_dir in data.director: # Формируем DataFrame: Hежиссер + Кассовые сборы\n",
    "    tmp_13[0] = f_ser(list_dir)\n",
    "    tmp_13[1] = data.revenue.loc[i]\n",
    "    i += 1\n",
    "    result_13 = pd.concat([result_13, tmp_13])\n",
    "\n",
    "result_13 = result_13.dropna() # Удаляем строки, где есть NaN (не обязательно!)\n",
    "result_13 = result_13.groupby([0])[1].sum().sort_values(ascending=False) # Получаем результат\n",
    "\n",
    "display('Задача 13: У какого режиссера самые большие суммарные кассовые сборы?',result_13.head(3))"
   ]
  },
  {
   "cell_type": "markdown",
   "metadata": {},
   "source": [
    "ВАРИАНТ 3"
   ]
  },
  {
   "cell_type": "code",
   "execution_count": 39,
   "metadata": {},
   "outputs": [
    {
     "data": {
      "text/plain": [
       "'Задача 13: У какого режиссера самые большие суммарные кассовые сборы?'"
      ]
     },
     "metadata": {},
     "output_type": "display_data"
    },
    {
     "data": {
      "text/plain": [
       "         director         \n",
       "revenue  Peter Jackson        6490593685\n",
       "         Christopher Nolan    4167548502\n",
       "         David Yates          4154295625\n",
       "Name: All, dtype: int64"
      ]
     },
     "metadata": {},
     "output_type": "display_data"
    }
   ],
   "source": [
    "'''Задача 13: У какого режиссера самые большие суммарные кассовые сборы? (Вариант 3)'''\n",
    "tmp_13 = data.pivot_table(values=['revenue'],\n",
    "index=['release_year'],\n",
    "columns=['director'],\n",
    "aggfunc='sum',\n",
    "margins=True,\n",
    "fill_value=0)\n",
    "\n",
    "result_13 = tmp_13.loc['All'].sort_values(ascending=False)\n",
    "\n",
    "display('Задача 13: У какого режиссера самые большие суммарные кассовые сборы?',result_13[1:4])"
   ]
  },
  {
   "cell_type": "markdown",
   "metadata": {
    "colab_type": "text",
    "id": "PsYC9FgRVp_a"
   },
   "source": [
    "# 14. Какой режисер снял больше всего фильмов в стиле Action?"
   ]
  },
  {
   "cell_type": "code",
   "execution_count": 40,
   "metadata": {
    "colab": {},
    "colab_type": "code",
    "id": "wd2M-wHeVp_b"
   },
   "outputs": [],
   "source": [
    "answers['14'] = '3. Robert Rodriguez'\n",
    "# +"
   ]
  },
  {
   "cell_type": "code",
   "execution_count": 41,
   "metadata": {},
   "outputs": [
    {
     "data": {
      "text/plain": [
       "'Задача 14: Какой режисер снял больше всего фильмов в стиле Action?'"
      ]
     },
     "metadata": {},
     "output_type": "display_data"
    },
    {
     "data": {
      "text/plain": [
       "Robert Rodriguez      9\n",
       "Paul W.S. Anderson    7\n",
       "Michael Bay           7\n",
       "dtype: int64"
      ]
     },
     "metadata": {},
     "output_type": "display_data"
    }
   ],
   "source": [
    "'''Задача 14: Какой режисер снял больше всего фильмов в стиле Action? (Вариант 1)'''\n",
    "srs_14 = pd.Series('')\n",
    "tmp_14 = data[data.genres.str.contains('Action')].director.apply(f_ser) # Таблица из режиссеров фильмов в стиле Action\n",
    "\n",
    "for i in range(len(tmp_14.columns)): # Объединяем столбцы таблицы в один стобец \n",
    "    srs_14 = pd.concat([srs_14, tmp_14[i]])\n",
    "\n",
    "result_14 = srs_14.value_counts() # Считаем количество фильмов для каждого режиссера\n",
    "\n",
    "display('Задача 14: Какой режисер снял больше всего фильмов в стиле Action?', result_14.head(3))"
   ]
  },
  {
   "cell_type": "markdown",
   "metadata": {},
   "source": [
    "ВАРИАНТ 2"
   ]
  },
  {
   "cell_type": "code",
   "execution_count": 42,
   "metadata": {},
   "outputs": [
    {
     "data": {
      "text/plain": [
       "'Задача 14: Какой режисер снял больше всего фильмов в стиле Action?'"
      ]
     },
     "metadata": {},
     "output_type": "display_data"
    },
    {
     "data": {
      "text/plain": [
       "Robert Rodriguez      9\n",
       "Paul W.S. Anderson    7\n",
       "Michael Bay           7\n",
       "dtype: int64"
      ]
     },
     "metadata": {},
     "output_type": "display_data"
    }
   ],
   "source": [
    "'''Задача 14: Какой режисер снял больше всего фильмов в стиле Action? (Вариант 2)'''\n",
    "srs_14 = pd.Series('')\n",
    "tmp_14 = data[data.genres.str.contains('Action')] # Оставляем только фильмы в стиле Action...\n",
    "\n",
    "for a in tmp_14.director: # ...формируем список режиссеров, снимавших такие фильмы (Series)...\n",
    "    srs_14 = srs_14.append(f_ser(a))\n",
    "\n",
    "result_14 = srs_14.value_counts() # ...и получаем результат\n",
    "\n",
    "display('Задача 14: Какой режисер снял больше всего фильмов в стиле Action?', result_14.head(3))"
   ]
  },
  {
   "cell_type": "markdown",
   "metadata": {
    "colab_type": "text",
    "id": "PQ0KciD7Vp_f"
   },
   "source": [
    "# 15. Фильмы с каким актером принесли самые высокие кассовые сборы в 2012 году? "
   ]
  },
  {
   "cell_type": "code",
   "execution_count": 43,
   "metadata": {
    "colab": {},
    "colab_type": "code",
    "id": "aga62oeKVp_g"
   },
   "outputs": [],
   "source": [
    "answers['15'] = '3. Chris Hemsworth'\n",
    "# +"
   ]
  },
  {
   "cell_type": "code",
   "execution_count": 44,
   "metadata": {},
   "outputs": [
    {
     "data": {
      "text/plain": [
       "'Задача 15: Фильмы с каким актером принесли самые высокие кассовые сборы в 2012 году?'"
      ]
     },
     "metadata": {},
     "output_type": "display_data"
    },
    {
     "data": {
      "text/plain": [
       "Chris Hemsworth   2,027,450,773.00\n",
       "Denis Leary       1,629,460,639.00\n",
       "Anne Hathaway     1,522,851,057.00\n",
       "Name: 0, dtype: float64"
      ]
     },
     "metadata": {},
     "output_type": "display_data"
    }
   ],
   "source": [
    "'''Задача 15: Фильмы с каким актером принесли самые высокие кассовые сборы в 2012 году? (Вариант 1)'''\n",
    "result_15 = pd.DataFrame()\n",
    "\n",
    "filtr = data[data.release_year == 2012] # Ограничиваем круг поиска фильмов\n",
    "tmp_15 = filtr.cast.apply(f_ser) # Формируем таблицу из актеров по каждому фильму\n",
    "l_colmn = len(tmp_15.columns) # Считаем количество столбцов полученной таблицы\n",
    "tmp_15[l_colmn] = filtr.revenue # Добавляем в таблицу столбец с кассовыми сборами\n",
    "\n",
    "for i in range(l_colmn): # Формируем таблицу из двух столбцов: Актер + Кассовые сборы\n",
    "    result_15 = pd.concat([result_15, tmp_15.groupby([i])[l_colmn].sum()])\n",
    "\n",
    "result_15 = result_15.groupby([result_15.index])[0].sum().sort_values(ascending=False) # Сортировка по кассовым сборам\n",
    "\n",
    "display('Задача 15: Фильмы с каким актером принесли самые высокие кассовые сборы в 2012 году?',result_15.head(3))"
   ]
  },
  {
   "cell_type": "markdown",
   "metadata": {},
   "source": [
    "ВАРИАНТ 2"
   ]
  },
  {
   "cell_type": "code",
   "execution_count": 45,
   "metadata": {},
   "outputs": [
    {
     "data": {
      "text/plain": [
       "'Задача 15: Фильмы с каким актером принесли самые высокие кассовые сборы в 2012 году?'"
      ]
     },
     "metadata": {},
     "output_type": "display_data"
    },
    {
     "data": {
      "text/plain": [
       "0\n",
       "Chris Hemsworth    2027450773\n",
       "Denis Leary        1629460639\n",
       "Anne Hathaway      1522851057\n",
       "Name: 1, dtype: int64"
      ]
     },
     "metadata": {},
     "output_type": "display_data"
    }
   ],
   "source": [
    "'''Задача 15: Фильмы с каким актером принесли самые высокие кассовые сборы в 2012 году? (Вариант 2)'''\n",
    "result_15 = pd.DataFrame()\n",
    "tmp_15 = pd.DataFrame()\n",
    "\n",
    "filtr = data[data.release_year == 2012] # Ограничиваем круг поиска фильмов 2012 годом\n",
    "\n",
    "i = 0\n",
    "\n",
    "for list_act in filtr.cast: # Формируем DataFrame: Актер + Кассовые сборы\n",
    "    tmp_15[0] = f_ser(list_act)\n",
    "    tmp_15[1] = filtr.revenue.loc[filtr.index[i]]\n",
    "    i += 1\n",
    "    result_15 = pd.concat([result_15, tmp_15])\n",
    "\n",
    "result_15 = result_15.dropna() # Удаляем строки, где есть NaN (не обязательно!)\n",
    "result_15 = result_15.groupby([0])[1].sum().sort_values(ascending=False) # Получаем результат\n",
    "\n",
    "display('Задача 15: Фильмы с каким актером принесли самые высокие кассовые сборы в 2012 году?',result_15.head(3))"
   ]
  },
  {
   "cell_type": "markdown",
   "metadata": {
    "colab_type": "text",
    "id": "mWHyyL7QVp_j"
   },
   "source": [
    "# 16. Какой актер снялся в большем количестве высокобюджетных фильмов?"
   ]
  },
  {
   "cell_type": "code",
   "execution_count": 46,
   "metadata": {
    "colab": {},
    "colab_type": "code",
    "id": "qQtmHKTFVp_k"
   },
   "outputs": [],
   "source": [
    "answers['16'] = '3. Matt Damon'\n",
    "# +"
   ]
  },
  {
   "cell_type": "code",
   "execution_count": 47,
   "metadata": {},
   "outputs": [
    {
     "data": {
      "text/plain": [
       "'Задача 16: Какой актер снялся в большем количестве высокобюджетных фильмов?'"
      ]
     },
     "metadata": {},
     "output_type": "display_data"
    },
    {
     "data": {
      "text/plain": [
       "Matt Damon        18\n",
       "Adam Sandler      17\n",
       "Angelina Jolie    16\n",
       "dtype: int64"
      ]
     },
     "metadata": {},
     "output_type": "display_data"
    }
   ],
   "source": [
    "'''Задача 16: Какой актер снялся в большем количестве высокобюджетных фильмов? (Вариант 1)'''\n",
    "result_16 = pd.Series('')\n",
    "tmp_16 = data[data.budget > data.budget.mean()].cast.apply(f_ser) # Таблица из актеров по фильмам с бюджетом выше среднего\n",
    "\n",
    "for i in range(len(tmp_16.columns)): # Объединяем столбцы таблицы в один стобец с актерами\n",
    "    result_16 = pd.concat([result_16, tmp_16[i]])\n",
    "\n",
    "display('Задача 16: Какой актер снялся в большем количестве высокобюджетных фильмов?', result_16.value_counts().head(3))"
   ]
  },
  {
   "cell_type": "markdown",
   "metadata": {},
   "source": [
    "ВАРИАНТ 2"
   ]
  },
  {
   "cell_type": "code",
   "execution_count": 48,
   "metadata": {},
   "outputs": [
    {
     "data": {
      "text/plain": [
       "'Задача 16: Какой актер снялся в большем количестве высокобюджетных фильмов?'"
      ]
     },
     "metadata": {},
     "output_type": "display_data"
    },
    {
     "data": {
      "text/plain": [
       "Matt Damon        18\n",
       "Adam Sandler      17\n",
       "Angelina Jolie    16\n",
       "dtype: int64"
      ]
     },
     "metadata": {},
     "output_type": "display_data"
    }
   ],
   "source": [
    "'''Задача 16: Какой актер снялся в большем количестве высокобюджетных фильмов?  (Вариант 2)'''\n",
    "result_16 = pd.Series('')\n",
    "tmp_16 = data[data.budget > data.budget.mean()] # Оставляем фильмы с бюджетом выше среднего...\n",
    "\n",
    "for a in tmp_16.cast: # ...и формируем список актеров, снявшихся в таких фильмах (Series)\n",
    "    result_16 = result_16.append(f_ser(a))\n",
    "\n",
    "display('Задача 16: Какой актер снялся в большем количестве высокобюджетных фильмов?', result_16.value_counts().head(3))"
   ]
  },
  {
   "cell_type": "markdown",
   "metadata": {
    "colab_type": "text",
    "id": "NIh6AaW5Vp_n"
   },
   "source": [
    "# 17. В фильмах какого жанра больше всего снимался Nicolas Cage? "
   ]
  },
  {
   "cell_type": "code",
   "execution_count": 49,
   "metadata": {
    "colab": {},
    "colab_type": "code",
    "id": "H74SJDIBVp_n"
   },
   "outputs": [],
   "source": [
    "answers['17'] = '2. Action'\n",
    "# +"
   ]
  },
  {
   "cell_type": "code",
   "execution_count": 50,
   "metadata": {},
   "outputs": [
    {
     "data": {
      "text/plain": [
       "'Задача 17: В фильмах какого жанра больше всего снимался Nicolas Cage?'"
      ]
     },
     "metadata": {},
     "output_type": "display_data"
    },
    {
     "data": {
      "text/plain": [
       "Action      17\n",
       "Thriller    15\n",
       "Drama       12\n",
       "dtype: int64"
      ]
     },
     "metadata": {},
     "output_type": "display_data"
    }
   ],
   "source": [
    "'''Задача 17. В фильмах какого жанра больше всего снимался Nicolas Cage? (Вариант 1)'''\n",
    "result_17 = pd.Series('')\n",
    "tmp_17 = data[data.cast.str.contains('Nicolas Cage')].genres.apply(f_ser) # Оставляем только фильмы с Nicolas Cage...\n",
    "\n",
    "for i in range(len(tmp_17.columns)): # ...сводим все жанры с его участием в один столбец\n",
    "    result_17 = pd.concat([result_17, tmp_17[i]])\n",
    "\n",
    "display('Задача 17: В фильмах какого жанра больше всего снимался Nicolas Cage?', result_17.value_counts().head(3))"
   ]
  },
  {
   "cell_type": "markdown",
   "metadata": {},
   "source": [
    "ВАРИАНТ 2"
   ]
  },
  {
   "cell_type": "code",
   "execution_count": 51,
   "metadata": {},
   "outputs": [
    {
     "data": {
      "text/plain": [
       "'Задача 17: В фильмах какого жанра больше всего снимался Nicolas Cage?'"
      ]
     },
     "metadata": {},
     "output_type": "display_data"
    },
    {
     "data": {
      "text/plain": [
       "Action      17\n",
       "Thriller    15\n",
       "Drama       12\n",
       "dtype: int64"
      ]
     },
     "metadata": {},
     "output_type": "display_data"
    }
   ],
   "source": [
    "'''Задача 17. В фильмах какого жанра больше всего снимался Nicolas Cage? (Вариант 2)'''\n",
    "result_17 = pd.Series('')\n",
    "tmp_17 = data[data.cast.str.contains('Nicolas Cage')] # Оставляем только фильмы с Nicolas Cage...\n",
    "\n",
    "for a in tmp_17.genres: # ...сводим все жанры с его участием в один столбец\n",
    "    result_17 = result_17.append(f_ser(a))\n",
    "\n",
    "display('Задача 17: В фильмах какого жанра больше всего снимался Nicolas Cage?', result_17.value_counts().head(3))"
   ]
  },
  {
   "cell_type": "markdown",
   "metadata": {
    "colab_type": "text",
    "id": "RqOmPRfWVp_q"
   },
   "source": [
    "# 18. Самый убыточный фильм от Paramount Pictures"
   ]
  },
  {
   "cell_type": "code",
   "execution_count": 52,
   "metadata": {
    "colab": {},
    "colab_type": "code",
    "id": "9E_B0Y96Vp_r"
   },
   "outputs": [],
   "source": [
    "answers['18'] = '1. K-19: The Widowmaker (tt0267626)'\n",
    "# +"
   ]
  },
  {
   "cell_type": "code",
   "execution_count": 53,
   "metadata": {},
   "outputs": [
    {
     "data": {
      "text/plain": [
       "'Задача 18: Самый убыточный фильм от Paramount Pictures'"
      ]
     },
     "metadata": {},
     "output_type": "display_data"
    },
    {
     "data": {
      "text/html": [
       "<div>\n",
       "<style scoped>\n",
       "    .dataframe tbody tr th:only-of-type {\n",
       "        vertical-align: middle;\n",
       "    }\n",
       "\n",
       "    .dataframe tbody tr th {\n",
       "        vertical-align: top;\n",
       "    }\n",
       "\n",
       "    .dataframe thead th {\n",
       "        text-align: right;\n",
       "    }\n",
       "</style>\n",
       "<table border=\"1\" class=\"dataframe\">\n",
       "  <thead>\n",
       "    <tr style=\"text-align: right;\">\n",
       "      <th></th>\n",
       "      <th>imdb_id</th>\n",
       "      <th>original_title</th>\n",
       "      <th>profit</th>\n",
       "    </tr>\n",
       "  </thead>\n",
       "  <tbody>\n",
       "    <tr>\n",
       "      <th>925</th>\n",
       "      <td>tt0267626</td>\n",
       "      <td>K-19: The Widowmaker</td>\n",
       "      <td>-64831034</td>\n",
       "    </tr>\n",
       "  </tbody>\n",
       "</table>\n",
       "</div>"
      ],
      "text/plain": [
       "       imdb_id        original_title    profit\n",
       "925  tt0267626  K-19: The Widowmaker -64831034"
      ]
     },
     "metadata": {},
     "output_type": "display_data"
    }
   ],
   "source": [
    "'''Задача 18. Самый убыточный фильм от Paramount Pictures'''\n",
    "tmp_18 = data[data.production_companies.str.contains('Paramount Pictures')] # Оставляем только фильмы Paramount Pictures\n",
    "result_18 = tmp_18[tmp_18.profit == tmp_18.profit.min()][['imdb_id', 'original_title', 'profit']]\n",
    "\n",
    "display('Задача 18: Самый убыточный фильм от Paramount Pictures', result_18)"
   ]
  },
  {
   "cell_type": "markdown",
   "metadata": {
    "colab_type": "text",
    "id": "vS8Ur6ddVp_u"
   },
   "source": [
    "# 19. Какой год стал самым успешным по суммарным кассовым сборам?"
   ]
  },
  {
   "cell_type": "code",
   "execution_count": 54,
   "metadata": {
    "colab": {},
    "colab_type": "code",
    "id": "Dnbt4GdIVp_v"
   },
   "outputs": [],
   "source": [
    "answers['19'] = '5. 2015'\n",
    "# +"
   ]
  },
  {
   "cell_type": "code",
   "execution_count": 55,
   "metadata": {},
   "outputs": [
    {
     "data": {
      "text/plain": [
       "'Задача 19: Какой год стал самым успешным по суммарным кассовым сборам?'"
      ]
     },
     "metadata": {},
     "output_type": "display_data"
    },
    {
     "data": {
      "text/plain": [
       "2015    25449202382\n",
       "2014    23405862953\n",
       "2013    23213799791\n",
       "dtype: int64"
      ]
     },
     "metadata": {},
     "output_type": "display_data"
    }
   ],
   "source": [
    "'''Задача 19. Какой год стал самым успешным по суммарным кассовым сборам? (Вариант 1)'''\n",
    "itog = pd.Series(int())\n",
    "\n",
    "# Проходим по годам и суммируем кассовые сборы по каждому году (результат типа Series)\n",
    "for year_t in range(data.release_year.min(), data.release_year.max()+1):\n",
    "    itog = pd.concat([itog, pd.Series([data[data.release_year == year_t]['revenue'].sum()], index=[year_t])])\n",
    "\n",
    "result_19 = itog.sort_values(ascending=False) # Ранжируем полученный результат\n",
    "\n",
    "display('Задача 19: Какой год стал самым успешным по суммарным кассовым сборам?', result_19.head(3))"
   ]
  },
  {
   "cell_type": "markdown",
   "metadata": {},
   "source": [
    "ВАРИАНТ 2"
   ]
  },
  {
   "cell_type": "code",
   "execution_count": 56,
   "metadata": {},
   "outputs": [
    {
     "data": {
      "text/plain": [
       "'Задача 19: Какой год стал самым успешным по суммарным кассовым сборам?'"
      ]
     },
     "metadata": {},
     "output_type": "display_data"
    },
    {
     "data": {
      "text/plain": [
       "release_year\n",
       "2015    25449202382\n",
       "2014    23405862953\n",
       "2013    23213799791\n",
       "Name: revenue, dtype: int64"
      ]
     },
     "metadata": {},
     "output_type": "display_data"
    }
   ],
   "source": [
    "'''Задача 19. Какой год стал самым успешным по суммарным кассовым сборам? (Вариант 2)'''\n",
    "# Группируем данные по годам, суммируем кассовые сборы по каждому году и ранжируем результат\n",
    "result_19 = data.groupby(['release_year']).revenue.sum().sort_values(ascending=False)\n",
    "\n",
    "display('Задача 19: Какой год стал самым успешным по суммарным кассовым сборам?', result_19.head(3))"
   ]
  },
  {
   "cell_type": "markdown",
   "metadata": {
    "colab_type": "text",
    "id": "JAzJh4QAVp_z"
   },
   "source": [
    "# 20. Какой самый прибыльный год для студии Warner Bros?"
   ]
  },
  {
   "cell_type": "code",
   "execution_count": 57,
   "metadata": {
    "colab": {},
    "colab_type": "code",
    "id": "wgVu02DEVp_0"
   },
   "outputs": [],
   "source": [
    "answers['20'] = '1. 2014'\n",
    "# +"
   ]
  },
  {
   "cell_type": "code",
   "execution_count": 58,
   "metadata": {},
   "outputs": [
    {
     "data": {
      "text/plain": [
       "'Задача 20. Какой самый прибыльный год для студии Warner Bros?'"
      ]
     },
     "metadata": {},
     "output_type": "display_data"
    },
    {
     "data": {
      "text/plain": [
       "2014    2295464519\n",
       "2007    2201675217\n",
       "2008    2134595031\n",
       "dtype: int64"
      ]
     },
     "metadata": {},
     "output_type": "display_data"
    }
   ],
   "source": [
    "'''Задача 20. Какой самый прибыльный год для студии Warner Bros? (Вариант 1)'''\n",
    "itog = pd.Series(int())\n",
    "\n",
    "tmp_20 = data[data.production_companies.str.contains('Warner Bros')] # Оставляем только фильмы студии Warner Bros\n",
    "\n",
    "# Проходим по годам и суммируем прибыль по каждому году (результат типа Series)\n",
    "for year_t in range(tmp_20.release_year.min(), tmp_20.release_year.max()+1):\n",
    "    itog = pd.concat([itog, pd.Series([tmp_20[tmp_20.release_year == year_t].profit.sum()], index=[year_t])])\n",
    "\n",
    "result_20 = itog.sort_values(ascending=False) # Ранжируем полученный результат\n",
    "\n",
    "display('Задача 20. Какой самый прибыльный год для студии Warner Bros?', result_20.head(3))"
   ]
  },
  {
   "cell_type": "markdown",
   "metadata": {},
   "source": [
    "ВАРИАНТ 2"
   ]
  },
  {
   "cell_type": "code",
   "execution_count": 59,
   "metadata": {},
   "outputs": [
    {
     "data": {
      "text/plain": [
       "'Задача 20. Какой самый прибыльный год для студии Warner Bros?'"
      ]
     },
     "metadata": {},
     "output_type": "display_data"
    },
    {
     "data": {
      "text/plain": [
       "release_year\n",
       "2014    2295464519\n",
       "2007    2201675217\n",
       "2008    2134595031\n",
       "Name: profit, dtype: int64"
      ]
     },
     "metadata": {},
     "output_type": "display_data"
    }
   ],
   "source": [
    "'''Задача 20. Какой самый прибыльный год для студии Warner Bros? (Вариант 2)'''\n",
    "tmp_20 = data[data.production_companies.str.contains('Warner Bros')] # Оставляем только фильмы студии Warner Bros\n",
    "\n",
    "# Группируем по годам, суммируем прибыль (по годам) и ранжируем полученный результат\n",
    "result_20 = tmp_20.groupby(['release_year']).profit.sum().sort_values(ascending=False)\n",
    "\n",
    "display('Задача 20. Какой самый прибыльный год для студии Warner Bros?', result_20.head(3))"
   ]
  },
  {
   "cell_type": "markdown",
   "metadata": {},
   "source": [
    "ВАРИАНТ 3"
   ]
  },
  {
   "cell_type": "code",
   "execution_count": 60,
   "metadata": {},
   "outputs": [
    {
     "data": {
      "text/plain": [
       "'Задача 20. Какой самый прибыльный год для студии Warner Bros?'"
      ]
     },
     "metadata": {},
     "output_type": "display_data"
    },
    {
     "data": {
      "text/plain": [
       "        release_year\n",
       "profit  2014            2295464519\n",
       "        2007            2201675217\n",
       "        2008            2134595031\n",
       "Name: All, dtype: int64"
      ]
     },
     "metadata": {},
     "output_type": "display_data"
    }
   ],
   "source": [
    "'''Задача 20. Какой самый прибыльный год для студии Warner Bros? (Вариант 3)'''\n",
    "filtr = data[data.production_companies.str.contains('Warner Bros')] # Оставляем только фильмы студии Warner Bros\n",
    "\n",
    "tmp_20 = filtr.pivot_table(values=['profit'],\n",
    "index=['production_companies'],\n",
    "columns=['release_year'],\n",
    "aggfunc='sum',\n",
    "margins=True,\n",
    "fill_value=0)\n",
    "\n",
    "result_20 = tmp_20.loc['All'].sort_values(ascending=False)\n",
    "display('Задача 20. Какой самый прибыльный год для студии Warner Bros?', result_20[1:4])"
   ]
  },
  {
   "cell_type": "markdown",
   "metadata": {
    "colab_type": "text",
    "id": "8Im1S2HRVp_4"
   },
   "source": [
    "# 21. В каком месяце за все годы суммарно вышло больше всего фильмов?"
   ]
  },
  {
   "cell_type": "code",
   "execution_count": 61,
   "metadata": {
    "colab": {},
    "colab_type": "code",
    "id": "lev6TH7gVp_4"
   },
   "outputs": [],
   "source": [
    "answers['21'] = '4. Сентябрь'\n",
    "# +"
   ]
  },
  {
   "cell_type": "code",
   "execution_count": 62,
   "metadata": {},
   "outputs": [
    {
     "data": {
      "text/plain": [
       "'Задача 21. В каком месяце за все годы суммарно вышло больше всего фильмов?'"
      ]
     },
     "metadata": {},
     "output_type": "display_data"
    },
    {
     "data": {
      "text/plain": [
       "9     227\n",
       "12    190\n",
       "10    186\n",
       "Name: release_date, dtype: int64"
      ]
     },
     "metadata": {},
     "output_type": "display_data"
    }
   ],
   "source": [
    "'''Задача 21. В каком месяце за все годы суммарно вышло больше всего фильмов?'''\n",
    "result = data.release_date.apply(lambda x: x.timetuple()[1]) # Создаем список из месяцев выхода фильмов...\n",
    "result_21 = result.value_counts() #...и ранжируем его, получая результат\n",
    "\n",
    "display('Задача 21. В каком месяце за все годы суммарно вышло больше всего фильмов?', result_21.head(3))"
   ]
  },
  {
   "cell_type": "markdown",
   "metadata": {
    "colab_type": "text",
    "id": "uAJsZ_NeVp_7"
   },
   "source": [
    "# 22. Сколько суммарно вышло фильмов летом? (за июнь, июль, август)"
   ]
  },
  {
   "cell_type": "code",
   "execution_count": 63,
   "metadata": {
    "colab": {},
    "colab_type": "code",
    "id": "Aa-hEREoVp_8"
   },
   "outputs": [],
   "source": [
    "answers['22'] = '2. 450'\n",
    "# +"
   ]
  },
  {
   "cell_type": "code",
   "execution_count": 64,
   "metadata": {},
   "outputs": [
    {
     "data": {
      "text/plain": [
       "'Задача 22. Сколько суммарно вышло фильмов летом? (за июнь, июль, август)'"
      ]
     },
     "metadata": {},
     "output_type": "display_data"
    },
    {
     "data": {
      "text/plain": [
       "450"
      ]
     },
     "metadata": {},
     "output_type": "display_data"
    }
   ],
   "source": [
    "'''Задача 22. Сколько суммарно вышло фильмов летом? (за июнь, июль, август)'''\n",
    "tmp_22 = data.release_date.apply(lambda x: x.timetuple()[1]) # Создаем список из месяцев выхода фильмов...\n",
    "result_22 = tmp_22[(tmp_22>5) & (tmp_22<9)].count() #...,фильтруем его, оставляя только летние месяцы, и считаем их количество\n",
    "\n",
    "display('Задача 22. Сколько суммарно вышло фильмов летом? (за июнь, июль, август)', result_22)"
   ]
  },
  {
   "cell_type": "markdown",
   "metadata": {
    "colab_type": "text",
    "id": "G94ppOY1VqAA"
   },
   "source": [
    "# 23. Для какого режиссера зима – самое продуктивное время года? "
   ]
  },
  {
   "cell_type": "code",
   "execution_count": 65,
   "metadata": {
    "colab": {},
    "colab_type": "code",
    "id": "RhNTsamuVqAB"
   },
   "outputs": [],
   "source": [
    "answers['23'] = '5. Peter Jackson'\n",
    "# +"
   ]
  },
  {
   "cell_type": "code",
   "execution_count": 66,
   "metadata": {},
   "outputs": [
    {
     "data": {
      "text/plain": [
       "'Задача 23: У какого режиссера зима – самое продуктивное время года?'"
      ]
     },
     "metadata": {},
     "output_type": "display_data"
    },
    {
     "data": {
      "text/plain": [
       "Peter Jackson       7.00\n",
       "Clint Eastwood      6.00\n",
       "Steven Soderbergh   6.00\n",
       "Name: 0, dtype: float64"
      ]
     },
     "metadata": {},
     "output_type": "display_data"
    }
   ],
   "source": [
    "'''Задача 23: У какого режиссера зима – самое продуктивное время года? (режиссеров фильма может быть несколько)'''\n",
    "result_23 = pd.DataFrame()\n",
    "\n",
    "# Для каждого фильма формируем строку: Режиссеры + Признак сезона выхода фильма (1-зима,0-др.сезоны), и сводим их в один DataFrame\n",
    "tmp_23 = data.director.apply(f_ser)\n",
    "l_colmn = len(tmp_23.columns)\n",
    "tmp_23[l_colmn] = data.release_date.apply(wint)\n",
    "\n",
    "# Из полученного DataFrame формируем DataFrame из двух столбцов: Режиссер + Признак сезона выхода фильма\n",
    "for i in range(l_colmn):\n",
    "    result_23 = pd.concat([result_23, tmp_23.groupby([i])[l_colmn].sum()])\n",
    "\n",
    "# Группируем, ранжируем и получаем результат\n",
    "result_23 = result_23.groupby(result_23.index)[0].sum().sort_values(ascending=False) \n",
    "\n",
    "display('Задача 23: У какого режиссера зима – самое продуктивное время года?',result_23.head(3))"
   ]
  },
  {
   "cell_type": "markdown",
   "metadata": {},
   "source": [
    "ВАРИАНТ 2"
   ]
  },
  {
   "cell_type": "code",
   "execution_count": 67,
   "metadata": {},
   "outputs": [
    {
     "data": {
      "text/plain": [
       "'Задача 23: У какого режиссера зима – самое продуктивное время года?'"
      ]
     },
     "metadata": {},
     "output_type": "display_data"
    },
    {
     "data": {
      "text/plain": [
       "0\n",
       "Peter Jackson        7\n",
       "Steven Soderbergh    6\n",
       "Clint Eastwood       6\n",
       "Name: 1, dtype: int64"
      ]
     },
     "metadata": {},
     "output_type": "display_data"
    }
   ],
   "source": [
    "'''Задача 23: У какого режиссера зима – самое продуктивное время года? (режиссер фильма не один) (Вариант 2)'''\n",
    "result_23 = pd.DataFrame()\n",
    "tmp_23 = pd.DataFrame()\n",
    "\n",
    "i = 0\n",
    "\n",
    "for list_dir in data.director: # Формируем DataFrame: Режиссер + Признак выхода фильма зимой\n",
    "    tmp_23[0] = f_ser(list_dir)\n",
    "    tmp_23[1] = wint(data.release_date.loc[i])\n",
    "    i += 1\n",
    "    result_23 = pd.concat([result_23, tmp_23])\n",
    "\n",
    "result_23 = result_23.dropna() # Удаляем строки, где есть NaN (не обязательно!)\n",
    "result_23 = result_23.groupby([0])[1].sum().sort_values(ascending=False) # Получаем результат\n",
    "\n",
    "display('Задача 23: У какого режиссера зима – самое продуктивное время года?',result_23.head(3))"
   ]
  },
  {
   "cell_type": "markdown",
   "metadata": {
    "colab_type": "text",
    "id": "RBo0JVjVVqAF"
   },
   "source": [
    "# 24. Какая студия дает самые длинные названия своим фильмам по количеству символов?"
   ]
  },
  {
   "cell_type": "code",
   "execution_count": 68,
   "metadata": {
    "colab": {},
    "colab_type": "code",
    "id": "QRGS8L0iVqAG"
   },
   "outputs": [],
   "source": [
    "answers['24'] = '5. Four By Two Productions верно'\n",
    "# +"
   ]
  },
  {
   "cell_type": "code",
   "execution_count": 69,
   "metadata": {},
   "outputs": [
    {
     "data": {
      "text/plain": [
       "'Задача 24. Какая студия дает самые длинные названия своим фильмам по количеству символов?'"
      ]
     },
     "metadata": {},
     "output_type": "display_data"
    },
    {
     "data": {
      "text/plain": [
       "0\n",
       "Four By Two Productions   83.00\n",
       "Jim Henson Company, The   59.00\n",
       "Dos Corazones             47.00\n",
       "Name: 5, dtype: float64"
      ]
     },
     "metadata": {},
     "output_type": "display_data"
    }
   ],
   "source": [
    "'''Задача 24. Какая студия дает самые длинные названия своим фильмам по количеству символов? (Вариант 1)'''\n",
    "result_24 = pd.DataFrame()\n",
    "\n",
    "# По каждому фильму формируем строку из названий студий и количества символов названия фильма и сводим их в один DataFrame\n",
    "tmp_24 = data.production_companies.apply(f_ser)\n",
    "l_colmn = len(tmp_24.columns)\n",
    "tmp_24[l_colmn] = data.original_title.apply(lambda x:len(x))\n",
    "\n",
    "# Из полученного DataFrame формируем DataFrame из двух столбцов: Студия + Количество символов названия фильма\n",
    "for i in range(l_colmn):\n",
    "    res_temp = tmp_24[[0, l_colmn]]\n",
    "    result_24 = pd.concat([result_24, res_temp])\n",
    "    tmp_24[0] = tmp_24[i+1]\n",
    "\n",
    "result_24 = result_24.groupby([result_24[0]])[l_colmn].mean().sort_values(ascending=False) # Получаем результат\n",
    "\n",
    "display('Задача 24. Какая студия дает самые длинные названия своим фильмам по количеству символов?',result_24.head(3))"
   ]
  },
  {
   "cell_type": "markdown",
   "metadata": {},
   "source": [
    "ВАРИАНТ 2"
   ]
  },
  {
   "cell_type": "code",
   "execution_count": 70,
   "metadata": {},
   "outputs": [
    {
     "data": {
      "text/plain": [
       "'Задача 24. Какая студия дает самые длинные названия своим фильмам по количеству символов?'"
      ]
     },
     "metadata": {},
     "output_type": "display_data"
    },
    {
     "data": {
      "text/plain": [
       "0\n",
       "Four By Two Productions   83.00\n",
       "Jim Henson Company, The   59.00\n",
       "Dos Corazones             47.00\n",
       "Name: 1, dtype: float64"
      ]
     },
     "metadata": {},
     "output_type": "display_data"
    }
   ],
   "source": [
    "'''Задача 24. Какая студия дает самые длинные названия своим фильмам по количеству символов? (Вариант 2)'''\n",
    "result_24 = pd.DataFrame()\n",
    "tmp_24 = pd.DataFrame()\n",
    "\n",
    "i = 0\n",
    "# Формируем DataFrame: Студия + Длина названия фильма\n",
    "for list_comp in data.production_companies:\n",
    "    tmp_24[0] = f_ser(list_comp)\n",
    "    tmp_24[1] = len(data.original_title.loc[i])\n",
    "    i += 1\n",
    "    result_24 = pd.concat([result_24, tmp_24])\n",
    "\n",
    "result_24 = result_24.dropna() # Удаляем строки, где есть NaN (не обязательно!)\n",
    "result_24 = result_24.groupby([0])[1].mean().sort_values(ascending=False) # Получаем результат\n",
    "\n",
    "display('Задача 24. Какая студия дает самые длинные названия своим фильмам по количеству символов?',result_24.head(3))"
   ]
  },
  {
   "cell_type": "markdown",
   "metadata": {
    "colab_type": "text",
    "id": "9G0hbvR7VqAK"
   },
   "source": [
    "# 25. Описание фильмов какой студии в среднем самые длинные по количеству слов?"
   ]
  },
  {
   "cell_type": "code",
   "execution_count": 71,
   "metadata": {
    "colab": {},
    "colab_type": "code",
    "id": "Ge2GsLNxVqAK"
   },
   "outputs": [],
   "source": [
    "answers['25'] = '3. Midnight Picture Show'\n",
    "# +"
   ]
  },
  {
   "cell_type": "code",
   "execution_count": 72,
   "metadata": {},
   "outputs": [
    {
     "data": {
      "text/plain": [
       "'Задача 25. Описание фильмов какой студии в среднем самые длинные по количеству слов?'"
      ]
     },
     "metadata": {},
     "output_type": "display_data"
    },
    {
     "data": {
      "text/plain": [
       "0\n",
       "Midnight Picture Show              175.00\n",
       "Room 9 Entertainment               161.00\n",
       "98 MPH Productions                 159.00\n",
       "Heineken Branded Entertainment     159.00\n",
       "Brookwell-McNamara Entertainment   156.00\n",
       "Name: 5, dtype: float64"
      ]
     },
     "metadata": {},
     "output_type": "display_data"
    }
   ],
   "source": [
    "'''Задача 25. Описание фильмов какой студии в среднем самые длинные по количеству слов? (Вариант 1)'''\n",
    "result_25 = pd.DataFrame()\n",
    "\n",
    "# Для каждого фильма формируем строку из названий студий и количества слов описания данного фильма и сводим их в один DataFrame\n",
    "tmp_25 = data.production_companies.apply(f_ser)\n",
    "l_colmn = len(tmp_25.columns)\n",
    "tmp_25[l_colmn] = data.overview.apply(words_count)\n",
    "\n",
    "# Из полученного DataFrame формируем DataFrame из двух столбцов: Студия + Количество слов\n",
    "for i in range(l_colmn): \n",
    "    res_temp = tmp_25[[0, l_colmn]]\n",
    "    result_25 = pd.concat([result_25, res_temp])\n",
    "    tmp_25[0] = tmp_25[i+1]\n",
    "\n",
    "result_25 = result_25.groupby([0])[l_colmn].mean().sort_values(ascending=False) # Получаем результат\n",
    "\n",
    "display('Задача 25. Описание фильмов какой студии в среднем самые длинные по количеству слов?',result_25.head())"
   ]
  },
  {
   "cell_type": "markdown",
   "metadata": {},
   "source": [
    "ВАРИАНТ 2"
   ]
  },
  {
   "cell_type": "code",
   "execution_count": 73,
   "metadata": {},
   "outputs": [
    {
     "data": {
      "text/plain": [
       "'Задача 25. Описание фильмов какой студии в среднем самые длинные по количеству слов?'"
      ]
     },
     "metadata": {},
     "output_type": "display_data"
    },
    {
     "data": {
      "text/plain": [
       "0\n",
       "Midnight Picture Show              175.00\n",
       "Room 9 Entertainment               161.00\n",
       "98 MPH Productions                 159.00\n",
       "Heineken Branded Entertainment     159.00\n",
       "Brookwell-McNamara Entertainment   156.00\n",
       "Name: 1, dtype: float64"
      ]
     },
     "metadata": {},
     "output_type": "display_data"
    }
   ],
   "source": [
    "'''Задача 25. Описание фильмов какой студии в среднем самые длинные по количеству слов? (Вариант 2)'''\n",
    "result_25 = pd.DataFrame()\n",
    "tmp_25 = pd.DataFrame()\n",
    "\n",
    "i = 0\n",
    "# Формируем DataFrame: Студия + Длина описания фильма\n",
    "for list_comp in data.production_companies:\n",
    "    tmp_25[0] = f_ser(list_comp)\n",
    "    tmp_25[1] = words_count(data.overview.loc[i])\n",
    "    i += 1\n",
    "    result_25 = pd.concat([result_25, tmp_25])\n",
    "\n",
    "result_25 = result_25.dropna() # Удаляем строки, где есть NaN (не обязательно!)\n",
    "result_25 = result_25.groupby([0])[1].mean().sort_values(ascending=False) # Получаем результат\n",
    "\n",
    "display('Задача 25. Описание фильмов какой студии в среднем самые длинные по количеству слов?',result_25.head())"
   ]
  },
  {
   "cell_type": "markdown",
   "metadata": {
    "colab_type": "text",
    "id": "FJ1AFt90VqAP"
   },
   "source": [
    "# 26. Какие фильмы входят в 1 процент лучших по рейтингу? \n",
    "по vote_average"
   ]
  },
  {
   "cell_type": "code",
   "execution_count": 74,
   "metadata": {
    "colab": {},
    "colab_type": "code",
    "id": "8qmJVq4CVqAQ"
   },
   "outputs": [],
   "source": [
    "answers['26'] = '1. Inside Out, The Dark Knight, 12 Years a Slave'\n",
    "# +"
   ]
  },
  {
   "cell_type": "code",
   "execution_count": 75,
   "metadata": {},
   "outputs": [
    {
     "data": {
      "text/plain": [
       "'Задача 26. Какие фильмы входят в 1 процент лучших по рейтингу?'"
      ]
     },
     "metadata": {},
     "output_type": "display_data"
    },
    {
     "data": {
      "text/html": [
       "<div>\n",
       "<style scoped>\n",
       "    .dataframe tbody tr th:only-of-type {\n",
       "        vertical-align: middle;\n",
       "    }\n",
       "\n",
       "    .dataframe tbody tr th {\n",
       "        vertical-align: top;\n",
       "    }\n",
       "\n",
       "    .dataframe thead th {\n",
       "        text-align: right;\n",
       "    }\n",
       "</style>\n",
       "<table border=\"1\" class=\"dataframe\">\n",
       "  <thead>\n",
       "    <tr style=\"text-align: right;\">\n",
       "      <th></th>\n",
       "      <th>imdb_id</th>\n",
       "      <th>original_title</th>\n",
       "      <th>vote_average</th>\n",
       "    </tr>\n",
       "  </thead>\n",
       "  <tbody>\n",
       "    <tr>\n",
       "      <th>599</th>\n",
       "      <td>tt0468569</td>\n",
       "      <td>The Dark Knight</td>\n",
       "      <td>8.10</td>\n",
       "    </tr>\n",
       "    <tr>\n",
       "      <th>118</th>\n",
       "      <td>tt0816692</td>\n",
       "      <td>Interstellar</td>\n",
       "      <td>8.00</td>\n",
       "    </tr>\n",
       "    <tr>\n",
       "      <th>125</th>\n",
       "      <td>tt2084970</td>\n",
       "      <td>The Imitation Game</td>\n",
       "      <td>8.00</td>\n",
       "    </tr>\n",
       "    <tr>\n",
       "      <th>9</th>\n",
       "      <td>tt2096673</td>\n",
       "      <td>Inside Out</td>\n",
       "      <td>8.00</td>\n",
       "    </tr>\n",
       "    <tr>\n",
       "      <th>34</th>\n",
       "      <td>tt3170832</td>\n",
       "      <td>Room</td>\n",
       "      <td>8.00</td>\n",
       "    </tr>\n",
       "    <tr>\n",
       "      <th>1183</th>\n",
       "      <td>tt0993846</td>\n",
       "      <td>The Wolf of Wall Street</td>\n",
       "      <td>7.90</td>\n",
       "    </tr>\n",
       "    <tr>\n",
       "      <th>128</th>\n",
       "      <td>tt2267998</td>\n",
       "      <td>Gone Girl</td>\n",
       "      <td>7.90</td>\n",
       "    </tr>\n",
       "    <tr>\n",
       "      <th>1191</th>\n",
       "      <td>tt2024544</td>\n",
       "      <td>12 Years a Slave</td>\n",
       "      <td>7.90</td>\n",
       "    </tr>\n",
       "    <tr>\n",
       "      <th>119</th>\n",
       "      <td>tt2015381</td>\n",
       "      <td>Guardians of the Galaxy</td>\n",
       "      <td>7.90</td>\n",
       "    </tr>\n",
       "    <tr>\n",
       "      <th>1081</th>\n",
       "      <td>tt0167260</td>\n",
       "      <td>The Lord of the Rings: The Return of the King</td>\n",
       "      <td>7.90</td>\n",
       "    </tr>\n",
       "    <tr>\n",
       "      <th>1800</th>\n",
       "      <td>tt0209144</td>\n",
       "      <td>Memento</td>\n",
       "      <td>7.90</td>\n",
       "    </tr>\n",
       "    <tr>\n",
       "      <th>370</th>\n",
       "      <td>tt1375666</td>\n",
       "      <td>Inception</td>\n",
       "      <td>7.90</td>\n",
       "    </tr>\n",
       "    <tr>\n",
       "      <th>872</th>\n",
       "      <td>tt0253474</td>\n",
       "      <td>The Pianist</td>\n",
       "      <td>7.90</td>\n",
       "    </tr>\n",
       "    <tr>\n",
       "      <th>138</th>\n",
       "      <td>tt2278388</td>\n",
       "      <td>The Grand Budapest Hotel</td>\n",
       "      <td>7.90</td>\n",
       "    </tr>\n",
       "    <tr>\n",
       "      <th>1188</th>\n",
       "      <td>tt1798709</td>\n",
       "      <td>Her</td>\n",
       "      <td>7.80</td>\n",
       "    </tr>\n",
       "    <tr>\n",
       "      <th>28</th>\n",
       "      <td>tt1895587</td>\n",
       "      <td>Spotlight</td>\n",
       "      <td>7.80</td>\n",
       "    </tr>\n",
       "    <tr>\n",
       "      <th>124</th>\n",
       "      <td>tt2245084</td>\n",
       "      <td>Big Hero 6</td>\n",
       "      <td>7.80</td>\n",
       "    </tr>\n",
       "    <tr>\n",
       "      <th>177</th>\n",
       "      <td>tt2582846</td>\n",
       "      <td>The Fault in Our Stars</td>\n",
       "      <td>7.80</td>\n",
       "    </tr>\n",
       "  </tbody>\n",
       "</table>\n",
       "</div>"
      ],
      "text/plain": [
       "        imdb_id                                 original_title  vote_average\n",
       "599   tt0468569                                The Dark Knight          8.10\n",
       "118   tt0816692                                   Interstellar          8.00\n",
       "125   tt2084970                             The Imitation Game          8.00\n",
       "9     tt2096673                                     Inside Out          8.00\n",
       "34    tt3170832                                           Room          8.00\n",
       "1183  tt0993846                        The Wolf of Wall Street          7.90\n",
       "128   tt2267998                                      Gone Girl          7.90\n",
       "1191  tt2024544                               12 Years a Slave          7.90\n",
       "119   tt2015381                        Guardians of the Galaxy          7.90\n",
       "1081  tt0167260  The Lord of the Rings: The Return of the King          7.90\n",
       "1800  tt0209144                                        Memento          7.90\n",
       "370   tt1375666                                      Inception          7.90\n",
       "872   tt0253474                                    The Pianist          7.90\n",
       "138   tt2278388                       The Grand Budapest Hotel          7.90\n",
       "1188  tt1798709                                            Her          7.80\n",
       "28    tt1895587                                      Spotlight          7.80\n",
       "124   tt2245084                                     Big Hero 6          7.80\n",
       "177   tt2582846                         The Fault in Our Stars          7.80"
      ]
     },
     "metadata": {},
     "output_type": "display_data"
    }
   ],
   "source": [
    "'''Задача 26. Какие фильмы входят в 1 процент лучших по рейтингу?'''\n",
    "\n",
    "# Сортируем по рейтингу и оставляем первые 1/100 фильмов\n",
    "result_26 = data.sort_values('vote_average', ascending=False).head(int(len(data)/100))\n",
    "\n",
    "display('Задача 26. Какие фильмы входят в 1 процент лучших по рейтингу?',\n",
    "result_26[['imdb_id', 'original_title', 'vote_average']])"
   ]
  },
  {
   "cell_type": "markdown",
   "metadata": {
    "colab_type": "text",
    "id": "MdXsUXbCVqAV"
   },
   "source": [
    "# 27. Какие актеры чаще всего снимаются в одном фильме вместе?\n"
   ]
  },
  {
   "cell_type": "code",
   "execution_count": 76,
   "metadata": {},
   "outputs": [],
   "source": [
    "answers['27'] = '5. Daniel Radcliffe & Rupert Grint'\n",
    "# +"
   ]
  },
  {
   "cell_type": "code",
   "execution_count": 77,
   "metadata": {},
   "outputs": [
    {
     "data": {
      "text/plain": [
       "'Задача 27. Какие актеры чаще всего снимаются в одном фильме вместе?'"
      ]
     },
     "metadata": {},
     "output_type": "display_data"
    },
    {
     "data": {
      "text/plain": [
       "Daniel Radcliffe & Emma Watson        8\n",
       "Daniel Radcliffe & Rupert Grint       8\n",
       "Emma Watson & Rupert Grint            8\n",
       "Helena Bonham Carter & Johnny Depp    6\n",
       "Ben Stiller & Owen Wilson             6\n",
       "dtype: int64"
      ]
     },
     "metadata": {},
     "output_type": "display_data"
    }
   ],
   "source": [
    "'''Задача 27. Какие актеры чаще всего снимаются в одном фильме вместе?'''\n",
    "tmp_27 = pd.Series([''])\n",
    "\n",
    "for item in data.cast: # Формируем комбинации пар актеров по каждому фильму и формирование из них списка (типа Series)\n",
    "    tmp_27 = tmp_27.append(cmb(item))\n",
    "\n",
    "result_27 = tmp_27.value_counts() # Подсчет и ранжирование полученного результата\n",
    "\n",
    "display('Задача 27. Какие актеры чаще всего снимаются в одном фильме вместе?',result_27.head(5))"
   ]
  },
  {
   "cell_type": "markdown",
   "metadata": {
    "colab_type": "text",
    "id": "4ymnxEVoVqAW"
   },
   "source": [
    "ВАРИАНТ 2"
   ]
  },
  {
   "cell_type": "markdown",
   "metadata": {
    "colab_type": "text",
    "id": "U0nONFnGVqAX"
   },
   "source": [
    "# Submission"
   ]
  },
  {
   "cell_type": "code",
   "execution_count": 78,
   "metadata": {
    "colab": {},
    "colab_type": "code",
    "id": "IfcaRO9-VqAX",
    "outputId": "0f132912-32bb-4196-c98c-abfbc4ad5a5f"
   },
   "outputs": [
    {
     "data": {
      "text/plain": [
       "{'1': '5. Pirates of the Caribbean: On Stranger Tides (tt1298650) верно',\n",
       " '2': '2. Gods and Generals (tt0279111)',\n",
       " '3': '3. Winnie the Pooh (tt1449283)',\n",
       " '4': '2. 110',\n",
       " '5': '1. 107',\n",
       " '6': '5. Avatar (tt0499549)',\n",
       " '7': '5. The Lone Ranger (tt1210819)',\n",
       " '8': '1. 1478',\n",
       " '9': '4. The Dark Knight (tt0468569)',\n",
       " '10': '5. The Lone Ranger (tt1210819)',\n",
       " '11': '3. Drama',\n",
       " '12': '1. Drama',\n",
       " '13': '5. Peter Jackson',\n",
       " '14': '3. Robert Rodriguez',\n",
       " '15': '3. Chris Hemsworth',\n",
       " '16': '3. Matt Damon',\n",
       " '17': '2. Action',\n",
       " '18': '1. K-19: The Widowmaker (tt0267626)',\n",
       " '19': '5. 2015',\n",
       " '20': '1. 2014',\n",
       " '21': '4. Сентябрь',\n",
       " '22': '2. 450',\n",
       " '23': '5. Peter Jackson',\n",
       " '24': '5. Four By Two Productions верно',\n",
       " '25': '3. Midnight Picture Show',\n",
       " '26': '1. Inside Out, The Dark Knight, 12 Years a Slave',\n",
       " '27': '5. Daniel Radcliffe & Rupert Grint'}"
      ]
     },
     "execution_count": 78,
     "metadata": {},
     "output_type": "execute_result"
    }
   ],
   "source": [
    "# в конце можно посмотреть свои ответы к каждому вопросу\n",
    "answers"
   ]
  },
  {
   "cell_type": "code",
   "execution_count": 79,
   "metadata": {
    "colab": {},
    "colab_type": "code",
    "id": "SiRmHPl8VqAd"
   },
   "outputs": [
    {
     "data": {
      "text/plain": [
       "27"
      ]
     },
     "execution_count": 79,
     "metadata": {},
     "output_type": "execute_result"
    }
   ],
   "source": [
    "# и убедиться что ни чего не пропустил)\n",
    "len(answers)"
   ]
  },
  {
   "cell_type": "code",
   "execution_count": null,
   "metadata": {
    "colab": {},
    "colab_type": "code",
    "id": "uCfuTkRbVqAg"
   },
   "outputs": [],
   "source": []
  },
  {
   "cell_type": "code",
   "execution_count": null,
   "metadata": {
    "colab": {},
    "colab_type": "code",
    "id": "Vwx3NrkSVqAl"
   },
   "outputs": [],
   "source": []
  }
 ],
 "metadata": {
  "colab": {
   "name": "Copy of [SF-DST] Movies IMBD v4.1 TEMPLATE.ipynb",
   "provenance": []
  },
  "kernelspec": {
   "display_name": "Python 3",
   "language": "python",
   "name": "python3"
  },
  "language_info": {
   "codemirror_mode": {
    "name": "ipython",
    "version": 3
   },
   "file_extension": ".py",
   "mimetype": "text/x-python",
   "name": "python",
   "nbconvert_exporter": "python",
   "pygments_lexer": "ipython3",
   "version": "3.7.6"
  }
 },
 "nbformat": 4,
 "nbformat_minor": 1
}
