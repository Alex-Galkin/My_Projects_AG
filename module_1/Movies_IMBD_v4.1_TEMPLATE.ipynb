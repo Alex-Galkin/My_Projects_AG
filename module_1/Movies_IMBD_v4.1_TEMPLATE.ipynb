{
 "cells": [
  {
   "cell_type": "code",
   "execution_count": 0,
   "metadata": {
    "_cell_guid": "b1076dfc-b9ad-4769-8c92-a6c4dae69d19",
    "_uuid": "8f2839f25d086af736a60e9eeb907d3b93b6e0e5",
    "colab": {},
    "colab_type": "code",
    "id": "U2D2gTdJVp90"
   },
   "outputs": [],
   "source": [
    "import numpy as np\n",
    "import pandas as pd\n",
    "import seaborn as sns\n",
    "import matplotlib.pyplot as plt\n",
    "from collections import Counter\n",
    "from itertools import combinations"
   ]
  },
  {
   "cell_type": "code",
   "execution_count": 0,
   "metadata": {
    "_cell_guid": "79c7e3d0-c299-4dcb-8224-4455121ee9b0",
    "_uuid": "d629ff2d2480ee46fbb7e2d37f6b5fab8052498a",
    "colab": {},
    "colab_type": "code",
    "id": "oyGfxL3eVp9-"
   },
   "outputs": [],
   "source": [
    "data = pd.read_csv('movie_bd_v5.csv')\n",
    "data.sample(5)"
   ]
  },
  {
   "cell_type": "code",
   "execution_count": 0,
   "metadata": {
    "colab": {},
    "colab_type": "code",
    "id": "CoYUnagMVp-C"
   },
   "outputs": [],
   "source": [
    "data.describe()"
   ]
  },
  {
   "cell_type": "code",
   "execution_count": null,
   "metadata": {},
   "outputs": [],
   "source": [
    "data.info()"
   ]
  },
  {
   "cell_type": "code",
   "execution_count": null,
   "metadata": {},
   "outputs": [],
   "source": [
    "# Проверка на неповторяемость Id фильмов в датасете\n",
    "data.imdb_id.value_counts()"
   ]
  },
  {
   "cell_type": "code",
   "execution_count": null,
   "metadata": {},
   "outputs": [],
   "source": [
    "# Проверка на неповторяемость названий фильмов в датасете\n",
    "data.original_title.value_counts()\n",
    "\n",
    "# Выявлено 2 фильма с одинаковыми названиями"
   ]
  },
  {
   "cell_type": "code",
   "execution_count": null,
   "metadata": {},
   "outputs": [],
   "source": [
    "# Убеждаемся, что фильмы с одинаковыми названиями все-таки разные\n",
    "display(data[(data.original_title == 'Fantastic Four') | (data.original_title == 'The Gift')])"
   ]
  },
  {
   "cell_type": "markdown",
   "metadata": {
    "colab_type": "text",
    "id": "DTIt7ezGVp-G"
   },
   "source": [
    "# Предобработка"
   ]
  },
  {
   "cell_type": "code",
   "execution_count": 0,
   "metadata": {
    "colab": {},
    "colab_type": "code",
    "id": "jNb40DwKVp-H"
   },
   "outputs": [],
   "source": [
    "answers = {} # создадим словарь для ответов\n",
    "\n",
    "# Отображение данных в датасете: 2 знака после запятой\n",
    "pd.options.display.float_format = '{:,.2f}'.format \n",
    "\n",
    "# Перевод даты из формата string в тип в формат datetime\n",
    "data['release_date'] = pd.to_datetime(data.release_date, format='%m/%d/%Y')\n",
    "\n",
    "# Добавляем в датасет столбец прибыли\n",
    "data['profit'] = data.revenue-data.budget\n",
    "\n",
    "\n",
    "'''Функции, использемыев задачах'''\n",
    "\n",
    "# Функция разделения списка и превращения его в серию (Задачи 11-17, 24, 25)\n",
    "def f_ser(list):\n",
    "    return pd.Series(list.split('|'))\n",
    "\n",
    "\n",
    "# Функция выделения месяца из даты типа datetime (Задача 23)\n",
    "def wint(dt):\n",
    "    a = dt.timetuple()\n",
    "    month = a[1]\n",
    "    \n",
    "    if month< 3 or month>11: # Проверка на зимний период\n",
    "        return 1 # Если зимний месяц\n",
    "    else:\n",
    "        return 0\n",
    "\n",
    "    \n",
    "# Функция подсчета слов в предложении по количеству пробелов (Задача 25)\n",
    "def words_count(strng):\n",
    "    while strng.find('  ') > 0:\n",
    "        strng = strng.replace('  ', ' ')\n",
    "    \n",
    "    return len(strng.split(' '))\n",
    "\n",
    "\n",
    "# Функция разделения списка и формирования комбинаций (Задача 27)\n",
    "def cmb(list):\n",
    "    a = sorted(list.split('|')) # Разделение списка и его сортировка (обязательно!!!)\n",
    "    s = pd.Series([''])\n",
    "    i = 0\n",
    "    \n",
    "    for item in combinations(a, 2): # Цикл Формирования пар имен\n",
    "        s[i] = ' & '.join(item) \n",
    "        i += 1\n",
    "    \n",
    "    return s"
   ]
  },
  {
   "cell_type": "markdown",
   "metadata": {
    "colab_type": "text",
    "id": "YxZaH-nPVp-L"
   },
   "source": [
    "# 1. У какого фильма из списка самый большой бюджет?"
   ]
  },
  {
   "cell_type": "markdown",
   "metadata": {
    "colab_type": "text",
    "id": "Nd-G5gX6Vp-M"
   },
   "source": [
    "Использовать варианты ответов в коде решения запрещено.    \n",
    "Вы думаете и в жизни у вас будут варианты ответов?)"
   ]
  },
  {
   "cell_type": "code",
   "execution_count": 0,
   "metadata": {
    "colab": {},
    "colab_type": "code",
    "id": "uVnXAY5RVp-O"
   },
   "outputs": [],
   "source": [
    "answers['1'] = '5. Pirates of the Caribbean: On Stranger Tides (tt1298650) верно'\n",
    "# +"
   ]
  },
  {
   "cell_type": "code",
   "execution_count": 0,
   "metadata": {
    "colab": {},
    "colab_type": "code",
    "id": "dZwb3m28Vp-S"
   },
   "outputs": [],
   "source": [
    "'''Задача 1: У какого фильма из списка самый большой бюджет? (Вариант 1)'''\n",
    "result_1 = data[data.budget == data.budget.max()][['imdb_id', 'original_title', 'budget']]\n",
    "\n",
    "display('Задача 1: У какого фильма из списка самый большой бюджет?', result_1)"
   ]
  },
  {
   "cell_type": "markdown",
   "metadata": {
    "colab_type": "text",
    "id": "K7L3nbRXVp-X"
   },
   "source": [
    "ВАРИАНТ 2"
   ]
  },
  {
   "cell_type": "code",
   "execution_count": 0,
   "metadata": {
    "colab": {},
    "colab_type": "code",
    "id": "OGaoQI7rVp-X"
   },
   "outputs": [],
   "source": [
    "'''Задача 1: У какого фильма из списка самый большой бюджет? (Вариант 2)'''\n",
    "result_1 = data.query('budget==budget.max()')[['imdb_id', 'original_title', 'budget']]\n",
    "\n",
    "display('Задача 1: У какого фильма из списка самый большой бюджет?', result_1)"
   ]
  },
  {
   "cell_type": "markdown",
   "metadata": {
    "colab_type": "text",
    "id": "FNRbbI3vVp-c"
   },
   "source": [
    "# 2. Какой из фильмов самый длительный (в минутах)?"
   ]
  },
  {
   "cell_type": "code",
   "execution_count": 0,
   "metadata": {
    "colab": {},
    "colab_type": "code",
    "id": "vHAoEXNTVp-d"
   },
   "outputs": [],
   "source": [
    "answers['2'] = '2. Gods and Generals (tt0279111)'\n",
    "# +"
   ]
  },
  {
   "cell_type": "code",
   "execution_count": 0,
   "metadata": {
    "colab": {},
    "colab_type": "code",
    "id": "ot-VX2XrVp-g"
   },
   "outputs": [],
   "source": [
    "'''Задача 2: Какой из фильмов самый длительный (в минутах)?'''\n",
    "result_2 = data[data.runtime == data.runtime.max()][['imdb_id', 'original_title', 'runtime']]\n",
    "\n",
    "display('Задача 2: Какой из фильмов самый длительный (в минутах)?', result_2)"
   ]
  },
  {
   "cell_type": "markdown",
   "metadata": {
    "colab_type": "text",
    "id": "bapLlpW8Vp-k"
   },
   "source": [
    "# 3. Какой из фильмов самый короткий (в минутах)?\n",
    "\n",
    "\n",
    "\n"
   ]
  },
  {
   "cell_type": "code",
   "execution_count": 0,
   "metadata": {
    "colab": {},
    "colab_type": "code",
    "id": "YBxaSHuAVp-l"
   },
   "outputs": [],
   "source": [
    "answers['3'] = '3. Winnie the Pooh (tt1449283)'\n",
    "# +"
   ]
  },
  {
   "cell_type": "code",
   "execution_count": null,
   "metadata": {},
   "outputs": [],
   "source": [
    "'''Задача 3: Какой из фильмов самый короткий (в минутах)?'''\n",
    "result_3 = data[data.runtime == data.runtime.min()][['imdb_id', 'original_title', 'runtime']]\n",
    "\n",
    "display('Задача 3: Какой из фильмов самый короткий (в минутах)?', result_3)"
   ]
  },
  {
   "cell_type": "markdown",
   "metadata": {
    "colab_type": "text",
    "id": "TfQbxbfNVp-p"
   },
   "source": [
    "# 4. Какова средняя длительность фильмов?\n"
   ]
  },
  {
   "cell_type": "code",
   "execution_count": 0,
   "metadata": {
    "colab": {},
    "colab_type": "code",
    "id": "5K6dKZYVVp-q"
   },
   "outputs": [],
   "source": [
    "answers['4'] = '2. 110'\n",
    "# +"
   ]
  },
  {
   "cell_type": "code",
   "execution_count": null,
   "metadata": {},
   "outputs": [],
   "source": [
    "'''Задача 4: Какова средняя длительность фильмов?'''\n",
    "result_4 = data.runtime.mean()\n",
    "\n",
    "display('Задача 4: Какова средняя длительность фильмов?', round(result_4))"
   ]
  },
  {
   "cell_type": "markdown",
   "metadata": {
    "colab_type": "text",
    "id": "r5TvbnT_Vp-u"
   },
   "source": [
    "# 5. Каково медианное значение длительности фильмов? "
   ]
  },
  {
   "cell_type": "code",
   "execution_count": 0,
   "metadata": {
    "colab": {},
    "colab_type": "code",
    "id": "iBROplKnVp-v"
   },
   "outputs": [],
   "source": [
    "answers['5'] = '1. 107'\n",
    "# +"
   ]
  },
  {
   "cell_type": "code",
   "execution_count": null,
   "metadata": {},
   "outputs": [],
   "source": [
    "'''Задача 5: Каково медианное значение длительности фильмов?'''\n",
    "result_5 = data.runtime.median()\n",
    "\n",
    "display('Задача 5: Каково медианное значение длительности фильмов?', round(result_5))"
   ]
  },
  {
   "cell_type": "markdown",
   "metadata": {
    "colab_type": "text",
    "id": "39P-deDSVp-y"
   },
   "source": [
    "# 6. Какой самый прибыльный фильм?\n",
    "#### Внимание! Здесь и далее под «прибылью» или «убытками» понимается разность между сборами и бюджетом фильма. (прибыль = сборы - бюджет) в нашем датасете это будет (profit = revenue - budget) "
   ]
  },
  {
   "cell_type": "code",
   "execution_count": 0,
   "metadata": {
    "colab": {},
    "colab_type": "code",
    "id": "UYZh4T9WVp-y"
   },
   "outputs": [],
   "source": [
    "answers['6'] = '5. Avatar (tt0499549)'\n",
    "# +"
   ]
  },
  {
   "cell_type": "code",
   "execution_count": null,
   "metadata": {},
   "outputs": [],
   "source": [
    "'''Задача 6: Какой самый прибыльный фильм?'''\n",
    "result_6 = data[data.profit == data.profit.max()][['imdb_id', 'original_title', 'profit']]\n",
    "\n",
    "display('Задача 6: Какой самый прибыльный фильм?', result_6)"
   ]
  },
  {
   "cell_type": "markdown",
   "metadata": {
    "colab_type": "text",
    "id": "M99JmIX4Vp-2"
   },
   "source": [
    "# 7. Какой фильм самый убыточный? "
   ]
  },
  {
   "cell_type": "code",
   "execution_count": 0,
   "metadata": {
    "colab": {},
    "colab_type": "code",
    "id": "w-D2m4XPVp-3"
   },
   "outputs": [],
   "source": [
    "answers['7'] = '5. The Lone Ranger (tt1210819)'\n",
    "# +"
   ]
  },
  {
   "cell_type": "code",
   "execution_count": null,
   "metadata": {},
   "outputs": [],
   "source": [
    "'''Задача 7: Какой фильм самый убыточный?'''\n",
    "result_7 = data[data.profit == data.profit.min()][['imdb_id', 'original_title', 'profit']]\n",
    "\n",
    "display('Задача 7: Какой фильм самый убыточный?', result_7)"
   ]
  },
  {
   "cell_type": "markdown",
   "metadata": {
    "colab_type": "text",
    "id": "wEOM5ERVVp-6"
   },
   "source": [
    "# 8. У скольких фильмов из датасета объем сборов оказался выше бюджета?"
   ]
  },
  {
   "cell_type": "code",
   "execution_count": 0,
   "metadata": {
    "colab": {},
    "colab_type": "code",
    "id": "y00_7HD6Vp-7"
   },
   "outputs": [],
   "source": [
    "answers['8'] = '1. 1478'\n",
    "# +"
   ]
  },
  {
   "cell_type": "code",
   "execution_count": null,
   "metadata": {},
   "outputs": [],
   "source": [
    "'''Задача 8: У скольких фильмов из датасета объем сборов оказался выше бюджета?'''\n",
    "result_8 = data[data.profit > 0].imdb_id.count()\n",
    "\n",
    "display('Задача 8: У скольких фильмов из датасета объем сборов оказался выше бюджета?', result_8)"
   ]
  },
  {
   "cell_type": "markdown",
   "metadata": {
    "colab_type": "text",
    "id": "xhpspA9KVp_A"
   },
   "source": [
    "# 9. Какой фильм оказался самым кассовым в 2008 году?"
   ]
  },
  {
   "cell_type": "code",
   "execution_count": 0,
   "metadata": {
    "colab": {},
    "colab_type": "code",
    "id": "MoUyQr9RVp_B"
   },
   "outputs": [],
   "source": [
    "answers['9'] = '4. The Dark Knight (tt0468569)'\n",
    "# +"
   ]
  },
  {
   "cell_type": "code",
   "execution_count": null,
   "metadata": {},
   "outputs": [],
   "source": [
    "'''Задача 9: Какой фильм оказался самым кассовым в 2008 году?'''\n",
    "tmp_9 = data[data.release_year == 2008] # Оставляем фильмы только за 2008 год\n",
    "result_9 = tmp_9[tmp_9.revenue == tmp_9.revenue.max()][['imdb_id', 'original_title', 'revenue']]\n",
    "\n",
    "display('Задача 9: Какой фильм оказался самым кассовым в 2008 году?', result_9)"
   ]
  },
  {
   "cell_type": "markdown",
   "metadata": {
    "colab_type": "text",
    "id": "Zi4hDKidVp_F"
   },
   "source": [
    "# 10. Самый убыточный фильм за период с 2012 по 2014 г. (включительно)?\n"
   ]
  },
  {
   "cell_type": "code",
   "execution_count": 0,
   "metadata": {
    "colab": {},
    "colab_type": "code",
    "id": "XqyRmufJVp_F"
   },
   "outputs": [],
   "source": [
    "answers['10'] = '5. The Lone Ranger (tt1210819)'\n",
    "# +"
   ]
  },
  {
   "cell_type": "code",
   "execution_count": null,
   "metadata": {},
   "outputs": [],
   "source": [
    "'''Задача 10: Самый убыточный фильм за период с 2012 по 2014 г. (включительно)?'''\n",
    "tmp_10 = data.query('2011<release_year<2015') # Оставляем только фильмы за 2012-2014 годы\n",
    "result_10 = tmp_10[tmp_10.revenue == tmp_10.revenue.max()][['imdb_id', 'original_title', 'revenue']]\n",
    "\n",
    "display('Задача 10: Самый убыточный фильм за период с 2012 по 2014 г. (включительно)?', result_10)"
   ]
  },
  {
   "cell_type": "markdown",
   "metadata": {
    "colab_type": "text",
    "id": "EA7Sa9dkVp_I"
   },
   "source": [
    "# 11. Какого жанра фильмов больше всего?"
   ]
  },
  {
   "cell_type": "code",
   "execution_count": 0,
   "metadata": {
    "colab": {},
    "colab_type": "code",
    "id": "zsJAwJ8QVp_J"
   },
   "outputs": [],
   "source": [
    "answers['11'] = '3. Drama'\n",
    "# +"
   ]
  },
  {
   "cell_type": "code",
   "execution_count": null,
   "metadata": {},
   "outputs": [],
   "source": [
    "'''Задача 11: Какого жанра фильмов больше всего? (Вариант 1)'''\n",
    "srs_11 = pd.Series('')\n",
    "tmp_11 = data.genres.apply(f_ser) # Формируем таблицу из жанров по каждому фильму...\n",
    "\n",
    "for i in range(len(tmp_11.columns)): # ... и определяем количество её столбцов\n",
    "    srs_11 = pd.concat([srs_11, tmp_11[i]]) # Объединяем столбцы таблицы в один стобец\n",
    "\n",
    "result_11 = srs_11.value_counts() # Ранжируем результат\n",
    "\n",
    "display('Задача 11: Какого жанра фильмов больше всего?', result_11.head(3))"
   ]
  },
  {
   "cell_type": "markdown",
   "metadata": {
    "colab_type": "text",
    "id": "Ax6g2C8SVp_M"
   },
   "source": [
    "ВАРИАНТ 2"
   ]
  },
  {
   "cell_type": "code",
   "execution_count": 0,
   "metadata": {
    "colab": {},
    "colab_type": "code",
    "id": "otO3SbrSVp_N"
   },
   "outputs": [],
   "source": [
    "'''Задача 11: Какого жанра фильмов больше всего? (Вариант 2)'''\n",
    "srs_11 = pd.Series('')\n",
    "\n",
    "for a in data.genres: # ...формируем список жанров фильмов (Series)...\n",
    "    srs_11 = srs_11.append(f_ser(a))\n",
    "\n",
    "result_11 = srs_11.value_counts() # ...и получаем результат\n",
    "display('Задача 11: Какого жанра фильмов больше всего?', result_11.head(3))"
   ]
  },
  {
   "cell_type": "markdown",
   "metadata": {
    "colab_type": "text",
    "id": "T9_bPWpkVp_Q"
   },
   "source": [
    "# 12. Фильмы какого жанра чаще всего становятся прибыльными? "
   ]
  },
  {
   "cell_type": "code",
   "execution_count": 0,
   "metadata": {
    "colab": {},
    "colab_type": "code",
    "id": "Tmt8MaK1Vp_R"
   },
   "outputs": [],
   "source": [
    "answers['12'] = '1. Drama'\n",
    "# +"
   ]
  },
  {
   "cell_type": "code",
   "execution_count": null,
   "metadata": {},
   "outputs": [],
   "source": [
    "'''Задача 12: Фильмы какого жанра чаще всего становятся прибыльными? (Вариант 1)'''\n",
    "srs_12 = pd.Series('')\n",
    "tmp_12 = data[data.profit > 0].genres.apply(f_ser) # Формируем таблицу из жанров по каждому фильму, имеющему прибыль\n",
    "\n",
    "for i in range(len(tmp_12.columns)):\n",
    "    srs12 = pd.concat([srs_12, tmp_12[i]]) # Объединяем столбцы таблицы в один стобец\n",
    "\n",
    "result_12 = srs_12.value_counts() # Ранжируем результат\n",
    "display('Задача 12: Фильмы какого жанра чаще всего становятся прибыльными?', result_12.head(3))"
   ]
  },
  {
   "cell_type": "markdown",
   "metadata": {
    "colab_type": "text",
    "id": "Ax6g2C8SVp_M"
   },
   "source": [
    "ВАРИАНТ 2"
   ]
  },
  {
   "cell_type": "code",
   "execution_count": null,
   "metadata": {},
   "outputs": [],
   "source": [
    "'''Задача 12: Фильмы какого жанра чаще всего становятся прибыльными? (Вариант 2)'''\n",
    "srs12 = pd.Series('')\n",
    "tmp_12 = data[data.profit > 0] # Оставляем только фильмы, имеющие прибыль...\n",
    "\n",
    "for a in tmp_12.genres: # ...формируем список жанров таких фильмов (Series)...\n",
    "    srs12 = srs12.append(f_ser(a))\n",
    "\n",
    "tmp_12 = srs12.value_counts() # ...и получаем результат\n",
    "\n",
    "display('Задача 12: Фильмы какого жанра чаще всего становятся прибыльными?', result_12.head(3))"
   ]
  },
  {
   "cell_type": "markdown",
   "metadata": {
    "colab_type": "text",
    "id": "0F23bgsDVp_U"
   },
   "source": [
    "# 13. У какого режиссера самые большие суммарные кассовые сбооры?"
   ]
  },
  {
   "cell_type": "code",
   "execution_count": 0,
   "metadata": {
    "colab": {},
    "colab_type": "code",
    "id": "K6Z3J8ygVp_X"
   },
   "outputs": [],
   "source": [
    "answers['13'] = '5. Peter Jackson'\n",
    "# +"
   ]
  },
  {
   "cell_type": "code",
   "execution_count": null,
   "metadata": {},
   "outputs": [],
   "source": [
    "'''Задача 13: У какого режиссера самые большие суммарные кассовые сборы? (Вариант 1)'''\n",
    "result_13 = pd.DataFrame()\n",
    "\n",
    "tmp_13 = data.director.apply(f_ser) # Формируем таблицу из режиссеров по каждому фильму\n",
    "l_colmn = len(tmp_13.columns)\n",
    "tmp_13[l_colmn] = data.revenue # Добавляем в таблицу столбец с кассовыми сборами\n",
    "\n",
    "for i in range(l_colmn): # Формируем таблицу из двух столбцов: Режиссер + Кассовые сборы\n",
    "    result_13 = pd.concat([result_13, tmp_13.groupby([i])[l_colmn].sum()])\n",
    "\n",
    "result_13 = result_13.groupby([result_13.index])[0].sum().sort_values(ascending=False) # Сортировка по кассовым сборам\n",
    "\n",
    "display('Задача 13: У какого режиссера самые большие суммарные кассовые сборы?',result_13.head(3))"
   ]
  },
  {
   "cell_type": "markdown",
   "metadata": {},
   "source": [
    "ВАРИАНТ 2"
   ]
  },
  {
   "cell_type": "code",
   "execution_count": null,
   "metadata": {},
   "outputs": [],
   "source": [
    "'''Задача 13: У какого режиссера самые большие суммарные кассовые сборы? (Вариант 2)'''\n",
    "result_13 = pd.DataFrame()\n",
    "tmp_13 = pd.DataFrame()\n",
    "\n",
    "i = 0\n",
    "for list_dir in data.director: # Формируем DataFrame: Hежиссер + Кассовые сборы\n",
    "    tmp_13[0] = f_ser(list_dir)\n",
    "    tmp_13[1] = data.revenue.loc[i]\n",
    "    i += 1\n",
    "    result_13 = pd.concat([result_13, tmp_13])\n",
    "\n",
    "result_13 = result_13.dropna() # Удаляем строки, где есть NaN (не обязательно!)\n",
    "result_13 = result_13.groupby([0])[1].sum().sort_values(ascending=False) # Получаем результат\n",
    "\n",
    "display('Задача 13: У какого режиссера самые большие суммарные кассовые сборы?',result_13.head(3))"
   ]
  },
  {
   "cell_type": "markdown",
   "metadata": {
    "colab_type": "text",
    "id": "PsYC9FgRVp_a"
   },
   "source": [
    "# 14. Какой режисер снял больше всего фильмов в стиле Action?"
   ]
  },
  {
   "cell_type": "code",
   "execution_count": 0,
   "metadata": {
    "colab": {},
    "colab_type": "code",
    "id": "wd2M-wHeVp_b"
   },
   "outputs": [],
   "source": [
    "answers['14'] = '3. Robert Rodriguez'\n",
    "# +"
   ]
  },
  {
   "cell_type": "code",
   "execution_count": null,
   "metadata": {},
   "outputs": [],
   "source": [
    "'''Задача 14: Какой режисер снял больше всего фильмов в стиле Action? (Вариант 1)'''\n",
    "srs14 = pd.Series('')\n",
    "tmp_14 = data[data.genres.str.contains('Action')].director.apply(f_ser) # Таблица из режиссеров фильмов в стиле Action\n",
    "\n",
    "for i in range(len(tmp_14.columns)): # Объединяем столбцы таблицы в один стобец \n",
    "    srs2 = pd.concat([srs14, tmp_14[i]])\n",
    "\n",
    "result_14 = srs14.value_counts() # Считаем количество фильмов для каждого режиссера\n",
    "\n",
    "display('Задача 14: Какой режисер снял больше всего фильмов в стиле Action?', result_14.head(3))"
   ]
  },
  {
   "cell_type": "markdown",
   "metadata": {},
   "source": [
    "ВАРИАНТ 2"
   ]
  },
  {
   "cell_type": "code",
   "execution_count": null,
   "metadata": {},
   "outputs": [],
   "source": [
    "'''Задача 14: Какой режисер снял больше всего фильмов в стиле Action? (Вариант 2)'''\n",
    "srs14 = pd.Series('')\n",
    "tmp_14 = data[data.genres.str.contains('Action')] # Оставляем только фильмы в стиле Action...\n",
    "\n",
    "for a in tmp_14.director: # ...формируем список режиссеров, снимавших такие фильмы (Series)...\n",
    "    srs14 = srs14.append(f_ser(a))\n",
    "\n",
    "result_14 = srs14.value_counts() # ...и получаем результат\n",
    "\n",
    "display('Задача 14: Какой режисер снял больше всего фильмов в стиле Action?', result_14.head(3))"
   ]
  },
  {
   "cell_type": "markdown",
   "metadata": {
    "colab_type": "text",
    "id": "PQ0KciD7Vp_f"
   },
   "source": [
    "# 15. Фильмы с каким актером принесли самые высокие кассовые сборы в 2012 году? "
   ]
  },
  {
   "cell_type": "code",
   "execution_count": 0,
   "metadata": {
    "colab": {},
    "colab_type": "code",
    "id": "aga62oeKVp_g"
   },
   "outputs": [],
   "source": [
    "answers['15'] = '3. Chris Hemsworth'\n",
    "# +"
   ]
  },
  {
   "cell_type": "code",
   "execution_count": null,
   "metadata": {},
   "outputs": [],
   "source": [
    "'''Задача 15: Фильмы с каким актером принесли самые высокие кассовые сборы в 2012 году? (Вариант 1)'''\n",
    "result_15 = pd.DataFrame()\n",
    "\n",
    "filtr = data[data.release_year == 2012] # Ограничиваем круг поиска фильмов\n",
    "tmp_15 = filtr.cast.apply(f_ser) # Формируем таблицу из актеров по каждому фильму\n",
    "l_colmn = len(tmp_15.columns) # Считаем количество столбцов полученной таблицы\n",
    "tmp_15[l_colmn] = filtr.revenue # Добавляем в таблицу столбец с кассовыми сборами\n",
    "\n",
    "for i in range(l_colmn): # Формируем таблицу из двух столбцов: Актер + Кассовые сборы\n",
    "    result_15 = pd.concat([result_15, tmp_15.groupby([i])[l_colmn].sum()])\n",
    "\n",
    "result_15 = result_15.groupby([result_15.index])[0].sum().sort_values(ascending=False) # Сортировка по кассовым сборам\n",
    "\n",
    "display('Задача 15: Фильмы с каким актером принесли самые высокие кассовые сборы в 2012 году?',result_15.head(3))"
   ]
  },
  {
   "cell_type": "markdown",
   "metadata": {},
   "source": [
    "ВАРИАНТ 2"
   ]
  },
  {
   "cell_type": "code",
   "execution_count": null,
   "metadata": {},
   "outputs": [],
   "source": [
    "'''Задача 15: Фильмы с каким актером принесли самые высокие кассовые сборы в 2012 году? (Вариант 2)'''\n",
    "result_15 = pd.DataFrame()\n",
    "tmp_15 = pd.DataFrame()\n",
    "\n",
    "filtr = data[data.release_year == 2012] # Ограничиваем круг поиска фильмов 2012 годом\n",
    "\n",
    "i = 0\n",
    "\n",
    "for list_act in filtr.cast: # Формируем DataFrame: Актер + Кассовые сборы\n",
    "    tmp_15[0] = f_ser(list_act)\n",
    "    tmp_15[1] = filtr.revenue.loc[filtr.index[i]]\n",
    "    i += 1\n",
    "    result_15 = pd.concat([result_15, tmp_15])\n",
    "\n",
    "result_15 = result_15.dropna() # Удаляем строки, где есть NaN (не обязательно!)\n",
    "result_15 = result_15.groupby([0])[1].sum().sort_values(ascending=False) # Получаем результат\n",
    "\n",
    "display('Задача 15: Фильмы с каким актером принесли самые высокие кассовые сборы в 2012 году?',result_15.head(3))"
   ]
  },
  {
   "cell_type": "markdown",
   "metadata": {
    "colab_type": "text",
    "id": "mWHyyL7QVp_j"
   },
   "source": [
    "# 16. Какой актер снялся в большем количестве высокобюджетных фильмов?"
   ]
  },
  {
   "cell_type": "code",
   "execution_count": 0,
   "metadata": {
    "colab": {},
    "colab_type": "code",
    "id": "qQtmHKTFVp_k"
   },
   "outputs": [],
   "source": [
    "answers['16'] = '3. Matt Damon'\n",
    "# +"
   ]
  },
  {
   "cell_type": "code",
   "execution_count": null,
   "metadata": {},
   "outputs": [],
   "source": [
    "'''Задача 16: Какой актер снялся в большем количестве высокобюджетных фильмов? (Вариант 1)'''\n",
    "result_16 = pd.Series('')\n",
    "tmp_16 = data[data.budget > data.budget.mean()].cast.apply(f_ser) # Таблица из актеров по фильмам с бюджетом выше среднего\n",
    "\n",
    "for i in range(len(tmp_16.columns)): # Объединяем столбцы таблицы в один стобец с актерами\n",
    "    result_16 = pd.concat([result_16, tmp_16[i]])\n",
    "\n",
    "display('Задача 16: Какой актер снялся в большем количестве высокобюджетных фильмов?', result_16.value_counts().head(3))"
   ]
  },
  {
   "cell_type": "markdown",
   "metadata": {},
   "source": [
    "ВАРИАНТ 2"
   ]
  },
  {
   "cell_type": "code",
   "execution_count": null,
   "metadata": {},
   "outputs": [],
   "source": [
    "'''Задача 16: Какой актер снялся в большем количестве высокобюджетных фильмов?  (Вариант 2)'''\n",
    "result_16 = pd.Series('')\n",
    "tmp_16 = data[data.budget > data.budget.mean()] # Оставляем фильмы с бюджетом выше среднего...\n",
    "\n",
    "for a in tmp_16.cast: # ...и формируем список актеров, снявшихся в таких фильмах (Series)\n",
    "    result_16 = result_16.append(f_ser(a))\n",
    "\n",
    "display('Задача 16: Какой актер снялся в большем количестве высокобюджетных фильмов?', result_16.value_counts().head(3))"
   ]
  },
  {
   "cell_type": "markdown",
   "metadata": {
    "colab_type": "text",
    "id": "NIh6AaW5Vp_n"
   },
   "source": [
    "# 17. В фильмах какого жанра больше всего снимался Nicolas Cage? "
   ]
  },
  {
   "cell_type": "code",
   "execution_count": 0,
   "metadata": {
    "colab": {},
    "colab_type": "code",
    "id": "H74SJDIBVp_n"
   },
   "outputs": [],
   "source": [
    "answers['17'] = '2. Action'\n",
    "# +"
   ]
  },
  {
   "cell_type": "code",
   "execution_count": null,
   "metadata": {},
   "outputs": [],
   "source": [
    "'''Задача 17. В фильмах какого жанра больше всего снимался Nicolas Cage? (Вариант 1)'''\n",
    "result_17 = pd.Series('')\n",
    "tmp_17 = data[data.cast.str.contains('Nicolas Cage')].genres.apply(f_ser) # Оставляем только фильмы с Nicolas Cage...\n",
    "\n",
    "for i in range(len(tmp_17.columns)): # ...сводим все жанры с его участием в один столбец\n",
    "    result_17 = pd.concat([result_17, tmp_17[i]])\n",
    "\n",
    "display('Задача 17: В фильмах какого жанра больше всего снимался Nicolas Cage?', result_17.value_counts().head(3))"
   ]
  },
  {
   "cell_type": "markdown",
   "metadata": {},
   "source": [
    "ВАРИАНТ 2"
   ]
  },
  {
   "cell_type": "code",
   "execution_count": null,
   "metadata": {},
   "outputs": [],
   "source": [
    "'''Задача 17. В фильмах какого жанра больше всего снимался Nicolas Cage? (Вариант 2)'''\n",
    "result_17 = pd.Series('')\n",
    "tmp_17 = data[data.cast.str.contains('Nicolas Cage')] # Оставляем только фильмы с Nicolas Cage...\n",
    "\n",
    "for a in tmp_17.genres: # ...сводим все жанры с его участием в один столбец\n",
    "    result_17 = result_17.append(f_ser(a))\n",
    "\n",
    "display('Задача 17: В фильмах какого жанра больше всего снимался Nicolas Cage?', result_17.value_counts().head(3))"
   ]
  },
  {
   "cell_type": "markdown",
   "metadata": {
    "colab_type": "text",
    "id": "RqOmPRfWVp_q"
   },
   "source": [
    "# 18. Самый убыточный фильм от Paramount Pictures"
   ]
  },
  {
   "cell_type": "code",
   "execution_count": 0,
   "metadata": {
    "colab": {},
    "colab_type": "code",
    "id": "9E_B0Y96Vp_r"
   },
   "outputs": [],
   "source": [
    "answers['18'] = '1. K-19: The Widowmaker (tt0267626)'\n",
    "# +"
   ]
  },
  {
   "cell_type": "code",
   "execution_count": null,
   "metadata": {},
   "outputs": [],
   "source": [
    "'''Задача 18. Самый убыточный фильм от Paramount Pictures'''\n",
    "tmp_18 = data[data.production_companies.str.contains('Paramount Pictures')] # Оставляем только фильмы Paramount Pictures\n",
    "result_18 = tmp_18[tmp_18.profit == tmp_18.profit.min()][['imdb_id', 'original_title', 'profit']]\n",
    "\n",
    "display('Задача 18: Самый убыточный фильм от Paramount Pictures', result_18)"
   ]
  },
  {
   "cell_type": "markdown",
   "metadata": {
    "colab_type": "text",
    "id": "vS8Ur6ddVp_u"
   },
   "source": [
    "# 19. Какой год стал самым успешным по суммарным кассовым сборам?"
   ]
  },
  {
   "cell_type": "code",
   "execution_count": 0,
   "metadata": {
    "colab": {},
    "colab_type": "code",
    "id": "Dnbt4GdIVp_v"
   },
   "outputs": [],
   "source": [
    "answers['19'] = '5. 2015'\n",
    "# +"
   ]
  },
  {
   "cell_type": "code",
   "execution_count": null,
   "metadata": {},
   "outputs": [],
   "source": [
    "'''Задача 19. Какой год стал самым успешным по суммарным кассовым сборам? (Вариант 1)'''\n",
    "itog = pd.Series(int())\n",
    "\n",
    "# Проходим по годам и суммируем кассовые сборы по каждому году (результат типа Series)\n",
    "for year_t in range(data.release_year.min(), data.release_year.max()+1):\n",
    "    itog = pd.concat([itog, pd.Series([data[data.release_year == year_t]['revenue'].sum()], index=[year_t])])\n",
    "\n",
    "result_19 = itog.sort_values(ascending=False) # Ранжируем полученный результат\n",
    "\n",
    "display('Задача 19: Какой год стал самым успешным по суммарным кассовым сборам?', result_19.head(3))"
   ]
  },
  {
   "cell_type": "markdown",
   "metadata": {},
   "source": [
    "ВАРИАНТ 2"
   ]
  },
  {
   "cell_type": "code",
   "execution_count": null,
   "metadata": {},
   "outputs": [],
   "source": [
    "'''Задача 19. Какой год стал самым успешным по суммарным кассовым сборам? (Вариант 2)'''\n",
    "# Группируем данные по годам, суммируем кассовые сборы по каждому году и ранжируем результат\n",
    "result_19 = data.groupby(['release_year']).revenue.sum().sort_values(ascending=False)\n",
    "\n",
    "display('Задача 19: Какой год стал самым успешным по суммарным кассовым сборам?', result_19.head(3))"
   ]
  },
  {
   "cell_type": "markdown",
   "metadata": {
    "colab_type": "text",
    "id": "JAzJh4QAVp_z"
   },
   "source": [
    "# 20. Какой самый прибыльный год для студии Warner Bros?"
   ]
  },
  {
   "cell_type": "code",
   "execution_count": 0,
   "metadata": {
    "colab": {},
    "colab_type": "code",
    "id": "wgVu02DEVp_0"
   },
   "outputs": [],
   "source": [
    "answers['20'] = '1. 2014'\n",
    "# +"
   ]
  },
  {
   "cell_type": "code",
   "execution_count": null,
   "metadata": {},
   "outputs": [],
   "source": [
    "'''Задача 20. Какой самый прибыльный год для студии Warner Bros? (Вариант 1)'''\n",
    "itog = pd.Series(int())\n",
    "\n",
    "tmp_20 = data[data.production_companies.str.contains('Warner Bros')] # Оставляем только фильмы студии Warner Bros\n",
    "\n",
    "# Проходим по годам и суммируем прибыль по каждому году (результат типа Series)\n",
    "for year_t in range(tmp_20.release_year.min(), tmp_20.release_year.max()+1):\n",
    "    itog = pd.concat([itog, pd.Series([tmp_20[tmp_20.release_year == year_t].profit.sum()], index=[year_t])])\n",
    "\n",
    "result_20 = itog.sort_values(ascending=False) # Ранжируем полученный результат\n",
    "\n",
    "display('Задача 20. Какой самый прибыльный год для студии Warner Bros?', result_20.head(3))"
   ]
  },
  {
   "cell_type": "markdown",
   "metadata": {},
   "source": [
    "ВАРИАНТ 2"
   ]
  },
  {
   "cell_type": "code",
   "execution_count": null,
   "metadata": {},
   "outputs": [],
   "source": [
    "'''Задача 20. Какой самый прибыльный год для студии Warner Bros? (Вариант 2)'''\n",
    "tmp_20 = data[data.production_companies.str.contains('Warner Bros')] # Оставляем только фильмы студии Warner Bros\n",
    "\n",
    "# Группируем по годам, суммируем прибыль (по годам) и ранжируем полученный результат\n",
    "result_20 = tmp_20.groupby(['release_year']).profit.sum().sort_values(ascending=False)\n",
    "\n",
    "display('Задача 20. Какой самый прибыльный год для студии Warner Bros?', result_20.head(3))"
   ]
  },
  {
   "cell_type": "markdown",
   "metadata": {},
   "source": [
    "ВАРИАНТ 3"
   ]
  },
  {
   "cell_type": "code",
   "execution_count": null,
   "metadata": {},
   "outputs": [],
   "source": [
    "'''Задача 20. Какой самый прибыльный год для студии Warner Bros? (Вариант 3)'''\n",
    "filtr = data[data.production_companies.str.contains('Warner Bros')] # Оставляем только фильмы студии Warner Bros\n",
    "\n",
    "tmp_20 = filtr.pivot_table(values=['profit'],\n",
    "index=['production_companies'],\n",
    "columns=['release_year'],\n",
    "aggfunc='sum',\n",
    "margins=True,\n",
    "fill_value=0)\n",
    "\n",
    "result_20 = tmp_20.loc['All'].sort_values(ascending=False)\n",
    "display('Задача 20. Какой самый прибыльный год для студии Warner Bros?', result_20.head(3))"
   ]
  },
  {
   "cell_type": "markdown",
   "metadata": {
    "colab_type": "text",
    "id": "8Im1S2HRVp_4"
   },
   "source": [
    "# 21. В каком месяце за все годы суммарно вышло больше всего фильмов?"
   ]
  },
  {
   "cell_type": "code",
   "execution_count": 0,
   "metadata": {
    "colab": {},
    "colab_type": "code",
    "id": "lev6TH7gVp_4"
   },
   "outputs": [],
   "source": [
    "answers['21'] = '5. Сентябрь'\n",
    "# +"
   ]
  },
  {
   "cell_type": "code",
   "execution_count": null,
   "metadata": {},
   "outputs": [],
   "source": [
    "'''Задача 21. В каком месяце за все годы суммарно вышло больше всего фильмов?'''\n",
    "result = data.release_date.apply(lambda x: x.timetuple()[1]) # Создаем список из месяцев выхода фильмов...\n",
    "result_21 = result.value_counts() #...и ранжируем его, получая результат\n",
    "\n",
    "display('Задача 21. В каком месяце за все годы суммарно вышло больше всего фильмов?', result_21.head(3))"
   ]
  },
  {
   "cell_type": "markdown",
   "metadata": {
    "colab_type": "text",
    "id": "uAJsZ_NeVp_7"
   },
   "source": [
    "# 22. Сколько суммарно вышло фильмов летом? (за июнь, июль, август)"
   ]
  },
  {
   "cell_type": "code",
   "execution_count": 0,
   "metadata": {
    "colab": {},
    "colab_type": "code",
    "id": "Aa-hEREoVp_8"
   },
   "outputs": [],
   "source": [
    "answers['22'] = '2. 450'\n",
    "# +"
   ]
  },
  {
   "cell_type": "code",
   "execution_count": null,
   "metadata": {},
   "outputs": [],
   "source": [
    "'''Задача 22. Сколько суммарно вышло фильмов летом? (за июнь, июль, август)'''\n",
    "tmp_22 = data.release_date.apply(lambda x: x.timetuple()[1]) # Создаем список из месяцев выхода фильмов...\n",
    "result_22 = tmp_22[(tmp_22>5) & (tmp_22<9)].count() #...,фильтруем его, оставляя только летние месяцы, и считаем их количество\n",
    "\n",
    "display('Задача 22. Сколько суммарно вышло фильмов летом? (за июнь, июль, август)', result_22)"
   ]
  },
  {
   "cell_type": "markdown",
   "metadata": {
    "colab_type": "text",
    "id": "G94ppOY1VqAA"
   },
   "source": [
    "# 23. Для какого режиссера зима – самое продуктивное время года? "
   ]
  },
  {
   "cell_type": "code",
   "execution_count": 0,
   "metadata": {
    "colab": {},
    "colab_type": "code",
    "id": "RhNTsamuVqAB"
   },
   "outputs": [],
   "source": [
    "answers['23'] = '5. Peter Jackson'\n",
    "# +"
   ]
  },
  {
   "cell_type": "code",
   "execution_count": null,
   "metadata": {},
   "outputs": [],
   "source": [
    "'''Задача 23: У какого режиссера зима – самое продуктивное время года? (режиссеров фильма может быть несколько)'''\n",
    "result_23 = pd.DataFrame()\n",
    "\n",
    "# Для каждого фильма формируем строку: Режиссеры + Признак сезона выхода фильма (1-зима,0-др.сезоны), и сводим их в один DataFrame\n",
    "tmp_23 = data.director.apply(f_ser)\n",
    "l_colmn = len(tmp_23.columns)\n",
    "tmp_23[l_colmn] = data.release_date.apply(wint)\n",
    "\n",
    "# Из полученного DataFrame формируем DataFrame из двух столбцов: Режиссер + Признак сезона выхода фильма\n",
    "for i in range(l_colmn):\n",
    "    result_23 = pd.concat([result_23, tmp_23.groupby([i])[l_colmn].sum()])\n",
    "\n",
    "# Группируем, ранжируем и получаем результат\n",
    "result_23 = result_23.groupby(result_23.index)[0].sum().sort_values(ascending=False) \n",
    "\n",
    "display('Задача 23: У какого режиссера зима – самое продуктивное время года?',result_23.head(3))"
   ]
  },
  {
   "cell_type": "markdown",
   "metadata": {},
   "source": [
    "ВАРИАНТ 2"
   ]
  },
  {
   "cell_type": "code",
   "execution_count": null,
   "metadata": {},
   "outputs": [],
   "source": [
    "'''Задача 23: У какого режиссера зима – самое продуктивное время года? (режиссер фильма не один) (Вариант 2)'''\n",
    "result_23 = pd.DataFrame()\n",
    "tmp_23 = pd.DataFrame()\n",
    "\n",
    "i = 0\n",
    "\n",
    "for list_dir in data.director: # Формируем DataFrame: Режиссер + Признак выхода фильма зимой\n",
    "    tmp_23[0] = f_ser(list_dir)\n",
    "    tmp_23[1] = wint(data.release_date.loc[i])\n",
    "    i += 1\n",
    "    result_23 = pd.concat([result_23, tmp_23])\n",
    "\n",
    "result_23 = result_23.dropna() # Удаляем строки, где есть NaN (не обязательно!)\n",
    "result_23 = result_23.groupby([0])[1].sum().sort_values(ascending=False) # Получаем результат\n",
    "\n",
    "display('Задача 23: У какого режиссера зима – самое продуктивное время года?',result_23.head(3))"
   ]
  },
  {
   "cell_type": "markdown",
   "metadata": {
    "colab_type": "text",
    "id": "RBo0JVjVVqAF"
   },
   "source": [
    "# 24. Какая студия дает самые длинные названия своим фильмам по количеству символов?"
   ]
  },
  {
   "cell_type": "code",
   "execution_count": 0,
   "metadata": {
    "colab": {},
    "colab_type": "code",
    "id": "QRGS8L0iVqAG"
   },
   "outputs": [],
   "source": [
    "answers['24'] = '5. Four By Two Productions верно'\n",
    "# +"
   ]
  },
  {
   "cell_type": "code",
   "execution_count": null,
   "metadata": {},
   "outputs": [],
   "source": [
    "'''Задача 24. Какая студия дает самые длинные названия своим фильмам по количеству символов? (Вариант 1)'''\n",
    "result_24 = pd.DataFrame()\n",
    "\n",
    "# По каждому фильму формируем строку из названий студий и количества символов названия фильма и сводим их в один DataFrame\n",
    "tmp_24 = data.production_companies.apply(f_ser)\n",
    "l_colmn = len(tmp_24.columns)\n",
    "tmp_24[l_colmn] = data.original_title.apply(lambda x:len(x))\n",
    "\n",
    "# Из полученного DataFrame формируем DataFrame из двух столбцов: Студия + Количество символов названия фильма\n",
    "for i in range(l_colmn):\n",
    "    res_temp = tmp_24[[0, l_colmn]]\n",
    "    result_24 = pd.concat([result_24, res_temp])\n",
    "    tmp_24[0] = tmp_24[i+1]\n",
    "\n",
    "result_24 = result_24.groupby([result_24[0]])[l_colmn].mean().sort_values(ascending=False) # Получаем результат\n",
    "\n",
    "display('Задача 24. Какая студия дает самые длинные названия своим фильмам по количеству символов?',result_24.head())"
   ]
  },
  {
   "cell_type": "markdown",
   "metadata": {},
   "source": [
    "ВАРИАНТ 2"
   ]
  },
  {
   "cell_type": "code",
   "execution_count": null,
   "metadata": {},
   "outputs": [],
   "source": [
    "'''Задача 24. Какая студия дает самые длинные названия своим фильмам по количеству символов? (Вариант 2)'''\n",
    "result_24 = pd.DataFrame()\n",
    "tmp_24 = pd.DataFrame()\n",
    "\n",
    "i = 0\n",
    "# Формируем DataFrame: Студия + Длина названия фильма\n",
    "for list_comp in data.production_companies:\n",
    "    tmp_24[0] = f_ser(list_comp)\n",
    "    tmp_24[1] = len(data.original_title.loc[i])\n",
    "    i += 1\n",
    "    result_24 = pd.concat([result_24, tmp_24])\n",
    "\n",
    "result_24 = result_24.dropna() # Удаляем строки, где есть NaN (не обязательно!)\n",
    "result_24 = result_24.groupby([0])[1].mean().sort_values(ascending=False) # Получаем результат\n",
    "\n",
    "display('Задача 24. Какая студия дает самые длинные названия своим фильмам по количеству символов?',result_24.head())"
   ]
  },
  {
   "cell_type": "markdown",
   "metadata": {
    "colab_type": "text",
    "id": "9G0hbvR7VqAK"
   },
   "source": [
    "# 25. Описание фильмов какой студии в среднем самые длинные по количеству слов?"
   ]
  },
  {
   "cell_type": "code",
   "execution_count": 0,
   "metadata": {
    "colab": {},
    "colab_type": "code",
    "id": "Ge2GsLNxVqAK"
   },
   "outputs": [],
   "source": [
    "answers['25'] = '3. Midnight Picture Show'\n",
    "# +"
   ]
  },
  {
   "cell_type": "code",
   "execution_count": null,
   "metadata": {},
   "outputs": [],
   "source": [
    "'''Задача 25. Описание фильмов какой студии в среднем самые длинные по количеству слов? (Вариант 1)'''\n",
    "result_25 = pd.DataFrame()\n",
    "\n",
    "# Для каждого фильма формируем строку из названий студий и количества слов описания данного фильма и сводим их в один DataFrame\n",
    "tmp_25 = data.production_companies.apply(f_ser)\n",
    "l_colmn = len(tmp_25.columns)\n",
    "tmp_25[l_colmn] = data.overview.apply(words_count)\n",
    "\n",
    "# Из полученного DataFrame формируем DataFrame из двух столбцов: Студия + Количество слов\n",
    "for i in range(l_colmn): \n",
    "    res_temp = tmp_25[[0, l_colmn]]\n",
    "    result_25 = pd.concat([result_25, res_temp])\n",
    "    tmp_25[0] = tmp_25[i+1]\n",
    "\n",
    "result_25 = result_25.groupby([0])[l_colmn].mean().sort_values(ascending=False) # Получаем результат\n",
    "\n",
    "display('Задача 25. Описание фильмов какой студии в среднем самые длинные по количеству слов?',result_25.head())"
   ]
  },
  {
   "cell_type": "markdown",
   "metadata": {},
   "source": [
    "ВАРИАНТ 2"
   ]
  },
  {
   "cell_type": "code",
   "execution_count": null,
   "metadata": {},
   "outputs": [],
   "source": [
    "'''Задача 25. Описание фильмов какой студии в среднем самые длинные по количеству слов? (Вариант 2)'''\n",
    "result_25 = pd.DataFrame()\n",
    "tmp_25 = pd.DataFrame()\n",
    "\n",
    "i = 0\n",
    "# Формируем DataFrame: Студия + Длина описания фильма\n",
    "for list_comp in data.production_companies:\n",
    "    tmp_25[0] = f_ser(list_comp)\n",
    "    tmp_25[1] = words_count(data.overview.loc[i])\n",
    "    i += 1\n",
    "    result_25 = pd.concat([result_25, tmp_25])\n",
    "\n",
    "result_25 = result_25.dropna() # Удаляем строки, где есть NaN (не обязательно!)\n",
    "result_25 = result_25.groupby([0])[1].mean().sort_values(ascending=False) # Получаем результат\n",
    "\n",
    "display('Задача 25. Описание фильмов какой студии в среднем самые длинные по количеству слов?',result_25.head())"
   ]
  },
  {
   "cell_type": "markdown",
   "metadata": {
    "colab_type": "text",
    "id": "FJ1AFt90VqAP"
   },
   "source": [
    "# 26. Какие фильмы входят в 1 процент лучших по рейтингу? \n",
    "по vote_average"
   ]
  },
  {
   "cell_type": "code",
   "execution_count": 0,
   "metadata": {
    "colab": {},
    "colab_type": "code",
    "id": "8qmJVq4CVqAQ"
   },
   "outputs": [],
   "source": [
    "answers['26'] = '1. Inside Out, The Dark Knight, 12 Years a Slave'\n",
    "# +"
   ]
  },
  {
   "cell_type": "code",
   "execution_count": null,
   "metadata": {},
   "outputs": [],
   "source": [
    "'''Задача 26. Какие фильмы входят в 1 процент лучших по рейтингу?'''\n",
    "\n",
    "# Сортируем по рейтингу и оставляем первые 1/100 фильмов\n",
    "result_26 = data.sort_values('vote_average', ascending=False).head(int(len(data)/100))\n",
    "\n",
    "display('Задача 26. Какие фильмы входят в 1 процент лучших по рейтингу?',\n",
    "result_26[['imdb_id', 'original_title', 'vote_average']])"
   ]
  },
  {
   "cell_type": "markdown",
   "metadata": {
    "colab_type": "text",
    "id": "MdXsUXbCVqAV"
   },
   "source": [
    "# 27. Какие актеры чаще всего снимаются в одном фильме вместе?\n"
   ]
  },
  {
   "cell_type": "code",
   "execution_count": null,
   "metadata": {},
   "outputs": [],
   "source": [
    "answers['27'] = '5. Daniel Radcliffe & Rupert Grint'\n",
    "# +"
   ]
  },
  {
   "cell_type": "code",
   "execution_count": null,
   "metadata": {},
   "outputs": [],
   "source": [
    "'''Задача 27. Какие актеры чаще всего снимаются в одном фильме вместе?'''\n",
    "tmp_27 = pd.Series([''])\n",
    "\n",
    "for item in data.cast: # Формируем комбинации пар актеров по каждому фильму и формирование из них списка (типа Series)\n",
    "    tmp_27 = tmp_27.append(cmb(item))\n",
    "\n",
    "result_27 = tmp_27.value_counts() # Подсчет и ранжирование полученного результата\n",
    "\n",
    "display('Задача 27. Какие актеры чаще всего снимаются в одном фильме вместе?',result_27.head(5))"
   ]
  },
  {
   "cell_type": "markdown",
   "metadata": {
    "colab_type": "text",
    "id": "4ymnxEVoVqAW"
   },
   "source": [
    "ВАРИАНТ 2"
   ]
  },
  {
   "cell_type": "markdown",
   "metadata": {
    "colab_type": "text",
    "id": "U0nONFnGVqAX"
   },
   "source": [
    "# Submission"
   ]
  },
  {
   "cell_type": "code",
   "execution_count": 0,
   "metadata": {
    "colab": {},
    "colab_type": "code",
    "id": "IfcaRO9-VqAX",
    "outputId": "0f132912-32bb-4196-c98c-abfbc4ad5a5f"
   },
   "outputs": [
    {
     "data": {
      "text/plain": [
       "{'1': '...', '2': '...'}"
      ]
     },
     "execution_count": 8,
     "metadata": {
      "tags": []
     },
     "output_type": "execute_result"
    }
   ],
   "source": [
    "# в конце можно посмотреть свои ответы к каждому вопросу\n",
    "answers"
   ]
  },
  {
   "cell_type": "code",
   "execution_count": 0,
   "metadata": {
    "colab": {},
    "colab_type": "code",
    "id": "SiRmHPl8VqAd"
   },
   "outputs": [],
   "source": [
    "# и убедиться что ни чего не пропустил)\n",
    "len(answers)"
   ]
  },
  {
   "cell_type": "code",
   "execution_count": 0,
   "metadata": {
    "colab": {},
    "colab_type": "code",
    "id": "uCfuTkRbVqAg"
   },
   "outputs": [],
   "source": []
  },
  {
   "cell_type": "code",
   "execution_count": 0,
   "metadata": {
    "colab": {},
    "colab_type": "code",
    "id": "Vwx3NrkSVqAl"
   },
   "outputs": [],
   "source": []
  }
 ],
 "metadata": {
  "colab": {
   "name": "Copy of [SF-DST] Movies IMBD v4.1 TEMPLATE.ipynb",
   "provenance": []
  },
  "kernelspec": {
   "display_name": "Python 3",
   "language": "python",
   "name": "python3"
  },
  "language_info": {
   "codemirror_mode": {
    "name": "ipython",
    "version": 3
   },
   "file_extension": ".py",
   "mimetype": "text/x-python",
   "name": "python",
   "nbconvert_exporter": "python",
   "pygments_lexer": "ipython3",
   "version": "3.7.6"
  }
 },
 "nbformat": 4,
 "nbformat_minor": 1
}
