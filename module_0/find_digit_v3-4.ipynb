{
 "cells": [
  {
   "cell_type": "code",
   "execution_count": 12,
   "metadata": {},
   "outputs": [
    {
     "name": "stdout",
     "output_type": "stream",
     "text": [
      "Ваш алгоритм угадывает число в среднем за 33 попыток\n"
     ]
    },
    {
     "data": {
      "text/plain": [
       "33"
      ]
     },
     "execution_count": 12,
     "metadata": {},
     "output_type": "execute_result"
    }
   ],
   "source": [
    "                            '''Исходный код задания (варианты 1 и 2)'''\n",
    "\n",
    "def game_core_v1(number):\n",
    "    '''Просто угадываем на random, никак не используя информацию о больше или меньше.\n",
    "       Функция принимает загаданное число и возвращает число попыток'''\n",
    "    count = 0\n",
    "    while True:\n",
    "        count+=1\n",
    "        predict = np.random.randint(1,101) # предполагаемое число\n",
    "        if number == predict: \n",
    "            return(count) # выход из цикла, если угадали\n",
    "        \n",
    "def game_core_v2(number):\n",
    "    '''Сначала устанавливаем любое random число, а потом уменьшаем или увеличиваем его в зависимости от того, больше оно или меньше нужного.\n",
    "       Функция принимает загаданное число и возвращает число попыток'''\n",
    "    count = 1\n",
    "    predict = np.random.randint(1,101)\n",
    "    while number != predict:\n",
    "        count+=1\n",
    "        if number > predict: \n",
    "            predict += 1\n",
    "        elif number < predict: \n",
    "            predict -= 1\n",
    "    return(count) # выход из цикла, если угадали\n",
    "\n",
    "def score_game(game_core):\n",
    "    '''Запускаем игру 1000 раз, чтобы узнать, как быстро игра угадывает число'''\n",
    "    count_ls = []\n",
    "    np.random.seed(1)  # фиксируем RANDOM SEED, чтобы ваш эксперимент был воспроизводим!\n",
    "    random_array = np.random.randint(1,101, size=(1000))\n",
    "    for number in random_array:\n",
    "        count_ls.append(game_core(number))\n",
    "    score = int(np.mean(count_ls))\n",
    "    print(f\"Ваш алгоритм угадывает число в среднем за {score} попыток\")\n",
    "    return(score)\n",
    "\n",
    "score_game(game_core_v2)"
   ]
  },
  {
   "cell_type": "code",
   "execution_count": 19,
   "metadata": {},
   "outputs": [
    {
     "name": "stdout",
     "output_type": "stream",
     "text": [
      "Данный алгоритм угадывает число в среднем за 5 попыток\n"
     ]
    },
    {
     "data": {
      "text/plain": [
       "5"
      ]
     },
     "execution_count": 19,
     "metadata": {},
     "output_type": "execute_result"
    }
   ],
   "source": [
    "'''Мой вариант кода с поиском числа от 0 до 100 (вариант 3)'''\n",
    "\n",
    "import numpy as np\n",
    "\n",
    "def game_core_v3(number):\n",
    "    \n",
    "    ''' Функция поиска заданного числа от 0 до 100\n",
    "    \n",
    "        Функция принимает заданное число и возвращает число попыток его поиска.\n",
    "        Сначала сравниваем искомое число с 50, а потом сужаем границы диапазона поиска в два раза, \n",
    "        в зависимости от того, больше искомое число или меньше границы диапазона.\n",
    "            \n",
    "    '''\n",
    "    \n",
    "    count = 1\n",
    "    predict = 50\n",
    "    step = int(predict/2) # Шаг поиска\n",
    "\n",
    "    while number != predict: # Цикл, пока не найдём число\n",
    "\n",
    "        count += 1\n",
    "        \n",
    "        if number > predict: # Новое число поиска\n",
    "            predict += step\n",
    "        else:\n",
    "            predict -= step\n",
    "        \n",
    "        if step > 1: # Уменьшение шага поиска в два раза, пока шаг не станет равным 1\n",
    "            step = int((step)/2)\n",
    "\n",
    "    return(count)\n",
    "\n",
    "\n",
    "def score_game(game_core):\n",
    "    \n",
    "    '''Запускаем игру 1000 раз, чтобы узнать, как быстро игра угадывает число от 0 до 100'''\n",
    "    \n",
    "    count_ls = []\n",
    "    np.random.seed(1)  # фиксируем RANDOM SEED (точку отсчета), чтобы эксперимент был воспроизводим!\n",
    "    random_array = np.random.randint(1,101, size=(1000)) # Выбор целого искомого числа для каждого из 1000 случаев\n",
    "    \n",
    "    for number in random_array:\n",
    "        count_ls.append(game_core(number))\n",
    "    \n",
    "    score = int(np.mean(count_ls)) # Вычисление среднего\n",
    "    print(f\"Данный алгоритм угадывает число в среднем за {score} попыток\")\n",
    "    \n",
    "    return(score)\n",
    "\n",
    "\n",
    "score_game(game_core_v3) # Запуск программы"
   ]
  },
  {
   "cell_type": "code",
   "execution_count": 12,
   "metadata": {},
   "outputs": [
    {
     "name": "stdout",
     "output_type": "stream",
     "text": [
      "Введите верхнюю границу диапазона задания и поиска числа от 10 до...: явоао\n",
      "Число введено неправильно! Введите заново: й34ефа\n",
      "Число введено неправильно! Введите заново: 6\n",
      "Число введено неправильно! Введите заново: 355\n",
      "Данный алгоритм угадывает число в среднем за 7 попыток\n"
     ]
    },
    {
     "data": {
      "text/plain": [
       "7"
      ]
     },
     "execution_count": 12,
     "metadata": {},
     "output_type": "execute_result"
    }
   ],
   "source": [
    "''' Вариант кода с поиском ЛЮБОГО числа в диапазоне от 10 до заданного значения\n",
    "    с проверкой правильности введения числа (вариант 4) '''\n",
    "\n",
    "import numpy as np\n",
    "import re\n",
    "\n",
    "\n",
    "def game_core_v4(number):\n",
    "    \n",
    "    ''' Функция поиска заданного числа\n",
    "        \n",
    "        Функция принимает заданное число и возвращает число попыток его поиска\n",
    "        Сначала сравниваем искомое число с серединой заданного диапазона,\n",
    "        затем сужаем границы диапазона поиска в два раза,\n",
    "        в зависимости от того, больше искомое число или меньше границы диапазона.\n",
    "                \n",
    "    '''\n",
    "    \n",
    "    count = 1\n",
    "    predict = int(predict1/2) # Середина заданного диапазона\n",
    "    step = int(predict/2) # Шаг поиска\n",
    "    \n",
    "    while number != predict: # Цикл, пока не найдём число\n",
    "        count += 1 # Счетчик попыток\n",
    "        \n",
    "        if number > predict: # Новое число поиска\n",
    "            predict += step\n",
    "        else:\n",
    "            predict -= step\n",
    "        \n",
    "        if step > 1: # Уменьшение шага поиска в два раза, пока шаг не станет равным 1\n",
    "            step = int((step)/2)\n",
    "\n",
    "    return(count)\n",
    "\n",
    "\n",
    "def score_game(game_core):\n",
    "    \n",
    "    ''' Запускаем игру 1000 раз, чтобы узнать, как быстро игра угадывает ЛЮБОЕ число из заданного диапазона '''\n",
    "    \n",
    "    count_ls = []\n",
    "    np.random.seed(1)  # Фиксируем RANDOM SEED (точку отсчета), чтобы эксперимент был воспроизводим!\n",
    "    random_array = np.random.randint(1,predict1, size=(1000)) # Выбор целого искомого числа в заданном диапазоне\n",
    "    \n",
    "    for number in random_array:\n",
    "        count_ls.append(game_core(number))\n",
    "    \n",
    "    score = int(np.mean(count_ls))\n",
    "    print(f\"Данный алгоритм угадывает число в среднем за {score} попыток\")\n",
    "    \n",
    "    return(score)\n",
    "\n",
    "\n",
    "''' Подготовка к запуску и запуск программы '''\n",
    "\n",
    "predict1 = input('Введите верхнюю границу диапазона задания и поиска числа от 10 до...: ')\n",
    "\n",
    "'''Проверка на введение целочисленного значения > 10'''\n",
    "while len(predict1) != len(re.findall(r'\\d', predict1)) or int(predict1) < 10:\n",
    "    predict1 = input(\"Число введено неправильно! Введите заново: \")\n",
    "    \n",
    "predict1 = int(predict1) # Заданный верхний предел поиска числа\n",
    "\n",
    "score_game(game_core_v4) # Запуск программы"
   ]
  },
  {
   "cell_type": "code",
   "execution_count": null,
   "metadata": {},
   "outputs": [],
   "source": []
  }
 ],
 "metadata": {
  "kernelspec": {
   "display_name": "Python 3",
   "language": "python",
   "name": "python3"
  },
  "language_info": {
   "codemirror_mode": {
    "name": "ipython",
    "version": 3
   },
   "file_extension": ".py",
   "mimetype": "text/x-python",
   "name": "python",
   "nbconvert_exporter": "python",
   "pygments_lexer": "ipython3",
   "version": "3.7.6"
  }
 },
 "nbformat": 4,
 "nbformat_minor": 4
}
